{
 "cells": [
  {
   "cell_type": "code",
   "execution_count": 1,
   "metadata": {},
   "outputs": [],
   "source": [
    "import pandas as pd\n",
    "import numpy as np\n",
    "import matplotlib\n",
    "import matplotlib.pylab as plt\n",
    "import csv\n",
    "\n",
    "#df = pd.read_csv('data.csv')\n",
    "#print(df.to_string()) "
   ]
  },
  {
   "attachments": {},
   "cell_type": "markdown",
   "metadata": {},
   "source": [
    "# Data Extraction"
   ]
  },
  {
   "cell_type": "code",
   "execution_count": 2,
   "metadata": {},
   "outputs": [],
   "source": [
    "file = open(\"./results_data/model 2/spacing0.9/data1.csv\" , \"r\")\n",
    "data = list(csv.reader(file,delimiter=\",\"))\n",
    "preds= []\n",
    "pred_time =[]\n",
    "targets = []\n",
    "time= []\n",
    "hit = []\n",
    "\n",
    "#data extraction\n",
    "for i in range(1,101):\n",
    "    idx1=data[i].index(\"time\")\n",
    "    preds.append([eval(i) for i in data[i][1:idx1]])\n",
    "    idx2=data[i].index(\"target\")\n",
    "    pred_time.append([float((i)[6:-1]) for i in data[i][idx1+1:idx2]])\n",
    "    targets.append(int(data[i][-3]))\n",
    "    time.append(float((data[i][-2])[6:-1]))\n",
    "    hit.append(1 if data[i][-1]=='AI' else 0)"
   ]
  },
  {
   "cell_type": "code",
   "execution_count": 3,
   "metadata": {},
   "outputs": [],
   "source": [
    "AI_pred = [preds[i] for i, x in enumerate(hit) if x == 1]\n",
    "time_target = [time[i] for i, x in enumerate(hit) if x == 1]\n",
    "AI_target = [targets[i] for i, x in enumerate(hit) if x == 1]\n",
    "AI_time = [pred_time[i] for i, x in enumerate(hit) if x == 1]\n",
    "time_faster = []\n",
    "for i in range(len(AI_pred)):\n",
    "    try:\n",
    "        idx = len(AI_pred[i])-np.where(np.array(AI_pred[i][::-1]) != AI_target[i])[0][0]\n",
    "    except IndexError:\n",
    "        idx = 0\n",
    "    #print(i)\n",
    "    time_faster.append(time_target[i]-AI_time[i][idx]) \n",
    "\n"
   ]
  },
  {
   "cell_type": "code",
   "execution_count": 4,
   "metadata": {},
   "outputs": [
    {
     "name": "stdout",
     "output_type": "stream",
     "text": [
      "0.5220100000000002\n"
     ]
    },
    {
     "data": {
      "image/png": "[encoded data removed]",
      "text/plain": [
       "<Figure size 640x480 with 1 Axes>"
      ]
     },
     "metadata": {},
     "output_type": "display_data"
    }
   ],
   "source": [
    "print(np.mean(time_faster))\n",
    "y, x, _ = plt.hist(time_faster, bins = 30)\n",
    "\n"
   ]
  },
  {
   "cell_type": "code",
   "execution_count": 5,
   "metadata": {},
   "outputs": [
    {
     "data": {
      "text/plain": [
       "100"
      ]
     },
     "execution_count": 5,
     "metadata": {},
     "output_type": "execute_result"
    }
   ],
   "source": [
    "len(AI_pred)"
   ]
  },
  {
   "cell_type": "code",
   "execution_count": 336,
   "metadata": {},
   "outputs": [
    {
     "data": {
      "text/plain": [
       "0.902000000000001"
      ]
     },
     "execution_count": 336,
     "metadata": {},
     "output_type": "execute_result"
    }
   ],
   "source": [
    "time_target[44]-AI_time[44][15]"
   ]
  },
  {
   "cell_type": "code",
   "execution_count": 346,
   "metadata": {},
   "outputs": [
    {
     "data": {
      "text/plain": [
       "[3, 3, 3, 3, 3, 3, 3, 4, 4, 4, 5, 5, 5, 5, 5, 5, 5, 5, 4, 4, 4, 4]"
      ]
     },
     "execution_count": 346,
     "metadata": {},
     "output_type": "execute_result"
    }
   ],
   "source": [
    "AI_pred[77]"
   ]
  },
  {
   "cell_type": "code",
   "execution_count": 348,
   "metadata": {},
   "outputs": [
    {
     "data": {
      "text/plain": [
       "18"
      ]
     },
     "execution_count": 348,
     "metadata": {},
     "output_type": "execute_result"
    }
   ],
   "source": [
    "idx = len(AI_pred[77])-np.where(np.array(AI_pred[77][::-1]) != AI_target[77])[0][0]\n",
    "idx"
   ]
  },
  {
   "cell_type": "code",
   "execution_count": 355,
   "metadata": {},
   "outputs": [
    {
     "data": {
      "text/plain": [
       "-57.762"
      ]
     },
     "execution_count": 355,
     "metadata": {},
     "output_type": "execute_result"
    }
   ],
   "source": [
    "time_target[77]-AI_time[77][0]"
   ]
  },
  {
   "cell_type": "code",
   "execution_count": 354,
   "metadata": {},
   "outputs": [
    {
     "data": {
      "text/plain": [
       "-57.762"
      ]
     },
     "execution_count": 354,
     "metadata": {},
     "output_type": "execute_result"
    }
   ],
   "source": []
  },
  {
   "cell_type": "code",
   "execution_count": null,
   "metadata": {},
   "outputs": [],
   "source": []
  }
 ],
 "metadata": {
  "kernelspec": {
   "display_name": "Python 3",
   "language": "python",
   "name": "python3"
  },
  "language_info": {
   "codemirror_mode": {
    "name": "ipython",
    "version": 3
   },
   "file_extension": ".py",
   "mimetype": "text/x-python",
   "name": "python",
   "nbconvert_exporter": "python",
   "pygments_lexer": "ipython3",
   "version": "3.10.8"
  },
  "orig_nbformat": 4,
  "vscode": {
   "interpreter": {
    "hash": "26de051ba29f2982a8de78e945f0abaf191376122a1563185a90213a26c5da77"
   }
  }
 },
 "nbformat": 4,
 "nbformat_minor": 2
}
