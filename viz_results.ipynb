{
 "cells": [
  {
   "cell_type": "code",
   "execution_count": 2,
   "metadata": {},
   "outputs": [],
   "source": [
    "import pandas as pd\n",
    "import numpy as np\n",
    "import matplotlib\n",
    "import matplotlib.pylab as plt\n",
    "import csv\n",
    "\n",
    "#df = pd.read_csv('data.csv')\n",
    "#print(df.to_string()) "
   ]
  },
  {
   "attachments": {},
   "cell_type": "markdown",
   "metadata": {},
   "source": [
    "# Data Extraction"
   ]
  },
  {
   "cell_type": "code",
   "execution_count": 4,
   "metadata": {},
   "outputs": [],
   "source": [
    "file = open(\"./results_data/model 7 (dtw 0.7)/spacing0.58/data1.csv\" , \"r\")\n",
    "data = list(csv.reader(file,delimiter=\",\"))\n",
    "preds= []\n",
    "pred_time =[]\n",
    "targets = []\n",
    "time= []\n",
    "hit = []\n",
    "\n",
    "#data extraction\n",
    "for i in range(1,101):\n",
    "    #print(i)\n",
    "    data[i] = [j for j in data[i] if j]\n",
    "    idx1=data[i].index(\"time\")\n",
    "    preds.append([eval(i) for i in data[i][1:idx1]])\n",
    "    idx2=data[i].index(\"target\")\n",
    "    pred_time.append([float((i)[6:-1]) for i in data[i][idx1+1:idx2]])\n",
    "    targets.append(int(data[i][-3]))\n",
    "    time.append(float((data[i][-2])[6:-1]))\n",
    "    hit.append(1 if data[i][-1]=='AI' else 0)"
   ]
  },
  {
   "cell_type": "code",
   "execution_count": 5,
   "metadata": {},
   "outputs": [],
   "source": [
    "AI_pred1 = [preds[i] for i, x in enumerate(hit) if x == 1]\n",
    "time_target1 = [time[i] for i, x in enumerate(hit) if x == 1]\n",
    "AI_target1= [targets[i] for i, x in enumerate(hit) if x == 1]\n",
    "AI_time1 = [pred_time[i] for i, x in enumerate(hit) if x == 1]\n",
    "\n",
    "AI_pred = [x for i,x in enumerate(AI_pred1) if AI_pred1[i][-1] == AI_target1[i]]\n",
    "time_target = [x for i,x in enumerate(time_target1) if AI_pred1[i][-1] == AI_target1[i]]\n",
    "AI_target = [x for i,x in enumerate(AI_target1) if AI_pred1[i][-1] == AI_target1[i]]\n",
    "AI_time = [x for i,x in enumerate(AI_time1) if AI_pred1[i][-1] == AI_target1[i]]\n",
    "\n",
    "time_faster = []\n",
    "for i in range(len(AI_pred)):\n",
    "   # print(i)\n",
    "    try:\n",
    "        idx = len(AI_pred[i])-np.where(np.array(AI_pred[i][::-1]) != AI_target[i])[0][0]\n",
    "    except IndexError:\n",
    "        idx = 0\n",
    "    time_faster.append(time_target[i]-AI_time[i][idx]) \n",
    "    if(time_faster[-1]<0):\n",
    "        time_faster.pop(-1)\n",
    "\n"
   ]
  },
  {
   "cell_type": "code",
   "execution_count": 6,
   "metadata": {},
   "outputs": [
    {
     "data": {
      "text/plain": [
       "8"
      ]
     },
     "execution_count": 6,
     "metadata": {},
     "output_type": "execute_result"
    },
    {
     "data": {
      "image/png": "[encoded data removed]",
      "text/plain": [
       "<Figure size 640x480 with 1 Axes>"
      ]
     },
     "metadata": {},
     "output_type": "display_data"
    }
   ],
   "source": [
    "y, x, _ = plt.hist(time_faster, bins = 10)\n",
    "time_faster.index(min(time_faster))\n",
    "\n",
    "\n"
   ]
  },
  {
   "cell_type": "code",
   "execution_count": 7,
   "metadata": {},
   "outputs": [
    {
     "name": "stdout",
     "output_type": "stream",
     "text": [
      "time:  0.04800000000000182 seconds\n",
      "Accuracy:  19 %\n"
     ]
    }
   ],
   "source": [
    "print(\"time: \",x[np.where(y == max(y))[0][0]],\"seconds\")\n",
    "print(\"Accuracy: \",len(AI_pred),\"%\")"
   ]
  },
  {
   "cell_type": "code",
   "execution_count": null,
   "metadata": {},
   "outputs": [],
   "source": []
  },
  {
   "cell_type": "code",
   "execution_count": null,
   "metadata": {},
   "outputs": [],
   "source": []
  }
 ],
 "metadata": {
  "kernelspec": {
   "display_name": "Python 3",
   "language": "python",
   "name": "python3"
  },
  "language_info": {
   "codemirror_mode": {
    "name": "ipython",
    "version": 3
   },
   "file_extension": ".py",
   "mimetype": "text/x-python",
   "name": "python",
   "nbconvert_exporter": "python",
   "pygments_lexer": "ipython3",
   "version": "3.10.8"
  },
  "orig_nbformat": 4,
  "vscode": {
   "interpreter": {
    "hash": "26de051ba29f2982a8de78e945f0abaf191376122a1563185a90213a26c5da77"
   }
  }
 },
 "nbformat": 4,
 "nbformat_minor": 2
}
