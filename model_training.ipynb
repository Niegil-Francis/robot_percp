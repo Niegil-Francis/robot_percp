{
 "cells": [
  {
   "cell_type": "code",
   "execution_count": 61,
   "metadata": {
    "executionInfo": {
     "elapsed": 785,
     "status": "ok",
     "timestamp": 1670472818051,
     "user": {
      "displayName": "Niegil Francis Muttath Joseph",
      "userId": "14540288352466598089"
     },
     "user_tz": 300
    },
    "id": "yu0OV4sf1nk8"
   },
   "outputs": [],
   "source": [
    "import pandas as pd\n",
    "import glob\n",
    "import numpy as np\n",
    "import matplotlib.pyplot as plt\n",
    "from mpl_toolkits.mplot3d import Axes3D"
   ]
  },
  {
   "cell_type": "code",
   "execution_count": 62,
   "metadata": {
    "executionInfo": {
     "elapsed": 4,
     "status": "ok",
     "timestamp": 1670472819084,
     "user": {
      "displayName": "Niegil Francis Muttath Joseph",
      "userId": "14540288352466598089"
     },
     "user_tz": 300
    },
    "id": "svhuDSYP1nk-",
    "scrolled": true
   },
   "outputs": [],
   "source": [
    "import requests\n",
    "import re\n",
    "import os\n",
    "import zipfile\n",
    "import collections\n",
    "import urllib.request\n",
    "from collections import defaultdict\n",
    "%matplotlib inline\n",
    "from IPython.core.display import HTML\n",
    "from collections import defaultdict\n",
    "import time\n",
    "import random\n",
    "\n",
    "import tensorflow as tf\n",
    "from tensorflow.python import keras\n",
    "from tensorflow.python.keras import backend as K\n",
    "from tensorflow.python.keras.models import Model\n",
    "from tensorflow.keras.models import load_model\n",
    "from tensorflow.keras.optimizers import Adam\n",
    "\n",
    "from sklearn.model_selection import train_test_split\n",
    "from sklearn.preprocessing import OneHotEncoder\n",
    "from sklearn.metrics import accuracy_score\n"
   ]
  },
  {
   "cell_type": "code",
   "execution_count": 4,
   "metadata": {
    "colab": {
     "base_uri": "https://localhost:8080/"
    },
    "executionInfo": {
     "elapsed": 9,
     "status": "ok",
     "timestamp": 1670472822205,
     "user": {
      "displayName": "Niegil Francis Muttath Joseph",
      "userId": "14540288352466598089"
     },
     "user_tz": 300
    },
    "id": "vGhXf6lC1nk_",
    "outputId": "478747bb-6f8c-481d-ebb4-82b506528c55"
   },
   "outputs": [
    {
     "name": "stdout",
     "output_type": "stream",
     "text": [
      "tensorflow version 2.11.0\n",
      "keras version 2.11.0\n",
      "Eager Execution Enabled: True\n"
     ]
    },
    {
     "name": "stderr",
     "output_type": "stream",
     "text": [
      "2022-12-12 11:55:00.101821: I tensorflow/core/platform/cpu_feature_guard.cc:193] This TensorFlow binary is optimized with oneAPI Deep Neural Network Library (oneDNN) to use the following CPU instructions in performance-critical operations:  AVX2 AVX512F AVX512_VNNI FMA\n",
      "To enable them in other operations, rebuild TensorFlow with the appropriate compiler flags.\n",
      "2022-12-12 11:55:00.718504: I tensorflow/core/common_runtime/gpu/gpu_device.cc:1613] Created device /job:localhost/replica:0/task:0/device:GPU:0 with 30972 MB memory:  -> device: 0, name: Tesla V100-SXM2-32GB, pci bus id: 0000:af:00.0, compute capability: 7.0\n"
     ]
    },
    {
     "name": "stdout",
     "output_type": "stream",
     "text": [
      "INFO:tensorflow:Using MirroredStrategy with devices ('/job:localhost/replica:0/task:0/device:GPU:0',)\n",
      "Number of replicas: 1\n",
      "Devices: [PhysicalDevice(name='/physical_device:CPU:0', device_type='CPU'), PhysicalDevice(name='/physical_device:GPU:0', device_type='GPU')]\n",
      "[LogicalDevice(name='/device:GPU:0', device_type='GPU')]\n",
      "GPU Available:  [PhysicalDevice(name='/physical_device:GPU:0', device_type='GPU')]\n",
      "All Physical Devices [PhysicalDevice(name='/physical_device:CPU:0', device_type='CPU'), PhysicalDevice(name='/physical_device:GPU:0', device_type='GPU')]\n"
     ]
    }
   ],
   "source": [
    "# Enable/Disable Eager Execution\n",
    "# Reference: https://www.tensorflow.org/guide/eager\n",
    "# TensorFlow's eager execution is an imperative programming environment that evaluates operations immediately, \n",
    "# without building graphs\n",
    "\n",
    "#tf.compat.v1.disable_eager_execution()\n",
    "#tf.compat.v1.enable_eager_execution()\n",
    "\n",
    "print(\"tensorflow version\", tf.__version__)\n",
    "print(\"keras version\", tf.keras.__version__)\n",
    "print(\"Eager Execution Enabled:\", tf.executing_eagerly())\n",
    "\n",
    "# Get the number of replicas \n",
    "strategy = tf.distribute.MirroredStrategy()\n",
    "print(\"Number of replicas:\", strategy.num_replicas_in_sync)\n",
    "\n",
    "devices = tf.config.experimental.get_visible_devices()\n",
    "print(\"Devices:\", devices)\n",
    "print(tf.config.experimental.list_logical_devices('GPU'))\n",
    "\n",
    "print(\"GPU Available: \", tf.config.list_physical_devices('GPU'))\n",
    "print(\"All Physical Devices\", tf.config.list_physical_devices())\n",
    "\n",
    "# Better performance with the tf.data API\n",
    "# Reference: https://www.tensorflow.org/guide/data_performance\n",
    "AUTOTUNE = tf.data.experimental.AUTOTUNE"
   ]
  },
  {
   "cell_type": "markdown",
   "metadata": {
    "id": "EtMgghJO1nlA"
   },
   "source": [
    "## Reading the data"
   ]
  },
  {
   "cell_type": "code",
   "execution_count": 5,
   "metadata": {
    "executionInfo": {
     "elapsed": 7156,
     "status": "ok",
     "timestamp": 1670461970917,
     "user": {
      "displayName": "Niegil Francis Muttath Joseph",
      "userId": "14540288352466598089"
     },
     "user_tz": 300
    },
    "id": "eSg0NnAgXpRg"
   },
   "outputs": [],
   "source": [
    "%%capture\n",
    "# !unzip \"./all_data/sep_0.7/data.zip\" -d \"./temp_data/sep_0.7/\""
   ]
  },
  {
   "cell_type": "code",
   "execution_count": 30,
   "metadata": {
    "executionInfo": {
     "elapsed": 4,
     "status": "ok",
     "timestamp": 1670472827844,
     "user": {
      "displayName": "Niegil Francis Muttath Joseph",
      "userId": "14540288352466598089"
     },
     "user_tz": 300
    },
    "id": "tbOPJ2jS1nlB"
   },
   "outputs": [],
   "source": [
    "# Getting the folder names \n",
    "folder_names = glob.glob(\"./temp_data/sep_0.7/data/*\")"
   ]
  },
  {
   "cell_type": "code",
   "execution_count": 31,
   "metadata": {
    "executionInfo": {
     "elapsed": 3,
     "status": "ok",
     "timestamp": 1670472829094,
     "user": {
      "displayName": "Niegil Francis Muttath Joseph",
      "userId": "14540288352466598089"
     },
     "user_tz": 300
    },
    "id": "JkZ1ScX01nlB"
   },
   "outputs": [],
   "source": [
    "# Getting the data names\n",
    "data_names = []\n",
    "for i in folder_names:\n",
    "    data_names.append(glob.glob(i+\"/*.csv\"))"
   ]
  },
  {
   "cell_type": "markdown",
   "metadata": {
    "id": "ng5z05Q61nlC"
   },
   "source": [
    "## Data Loading"
   ]
  },
  {
   "cell_type": "code",
   "execution_count": 32,
   "metadata": {
    "executionInfo": {
     "elapsed": 14851,
     "status": "ok",
     "timestamp": 1670472843943,
     "user": {
      "displayName": "Niegil Francis Muttath Joseph",
      "userId": "14540288352466598089"
     },
     "user_tz": 300
    },
    "id": "06RUU7IU1nlD"
   },
   "outputs": [],
   "source": [
    "# Datasets to skip \n",
    "skip = []\n",
    "\n",
    "# Labels of the datasets\n",
    "labels = []\n",
    "\n",
    "# Data list \n",
    "data = []\n",
    "\n",
    "\n",
    "# Getting the labels and data for each dataset\n",
    "for i in range(len(data_names)):\n",
    "    if i in skip:\n",
    "        continue\n",
    "    \n",
    "    for j in range(len(data_names[i])):\n",
    "        labels.append([data_names[i][j][data_names[i][j].find(\".csv\")-1]])\n",
    "        \n",
    "        # Cleaning data\n",
    "        df = pd.read_csv(data_names[i][j],skiprows = 1)\n",
    "        df.drop(columns=df.columns[-1], axis=1,  inplace=True)\n",
    "        \n",
    "        data.append(df)"
   ]
  },
  {
   "cell_type": "code",
   "execution_count": 33,
   "metadata": {
    "executionInfo": {
     "elapsed": 4,
     "status": "ok",
     "timestamp": 1670472843943,
     "user": {
      "displayName": "Niegil Francis Muttath Joseph",
      "userId": "14540288352466598089"
     },
     "user_tz": 300
    },
    "id": "OhMZiWrx1nlD"
   },
   "outputs": [],
   "source": [
    "# Changing the labels from int to string\n",
    "labels = [int(i)-1 for i in np.reshape(labels,(-1,))]"
   ]
  },
  {
   "cell_type": "code",
   "execution_count": 34,
   "metadata": {},
   "outputs": [],
   "source": [
    "# Targets for sep_1\n",
    "target = np.array([[-0.314,1.661,0.45],[0,1.661,0.45],[0.314,1.661,0.45],[-0.314,1.347,0.45],[0,1.347,0.45],[0.314,1.347,0.45],[-0.314,1.033,0.45],[0,1.033,0.45],[0.314,1.033,0.45]])"
   ]
  },
  {
   "cell_type": "code",
   "execution_count": 35,
   "metadata": {},
   "outputs": [],
   "source": [
    "labels_3d = [target[i] for i in labels]"
   ]
  },
  {
   "cell_type": "markdown",
   "metadata": {
    "id": "b3aWbcBR1nlD"
   },
   "source": [
    "## Adding Features"
   ]
  },
  {
   "cell_type": "code",
   "execution_count": 36,
   "metadata": {
    "executionInfo": {
     "elapsed": 57502,
     "status": "ok",
     "timestamp": 1670472901442,
     "user": {
      "displayName": "Niegil Francis Muttath Joseph",
      "userId": "14540288352466598089"
     },
     "user_tz": 300
    },
    "id": "6sJpWHrX1nlE"
   },
   "outputs": [],
   "source": [
    "# Adding the centroid of all the fingers to the data\n",
    "\n",
    "new_data = []\n",
    "\n",
    "for idx_1 in range(len(data)):\n",
    "\n",
    "    \n",
    "    # Grouped columns for centroid\n",
    "    grouped_columns_x = data[idx_1].columns[3::3] \n",
    "    grouped_columns_y = data[idx_1].columns[4::3]\n",
    "    grouped_columns_z = data[idx_1].columns[5::3]\n",
    "    \n",
    "    # Getting the centroid of the finger points\n",
    "    cent_x = np.mean(data[idx_1][grouped_columns_x],axis = 1)\n",
    "    cent_y = np.mean(data[idx_1][grouped_columns_y],axis = 1)\n",
    "    cent_z = np.mean(data[idx_1][grouped_columns_z],axis = 1)\n",
    "    \n",
    "    new_data.append(pd.concat([data[idx_1],cent_x,cent_y,cent_z],axis = 1))\n",
    "    "
   ]
  },
  {
   "cell_type": "markdown",
   "metadata": {
    "id": "zgaA_2SY0MDc"
   },
   "source": [
    "## Data Cleaning"
   ]
  },
  {
   "cell_type": "code",
   "execution_count": 37,
   "metadata": {
    "executionInfo": {
     "elapsed": 4,
     "status": "ok",
     "timestamp": 1670472901442,
     "user": {
      "displayName": "Niegil Francis Muttath Joseph",
      "userId": "14540288352466598089"
     },
     "user_tz": 300
    },
    "id": "MUjsQWtJsKIn"
   },
   "outputs": [],
   "source": [
    "# Pulling only the centroid data \n",
    "cent_data = [i.iloc[:,-3:] for i in new_data]"
   ]
  },
  {
   "cell_type": "code",
   "execution_count": 38,
   "metadata": {
    "colab": {
     "base_uri": "https://localhost:8080/",
     "height": 297
    },
    "executionInfo": {
     "elapsed": 1245,
     "status": "ok",
     "timestamp": 1670472902684,
     "user": {
      "displayName": "Niegil Francis Muttath Joseph",
      "userId": "14540288352466598089"
     },
     "user_tz": 300
    },
    "id": "cq550A880PAk",
    "outputId": "8c0ba4d0-9ee8-4885-fe2b-e9f624183928"
   },
   "outputs": [
    {
     "data": {
      "image/png": "[encoded data removed]",
      "text/plain": [
       "<Figure size 640x480 with 1 Axes>"
      ]
     },
     "metadata": {},
     "output_type": "display_data"
    }
   ],
   "source": [
    "lengths = np.array([len(i) for i in cent_data])\n",
    "plt.hist(lengths)\n",
    "plt.xlabel(\"Trajectory length\")\n",
    "plt.ylabel(\"Number of trajectories\");"
   ]
  },
  {
   "cell_type": "code",
   "execution_count": 39,
   "metadata": {
    "executionInfo": {
     "elapsed": 10,
     "status": "ok",
     "timestamp": 1670472902685,
     "user": {
      "displayName": "Niegil Francis Muttath Joseph",
      "userId": "14540288352466598089"
     },
     "user_tz": 300
    },
    "id": "ymWVIli90Uu8"
   },
   "outputs": [],
   "source": [
    "# Removing trajectories with <=5 length\n",
    "idx = np.where(lengths <= 5.)[0]\n",
    "[labels.pop(j-i) for i,j in enumerate(idx)]\n",
    "[labels_3d.pop(j-i) for i,j in enumerate(idx)]\n",
    "[cent_data.pop(j-i) for i,j in enumerate(idx)];"
   ]
  },
  {
   "cell_type": "code",
   "execution_count": 40,
   "metadata": {
    "colab": {
     "base_uri": "https://localhost:8080/"
    },
    "executionInfo": {
     "elapsed": 10,
     "status": "ok",
     "timestamp": 1670472902685,
     "user": {
      "displayName": "Niegil Francis Muttath Joseph",
      "userId": "14540288352466598089"
     },
     "user_tz": 300
    },
    "id": "9X0N0OYxcyyJ",
    "outputId": "e7d207da-0b10-4219-ad7d-a7ab34848596"
   },
   "outputs": [
    {
     "data": {
      "text/plain": [
       "(array([], dtype=int64),)"
      ]
     },
     "execution_count": 40,
     "metadata": {},
     "output_type": "execute_result"
    }
   ],
   "source": [
    "# Checking to see if it worked \n",
    "lengths = np.array([len(i) for i in cent_data])\n",
    "np.where(lengths <= 5.)"
   ]
  },
  {
   "cell_type": "code",
   "execution_count": 41,
   "metadata": {
    "executionInfo": {
     "elapsed": 8,
     "status": "ok",
     "timestamp": 1670472902685,
     "user": {
      "displayName": "Niegil Francis Muttath Joseph",
      "userId": "14540288352466598089"
     },
     "user_tz": 300
    },
    "id": "hfPRW0S7UN4b"
   },
   "outputs": [],
   "source": [
    "# Train test split\n",
    "x_train, x_test, y_train, y_test = train_test_split(cent_data, labels, test_size=0.2)\n",
    "# x_train, x_test, y_train, y_test = train_test_split(cent_data, labels_3d, test_size=0.2)"
   ]
  },
  {
   "cell_type": "markdown",
   "metadata": {
    "id": "9_dZtq9NzYnZ"
   },
   "source": [
    "## Data Augmentation"
   ]
  },
  {
   "cell_type": "code",
   "execution_count": 42,
   "metadata": {
    "executionInfo": {
     "elapsed": 9,
     "status": "ok",
     "timestamp": 1670472902686,
     "user": {
      "displayName": "Niegil Francis Muttath Joseph",
      "userId": "14540288352466598089"
     },
     "user_tz": 300
    },
    "id": "LiOpfkOpaYuO"
   },
   "outputs": [],
   "source": [
    "x_train_aug = []\n",
    "for idx,i in enumerate(x_train):\n",
    "    ch = np.random.choice([0,1],p = [0.3,0.7])\n",
    "\n",
    "    flag = 0 \n",
    "\n",
    "    if ch == 0: # Perform data augmentation\n",
    "\n",
    "        trim = len(i)//2\n",
    "\n",
    "        if trim >= 5: # Trim if the lengths are greater than 5\n",
    "\n",
    "            aug = i.head(trim)\n",
    "\n",
    "        else: # If lengths are not greater than 1, don't trim\n",
    "\n",
    "            aug = i\n",
    "    else:\n",
    "        aug = i\n",
    "\n",
    "\n",
    "    x_train_aug.append(aug)\n"
   ]
  },
  {
   "cell_type": "code",
   "execution_count": 43,
   "metadata": {
    "colab": {
     "base_uri": "https://localhost:8080/"
    },
    "executionInfo": {
     "elapsed": 9,
     "status": "ok",
     "timestamp": 1670472902687,
     "user": {
      "displayName": "Niegil Francis Muttath Joseph",
      "userId": "14540288352466598089"
     },
     "user_tz": 300
    },
    "id": "4OWcaGqDBPvm",
    "outputId": "560f265e-c919-47cb-e3f7-41284420d962"
   },
   "outputs": [
    {
     "data": {
      "text/plain": [
       "(709, 709)"
      ]
     },
     "execution_count": 43,
     "metadata": {},
     "output_type": "execute_result"
    }
   ],
   "source": [
    "# Printing out the lengths after and before augmentation\n",
    "len(x_train_aug), len(x_train)"
   ]
  },
  {
   "cell_type": "markdown",
   "metadata": {},
   "source": [
    "## Data Formatting"
   ]
  },
  {
   "cell_type": "code",
   "execution_count": 44,
   "metadata": {
    "executionInfo": {
     "elapsed": 8,
     "status": "ok",
     "timestamp": 1670472902687,
     "user": {
      "displayName": "Niegil Francis Muttath Joseph",
      "userId": "14540288352466598089"
     },
     "user_tz": 300
    },
    "id": "kKLJbGtv1nlE"
   },
   "outputs": [],
   "source": [
    "# Getting the data in the required format for the model\n",
    "# Creating labels for RNN's output \n",
    "y_train = [[dt]*200 for idx,dt in enumerate(y_train)]\n",
    "y_test = [[dt]*200 for idx,dt in enumerate(y_test)]"
   ]
  },
  {
   "cell_type": "code",
   "execution_count": 45,
   "metadata": {
    "executionInfo": {
     "elapsed": 9,
     "status": "ok",
     "timestamp": 1670472902688,
     "user": {
      "displayName": "Niegil Francis Muttath Joseph",
      "userId": "14540288352466598089"
     },
     "user_tz": 300
    },
    "id": "evCXyI6-1nlE"
   },
   "outputs": [],
   "source": [
    "# Sequence length is based on data analysis\n",
    "x_train = tf.convert_to_tensor(tf.keras.preprocessing.sequence.pad_sequences(x_train, padding='post', dtype='float', maxlen=200))\n",
    "y_train = tf.convert_to_tensor(y_train)\n",
    "\n",
    "x_test = tf.convert_to_tensor(tf.keras.preprocessing.sequence.pad_sequences(x_test, padding='post', dtype='float', maxlen=200))\n",
    "y_test = tf.convert_to_tensor(y_test)"
   ]
  },
  {
   "cell_type": "code",
   "execution_count": 46,
   "metadata": {
    "executionInfo": {
     "elapsed": 9,
     "status": "ok",
     "timestamp": 1670472902688,
     "user": {
      "displayName": "Niegil Francis Muttath Joseph",
      "userId": "14540288352466598089"
     },
     "user_tz": 300
    },
    "id": "ryFy62Mk1nlF"
   },
   "outputs": [],
   "source": [
    "# One hot encoding the data for training - not required for label_3d\n",
    "y_train = tf.one_hot(y_train, 9, on_value = 1.0, off_value = 0.0)\n",
    "y_test = tf.one_hot(y_test, 9, on_value = 1.0, off_value = 0.0)"
   ]
  },
  {
   "cell_type": "markdown",
   "metadata": {
    "id": "JJc39yrs1nlE"
   },
   "source": [
    "## Models"
   ]
  },
  {
   "cell_type": "markdown",
   "metadata": {},
   "source": [
    "### Creating the RNN model"
   ]
  },
  {
   "cell_type": "code",
   "execution_count": 51,
   "metadata": {
    "executionInfo": {
     "elapsed": 8,
     "status": "ok",
     "timestamp": 1670472902688,
     "user": {
      "displayName": "Niegil Francis Muttath Joseph",
      "userId": "14540288352466598089"
     },
     "user_tz": 300
    },
    "id": "y12mcLmQ1nlF"
   },
   "outputs": [],
   "source": [
    "hidden_size= 10\n",
    "tf.keras.backend.clear_session()\n",
    "seq_input = tf.keras.Input(shape=x_train.shape[1:], name='input_layer')\n",
    "\n",
    "\n",
    "ip_reform = tf.keras.layers.Dense(hidden_size)\n",
    "\n",
    "ip_reformed = ip_reform(seq_input)\n",
    "\n",
    "RNN_1 = tf.keras.layers.SimpleRNN(hidden_size, return_sequences=True)\n",
    "h_1 = RNN_1(ip_reformed)\n",
    "\n",
    "RNN_2 = tf.keras.layers.SimpleRNN(hidden_size, return_sequences=True)\n",
    "h_2 = RNN_2(h_1)\n",
    "\n",
    "\n",
    "dense_2 = tf.keras.layers.Dense(9, activation='softmax')\n",
    "output = dense_2(h_2)\n",
    "\n",
    "model_RNN = tf.keras.models.Model(inputs=seq_input, outputs=output)\n",
    "\n",
    "model_RNN.compile(loss='categorical_crossentropy', metrics = ['accuracy'], optimizer=Adam(1e-2))"
   ]
  },
  {
   "cell_type": "markdown",
   "metadata": {},
   "source": [
    "### Creating the RNN model - labels_3d"
   ]
  },
  {
   "cell_type": "code",
   "execution_count": 52,
   "metadata": {},
   "outputs": [],
   "source": [
    "hidden_size= 10\n",
    "tf.keras.backend.clear_session()\n",
    "seq_input = tf.keras.Input(shape=x_train.shape[1:], name='input_layer')\n",
    "\n",
    "\n",
    "ip_reform = tf.keras.layers.Dense(hidden_size)\n",
    "\n",
    "ip_reformed = ip_reform(seq_input)\n",
    "\n",
    "RNN_1 = tf.keras.layers.SimpleRNN(hidden_size, return_sequences=True)\n",
    "h_1 = RNN_1(ip_reformed)\n",
    "\n",
    "RNN_2 = tf.keras.layers.SimpleRNN(hidden_size, return_sequences=True)\n",
    "h_2 = RNN_2(h_1)\n",
    "\n",
    "\n",
    "dense_2 = tf.keras.layers.Dense(3, activation='linear')\n",
    "output = dense_2(h_2)\n",
    "\n",
    "model_RNN_3d = tf.keras.models.Model(inputs=seq_input, outputs=output)\n",
    "\n",
    "model_RNN_3d.compile(loss='mse', metrics = ['mse'], optimizer=Adam(1e-2))"
   ]
  },
  {
   "cell_type": "markdown",
   "metadata": {},
   "source": [
    "### Creating the LSTM model"
   ]
  },
  {
   "cell_type": "code",
   "execution_count": 53,
   "metadata": {
    "executionInfo": {
     "elapsed": 9,
     "status": "ok",
     "timestamp": 1670472902689,
     "user": {
      "displayName": "Niegil Francis Muttath Joseph",
      "userId": "14540288352466598089"
     },
     "user_tz": 300
    },
    "id": "LJC8EL0egiGL"
   },
   "outputs": [],
   "source": [
    "hidden_size= 15\n",
    "tf.keras.backend.clear_session()\n",
    "seq_input = tf.keras.Input(shape=x_train.shape[1:], name='input_layer')\n",
    "\n",
    "ip_reform = tf.keras.layers.Dense(hidden_size)\n",
    "\n",
    "ip_reformed = ip_reform(seq_input)\n",
    "\n",
    "LSTM = tf.keras.layers.LSTM(hidden_size, return_sequences=True)\n",
    "h = LSTM(ip_reformed)\n",
    "\n",
    "dense = tf.keras.layers.Dense(9, activation='softmax')\n",
    "output = dense(h)\n",
    "\n",
    "model_LSTM = tf.keras.models.Model(inputs=seq_input, outputs=output)\n",
    "\n",
    "model_LSTM.compile(loss='categorical_crossentropy', metrics = ['accuracy'], optimizer=Adam(1e-2))"
   ]
  },
  {
   "cell_type": "markdown",
   "metadata": {},
   "source": [
    "### Creating the LSTM model - labels_3d"
   ]
  },
  {
   "cell_type": "code",
   "execution_count": 29,
   "metadata": {},
   "outputs": [],
   "source": [
    "hidden_size= 15\n",
    "tf.keras.backend.clear_session()\n",
    "seq_input = tf.keras.Input(shape=x_train.shape[1:], name='input_layer')\n",
    "\n",
    "ip_reform = tf.keras.layers.Dense(hidden_size)\n",
    "\n",
    "ip_reformed = ip_reform(seq_input)\n",
    "\n",
    "LSTM = tf.keras.layers.LSTM(hidden_size, return_sequences=True)\n",
    "h = LSTM(ip_reformed)\n",
    "\n",
    "dense = tf.keras.layers.Dense(3, activation='linear')\n",
    "output = dense(h)\n",
    "\n",
    "model_LSTM_3d = tf.keras.models.Model(inputs=seq_input, outputs=output)\n",
    "\n",
    "model_LSTM_3d.compile(loss='mse', metrics = ['mse'],optimizer=Adam(1e-2))"
   ]
  },
  {
   "cell_type": "markdown",
   "metadata": {},
   "source": [
    "### Creating the LSTM+RNN model"
   ]
  },
  {
   "cell_type": "code",
   "execution_count": 70,
   "metadata": {
    "executionInfo": {
     "elapsed": 9,
     "status": "ok",
     "timestamp": 1670472905553,
     "user": {
      "displayName": "Niegil Francis Muttath Joseph",
      "userId": "14540288352466598089"
     },
     "user_tz": 300
    },
    "id": "qsyhNfUNdb9D"
   },
   "outputs": [],
   "source": [
    "hidden_size= 15\n",
    "tf.keras.backend.clear_session()\n",
    "seq_input = tf.keras.Input(shape=x_train.shape[1:], name='input_layer')\n",
    "\n",
    "ip_reform = tf.keras.layers.Dense(hidden_size)\n",
    "\n",
    "ip_reformed = ip_reform(seq_input)\n",
    "\n",
    "RNN = tf.keras.layers.SimpleRNN(hidden_size, return_sequences=True)\n",
    "h_1 = RNN(ip_reformed)\n",
    "\n",
    "LSTM = tf.keras.layers.LSTM(hidden_size, return_sequences=True)\n",
    "h_2 = LSTM(h_1)\n",
    "\n",
    "dense = tf.keras.layers.Dense(9, activation='softmax')\n",
    "output = dense(h_2)\n",
    "\n",
    "model_RNN_LSTM = tf.keras.models.Model(inputs=seq_input, outputs=output)\n",
    "\n",
    "model_RNN_LSTM.compile(loss='categorical_crossentropy', metrics = ['accuracy'], optimizer=Adam(1e-2))"
   ]
  },
  {
   "cell_type": "markdown",
   "metadata": {},
   "source": [
    "### Creating the LSTM+RNN model - labels_3d"
   ]
  },
  {
   "cell_type": "code",
   "execution_count": 31,
   "metadata": {},
   "outputs": [],
   "source": [
    "hidden_size= 15\n",
    "tf.keras.backend.clear_session()\n",
    "seq_input = tf.keras.Input(shape=x_train.shape[1:], name='input_layer')\n",
    "\n",
    "ip_reform = tf.keras.layers.Dense(hidden_size)\n",
    "\n",
    "ip_reformed = ip_reform(seq_input)\n",
    "\n",
    "RNN = tf.keras.layers.SimpleRNN(hidden_size, return_sequences=True)\n",
    "h_1 = RNN(ip_reformed)\n",
    "\n",
    "LSTM = tf.keras.layers.LSTM(hidden_size, return_sequences=True)\n",
    "h_2 = LSTM(h_1)\n",
    "\n",
    "dense = tf.keras.layers.Dense(3, activation='linear')\n",
    "output = dense(h_2)\n",
    "\n",
    "model_RNN_LSTM_3d = tf.keras.models.Model(inputs=seq_input, outputs=output)\n",
    "\n",
    "model_RNN_LSTM_3d.compile(loss='mse', metrics = ['mse'], optimizer=Adam(1e-2))"
   ]
  },
  {
   "cell_type": "code",
   "execution_count": 69,
   "metadata": {
    "colab": {
     "base_uri": "https://localhost:8080/"
    },
    "executionInfo": {
     "elapsed": 8,
     "status": "ok",
     "timestamp": 1670472905553,
     "user": {
      "displayName": "Niegil Francis Muttath Joseph",
      "userId": "14540288352466598089"
     },
     "user_tz": 300
    },
    "id": "29kaMRnt1nlF",
    "outputId": "96eed065-c571-49cd-fffa-6e4ef9d4d358"
   },
   "outputs": [
    {
     "name": "stdout",
     "output_type": "stream",
     "text": [
      "Model: \"model\"\n",
      "_________________________________________________________________\n",
      " Layer (type)                Output Shape              Param #   \n",
      "=================================================================\n",
      " input_layer (InputLayer)    [(None, 200, 3)]          0         \n",
      "                                                                 \n",
      " dense (Dense)               (None, 200, 15)           60        \n",
      "                                                                 \n",
      " lstm (LSTM)                 (None, 200, 15)           1860      \n",
      "                                                                 \n",
      " dense_1 (Dense)             (None, 200, 9)            144       \n",
      "                                                                 \n",
      "=================================================================\n",
      "Total params: 2,064\n",
      "Trainable params: 2,064\n",
      "Non-trainable params: 0\n",
      "_________________________________________________________________\n"
     ]
    }
   ],
   "source": [
    "model_LSTM.summary()"
   ]
  },
  {
   "cell_type": "code",
   "execution_count": 72,
   "metadata": {
    "executionInfo": {
     "elapsed": 1593,
     "status": "ok",
     "timestamp": 1670472927009,
     "user": {
      "displayName": "Niegil Francis Muttath Joseph",
      "userId": "14540288352466598089"
     },
     "user_tz": 300
    },
    "id": "7B3g6dUGOOoU"
   },
   "outputs": [],
   "source": [
    "callbacks = tf.keras.callbacks.EarlyStopping(\n",
    "    monitor='val_accuracy',\n",
    "    patience=100,\n",
    "    restore_best_weights = True\n",
    ")"
   ]
  },
  {
   "cell_type": "code",
   "execution_count": 73,
   "metadata": {
    "colab": {
     "base_uri": "https://localhost:8080/"
    },
    "id": "RdnYYPv_1nlF",
    "outputId": "a1bb33a5-8b8c-446d-9016-a14cbc846054"
   },
   "outputs": [
    {
     "name": "stdout",
     "output_type": "stream",
     "text": [
      "Epoch 1/1000\n"
     ]
    },
    {
     "name": "stderr",
     "output_type": "stream",
     "text": [
      "2022-12-12 12:27:36.962874: I tensorflow/compiler/xla/service/service.cc:173] XLA service 0x563779732870 initialized for platform CUDA (this does not guarantee that XLA will be used). Devices:\n",
      "2022-12-12 12:27:36.962896: I tensorflow/compiler/xla/service/service.cc:181]   StreamExecutor device (0): Tesla V100-SXM2-32GB, Compute Capability 7.0\n",
      "2022-12-12 12:27:36.967191: I tensorflow/compiler/mlir/tensorflow/utils/dump_mlir_util.cc:268] disabling MLIR crash reproducer, set env var `MLIR_CRASH_REPRODUCER_DIRECTORY` to enable.\n",
      "2022-12-12 12:27:37.081779: I tensorflow/compiler/jit/xla_compilation_cache.cc:477] Compiled cluster using XLA!  This line is logged at most once for the lifetime of the process.\n"
     ]
    },
    {
     "name": "stdout",
     "output_type": "stream",
     "text": [
      "36/36 [==============================] - 6s 97ms/step - loss: 2.2071 - accuracy: 0.1029 - val_loss: 2.2136 - val_accuracy: 0.1036\n",
      "Epoch 2/1000\n",
      "36/36 [==============================] - 3s 85ms/step - loss: 2.1965 - accuracy: 0.1277 - val_loss: 2.1989 - val_accuracy: 0.1338\n",
      "Epoch 3/1000\n",
      "36/36 [==============================] - 3s 85ms/step - loss: 2.1904 - accuracy: 0.1319 - val_loss: 2.2066 - val_accuracy: 0.1260\n",
      "Epoch 4/1000\n",
      "36/36 [==============================] - 3s 85ms/step - loss: 2.1845 - accuracy: 0.1312 - val_loss: 2.1825 - val_accuracy: 0.1268\n",
      "Epoch 5/1000\n",
      "36/36 [==============================] - 3s 85ms/step - loss: 1.9095 - accuracy: 0.1756 - val_loss: 1.6946 - val_accuracy: 0.2362\n",
      "Epoch 6/1000\n",
      "36/36 [==============================] - 3s 85ms/step - loss: 1.7227 - accuracy: 0.2195 - val_loss: 1.7187 - val_accuracy: 0.2272\n",
      "Epoch 7/1000\n",
      "36/36 [==============================] - 3s 85ms/step - loss: 1.6847 - accuracy: 0.2081 - val_loss: 1.7014 - val_accuracy: 0.2273\n",
      "Epoch 8/1000\n",
      "36/36 [==============================] - 3s 85ms/step - loss: 1.6898 - accuracy: 0.2173 - val_loss: 1.6488 - val_accuracy: 0.1892\n",
      "Epoch 9/1000\n",
      "36/36 [==============================] - 3s 86ms/step - loss: 1.5873 - accuracy: 0.2585 - val_loss: 1.3868 - val_accuracy: 0.2437\n",
      "Epoch 10/1000\n",
      "36/36 [==============================] - 3s 85ms/step - loss: 1.3980 - accuracy: 0.2814 - val_loss: 1.3498 - val_accuracy: 0.2673\n",
      "Epoch 11/1000\n",
      "36/36 [==============================] - 3s 85ms/step - loss: 1.3472 - accuracy: 0.3174 - val_loss: 1.3135 - val_accuracy: 0.3020\n",
      "Epoch 12/1000\n",
      "36/36 [==============================] - 3s 85ms/step - loss: 1.3058 - accuracy: 0.3034 - val_loss: 1.2822 - val_accuracy: 0.2727\n",
      "Epoch 13/1000\n",
      "36/36 [==============================] - 3s 85ms/step - loss: 1.5219 - accuracy: 0.2829 - val_loss: 1.6616 - val_accuracy: 0.2732\n",
      "Epoch 14/1000\n",
      "36/36 [==============================] - 3s 85ms/step - loss: 1.8107 - accuracy: 0.2329 - val_loss: 1.7296 - val_accuracy: 0.1550\n",
      "Epoch 15/1000\n",
      "36/36 [==============================] - 3s 85ms/step - loss: 1.5675 - accuracy: 0.2872 - val_loss: 1.3900 - val_accuracy: 0.3387\n",
      "Epoch 16/1000\n",
      "36/36 [==============================] - 3s 85ms/step - loss: 1.3647 - accuracy: 0.2848 - val_loss: 1.3405 - val_accuracy: 0.2914\n",
      "Epoch 17/1000\n",
      "36/36 [==============================] - 3s 85ms/step - loss: 1.3354 - accuracy: 0.3287 - val_loss: 1.3431 - val_accuracy: 0.2848\n",
      "Epoch 18/1000\n",
      "36/36 [==============================] - 3s 85ms/step - loss: 1.3788 - accuracy: 0.2930 - val_loss: 1.3499 - val_accuracy: 0.2601\n",
      "Epoch 19/1000\n",
      "36/36 [==============================] - 3s 85ms/step - loss: 1.3348 - accuracy: 0.3379 - val_loss: 1.3377 - val_accuracy: 0.2954\n",
      "Epoch 20/1000\n",
      "36/36 [==============================] - 3s 85ms/step - loss: 1.3065 - accuracy: 0.3312 - val_loss: 1.3185 - val_accuracy: 0.2869\n",
      "Epoch 21/1000\n",
      "36/36 [==============================] - 3s 85ms/step - loss: 1.3164 - accuracy: 0.3576 - val_loss: 1.2909 - val_accuracy: 0.3313\n",
      "Epoch 22/1000\n",
      "36/36 [==============================] - 3s 85ms/step - loss: 1.3024 - accuracy: 0.3547 - val_loss: 1.3065 - val_accuracy: 0.2972\n",
      "Epoch 23/1000\n",
      "36/36 [==============================] - 3s 85ms/step - loss: 1.3247 - accuracy: 0.3661 - val_loss: 1.2756 - val_accuracy: 0.4009\n",
      "Epoch 24/1000\n",
      "36/36 [==============================] - 3s 85ms/step - loss: 1.2670 - accuracy: 0.3999 - val_loss: 1.3006 - val_accuracy: 0.3226\n",
      "Epoch 25/1000\n",
      "36/36 [==============================] - 3s 85ms/step - loss: 1.8403 - accuracy: 0.2561 - val_loss: 1.6925 - val_accuracy: 0.2118\n",
      "Epoch 26/1000\n",
      "36/36 [==============================] - 3s 86ms/step - loss: 1.5425 - accuracy: 0.3314 - val_loss: 1.4012 - val_accuracy: 0.3228\n",
      "Epoch 27/1000\n",
      "36/36 [==============================] - 3s 85ms/step - loss: 1.3116 - accuracy: 0.4230 - val_loss: 1.2724 - val_accuracy: 0.3882\n",
      "Epoch 28/1000\n",
      "36/36 [==============================] - 3s 86ms/step - loss: 1.1894 - accuracy: 0.4527 - val_loss: 1.1810 - val_accuracy: 0.4525\n",
      "Epoch 29/1000\n",
      "36/36 [==============================] - 3s 85ms/step - loss: 1.2233 - accuracy: 0.4650 - val_loss: 1.2322 - val_accuracy: 0.4605\n",
      "Epoch 30/1000\n",
      "36/36 [==============================] - 3s 85ms/step - loss: 1.2610 - accuracy: 0.4059 - val_loss: 1.1925 - val_accuracy: 0.4611\n",
      "Epoch 31/1000\n",
      "36/36 [==============================] - 3s 85ms/step - loss: 1.1322 - accuracy: 0.4903 - val_loss: 1.1022 - val_accuracy: 0.5155\n",
      "Epoch 32/1000\n",
      "36/36 [==============================] - 3s 85ms/step - loss: 1.1084 - accuracy: 0.4821 - val_loss: 1.1855 - val_accuracy: 0.3962\n",
      "Epoch 33/1000\n",
      "36/36 [==============================] - 3s 85ms/step - loss: 1.0759 - accuracy: 0.5095 - val_loss: 1.0699 - val_accuracy: 0.4890\n",
      "Epoch 34/1000\n",
      "36/36 [==============================] - 3s 85ms/step - loss: 1.1192 - accuracy: 0.4897 - val_loss: 1.1870 - val_accuracy: 0.3895\n",
      "Epoch 35/1000\n",
      "36/36 [==============================] - 3s 85ms/step - loss: 1.0751 - accuracy: 0.5140 - val_loss: 1.0435 - val_accuracy: 0.5152\n",
      "Epoch 36/1000\n",
      "36/36 [==============================] - 3s 86ms/step - loss: 1.0159 - accuracy: 0.5371 - val_loss: 0.9940 - val_accuracy: 0.5816\n",
      "Epoch 37/1000\n",
      "36/36 [==============================] - 3s 85ms/step - loss: 0.9922 - accuracy: 0.5596 - val_loss: 1.1617 - val_accuracy: 0.4281\n",
      "Epoch 38/1000\n",
      "36/36 [==============================] - 3s 86ms/step - loss: 1.0008 - accuracy: 0.5760 - val_loss: 1.0015 - val_accuracy: 0.5194\n",
      "Epoch 39/1000\n",
      "36/36 [==============================] - 3s 85ms/step - loss: 0.9225 - accuracy: 0.6020 - val_loss: 0.9173 - val_accuracy: 0.6085\n",
      "Epoch 40/1000\n",
      "36/36 [==============================] - 3s 85ms/step - loss: 0.9189 - accuracy: 0.6013 - val_loss: 1.8117 - val_accuracy: 0.3293\n",
      "Epoch 41/1000\n",
      "36/36 [==============================] - 3s 85ms/step - loss: 1.5411 - accuracy: 0.3998 - val_loss: 1.1951 - val_accuracy: 0.4462\n",
      "Epoch 42/1000\n",
      "36/36 [==============================] - 3s 85ms/step - loss: 1.1663 - accuracy: 0.4273 - val_loss: 1.0768 - val_accuracy: 0.5255\n",
      "Epoch 43/1000\n",
      "36/36 [==============================] - 3s 85ms/step - loss: 0.9933 - accuracy: 0.5656 - val_loss: 1.0106 - val_accuracy: 0.5388\n",
      "Epoch 44/1000\n",
      "36/36 [==============================] - 3s 85ms/step - loss: 0.9128 - accuracy: 0.6041 - val_loss: 0.9197 - val_accuracy: 0.6117\n",
      "Epoch 45/1000\n",
      "36/36 [==============================] - 3s 86ms/step - loss: 0.8629 - accuracy: 0.6507 - val_loss: 0.8247 - val_accuracy: 0.6350\n",
      "Epoch 46/1000\n",
      "36/36 [==============================] - 3s 86ms/step - loss: 0.8161 - accuracy: 0.6567 - val_loss: 0.8152 - val_accuracy: 0.6497\n",
      "Epoch 47/1000\n",
      "36/36 [==============================] - 3s 85ms/step - loss: 0.8909 - accuracy: 0.6104 - val_loss: 0.8274 - val_accuracy: 0.6438\n",
      "Epoch 48/1000\n",
      "36/36 [==============================] - 3s 86ms/step - loss: 0.7961 - accuracy: 0.6661 - val_loss: 0.7947 - val_accuracy: 0.6518\n",
      "Epoch 49/1000\n",
      "36/36 [==============================] - 3s 85ms/step - loss: 0.8016 - accuracy: 0.6532 - val_loss: 0.8543 - val_accuracy: 0.5733\n",
      "Epoch 50/1000\n",
      "36/36 [==============================] - 3s 86ms/step - loss: 0.8502 - accuracy: 0.6287 - val_loss: 0.8126 - val_accuracy: 0.6448\n",
      "Epoch 51/1000\n",
      "36/36 [==============================] - 3s 86ms/step - loss: 0.8182 - accuracy: 0.6404 - val_loss: 0.7709 - val_accuracy: 0.6661\n",
      "Epoch 52/1000\n",
      "36/36 [==============================] - 3s 86ms/step - loss: 0.7892 - accuracy: 0.6612 - val_loss: 0.7581 - val_accuracy: 0.6482\n",
      "Epoch 53/1000\n",
      "36/36 [==============================] - 3s 85ms/step - loss: 0.7555 - accuracy: 0.6668 - val_loss: 0.7561 - val_accuracy: 0.6518\n",
      "Epoch 54/1000\n",
      "36/36 [==============================] - 3s 85ms/step - loss: 0.7848 - accuracy: 0.6474 - val_loss: 0.7609 - val_accuracy: 0.6881\n",
      "Epoch 55/1000\n",
      "36/36 [==============================] - 3s 86ms/step - loss: 0.7590 - accuracy: 0.6648 - val_loss: 0.7144 - val_accuracy: 0.7112\n",
      "Epoch 56/1000\n",
      "36/36 [==============================] - 3s 86ms/step - loss: 0.7104 - accuracy: 0.7289 - val_loss: 0.7292 - val_accuracy: 0.7303\n",
      "Epoch 57/1000\n",
      "36/36 [==============================] - 3s 85ms/step - loss: 0.6732 - accuracy: 0.7423 - val_loss: 0.6607 - val_accuracy: 0.7467\n",
      "Epoch 58/1000\n"
     ]
    },
    {
     "name": "stdout",
     "output_type": "stream",
     "text": [
      "36/36 [==============================] - 3s 86ms/step - loss: 0.6463 - accuracy: 0.7463 - val_loss: 0.6196 - val_accuracy: 0.7849\n",
      "Epoch 59/1000\n",
      "36/36 [==============================] - 3s 85ms/step - loss: 0.7380 - accuracy: 0.6950 - val_loss: 0.6351 - val_accuracy: 0.7863\n",
      "Epoch 60/1000\n",
      "36/36 [==============================] - 3s 86ms/step - loss: 0.7154 - accuracy: 0.7119 - val_loss: 0.6130 - val_accuracy: 0.8173\n",
      "Epoch 61/1000\n",
      "36/36 [==============================] - 3s 85ms/step - loss: 0.6395 - accuracy: 0.7650 - val_loss: 0.5885 - val_accuracy: 0.7882\n",
      "Epoch 62/1000\n",
      "36/36 [==============================] - 3s 86ms/step - loss: 0.6329 - accuracy: 0.7576 - val_loss: 0.5827 - val_accuracy: 0.8049\n",
      "Epoch 63/1000\n",
      "36/36 [==============================] - 3s 85ms/step - loss: 0.6319 - accuracy: 0.7431 - val_loss: 0.5844 - val_accuracy: 0.7816\n",
      "Epoch 64/1000\n",
      "36/36 [==============================] - 3s 85ms/step - loss: 0.5950 - accuracy: 0.7666 - val_loss: 0.5497 - val_accuracy: 0.8049\n",
      "Epoch 65/1000\n",
      "36/36 [==============================] - 3s 86ms/step - loss: 0.6259 - accuracy: 0.7687 - val_loss: 0.8194 - val_accuracy: 0.6432\n",
      "Epoch 66/1000\n",
      "36/36 [==============================] - 3s 86ms/step - loss: 0.6344 - accuracy: 0.7665 - val_loss: 0.5105 - val_accuracy: 0.8346\n",
      "Epoch 67/1000\n",
      "36/36 [==============================] - 3s 86ms/step - loss: 0.5429 - accuracy: 0.8120 - val_loss: 0.5809 - val_accuracy: 0.7521\n",
      "Epoch 68/1000\n",
      "36/36 [==============================] - 3s 85ms/step - loss: 0.8020 - accuracy: 0.6980 - val_loss: 0.6567 - val_accuracy: 0.7255\n",
      "Epoch 69/1000\n",
      "36/36 [==============================] - 3s 86ms/step - loss: 0.5920 - accuracy: 0.7950 - val_loss: 0.5245 - val_accuracy: 0.8121\n",
      "Epoch 70/1000\n",
      "36/36 [==============================] - 3s 85ms/step - loss: 0.5104 - accuracy: 0.8284 - val_loss: 0.4935 - val_accuracy: 0.8476\n",
      "Epoch 71/1000\n",
      "36/36 [==============================] - 3s 86ms/step - loss: 0.5565 - accuracy: 0.8020 - val_loss: 0.6032 - val_accuracy: 0.7376\n",
      "Epoch 72/1000\n",
      "36/36 [==============================] - 3s 85ms/step - loss: 0.5658 - accuracy: 0.7743 - val_loss: 0.4823 - val_accuracy: 0.8546\n",
      "Epoch 73/1000\n",
      "36/36 [==============================] - 3s 86ms/step - loss: 0.5123 - accuracy: 0.8215 - val_loss: 0.4570 - val_accuracy: 0.8602\n",
      "Epoch 74/1000\n",
      "36/36 [==============================] - 3s 85ms/step - loss: 0.4809 - accuracy: 0.8278 - val_loss: 0.4467 - val_accuracy: 0.8465\n",
      "Epoch 75/1000\n",
      "36/36 [==============================] - 3s 86ms/step - loss: 0.4912 - accuracy: 0.8182 - val_loss: 0.4259 - val_accuracy: 0.8687\n",
      "Epoch 76/1000\n",
      "36/36 [==============================] - 3s 86ms/step - loss: 0.4318 - accuracy: 0.8591 - val_loss: 0.4041 - val_accuracy: 0.8696\n",
      "Epoch 77/1000\n",
      "36/36 [==============================] - 3s 86ms/step - loss: 0.4221 - accuracy: 0.8594 - val_loss: 0.4048 - val_accuracy: 0.8690\n",
      "Epoch 78/1000\n",
      "36/36 [==============================] - 3s 86ms/step - loss: 0.4484 - accuracy: 0.8421 - val_loss: 0.4820 - val_accuracy: 0.8289\n",
      "Epoch 79/1000\n",
      "36/36 [==============================] - 3s 86ms/step - loss: 0.4446 - accuracy: 0.8479 - val_loss: 0.3928 - val_accuracy: 0.8701\n",
      "Epoch 80/1000\n",
      "36/36 [==============================] - 3s 86ms/step - loss: 0.4968 - accuracy: 0.8236 - val_loss: 0.5208 - val_accuracy: 0.8056\n",
      "Epoch 81/1000\n",
      "36/36 [==============================] - 3s 86ms/step - loss: 0.7258 - accuracy: 0.7569 - val_loss: 0.4658 - val_accuracy: 0.8595\n",
      "Epoch 82/1000\n",
      "36/36 [==============================] - 3s 86ms/step - loss: 0.4946 - accuracy: 0.8316 - val_loss: 0.4459 - val_accuracy: 0.8516\n",
      "Epoch 83/1000\n",
      "36/36 [==============================] - 3s 85ms/step - loss: 0.4642 - accuracy: 0.8418 - val_loss: 0.6186 - val_accuracy: 0.7529\n",
      "Epoch 84/1000\n",
      "36/36 [==============================] - 3s 86ms/step - loss: 0.5266 - accuracy: 0.8080 - val_loss: 0.4862 - val_accuracy: 0.8068\n",
      "Epoch 85/1000\n",
      "36/36 [==============================] - 3s 86ms/step - loss: 0.4770 - accuracy: 0.8278 - val_loss: 0.5076 - val_accuracy: 0.8055\n",
      "Epoch 86/1000\n",
      "36/36 [==============================] - 3s 86ms/step - loss: 0.5789 - accuracy: 0.7785 - val_loss: 0.7890 - val_accuracy: 0.6970\n",
      "Epoch 87/1000\n",
      "36/36 [==============================] - 3s 86ms/step - loss: 1.0120 - accuracy: 0.6694 - val_loss: 0.7937 - val_accuracy: 0.6365\n",
      "Epoch 88/1000\n",
      "36/36 [==============================] - 3s 86ms/step - loss: 0.6935 - accuracy: 0.7085 - val_loss: 0.5999 - val_accuracy: 0.7677\n",
      "Epoch 89/1000\n",
      "36/36 [==============================] - 3s 85ms/step - loss: 0.4828 - accuracy: 0.8416 - val_loss: 0.4365 - val_accuracy: 0.8497\n",
      "Epoch 90/1000\n",
      "36/36 [==============================] - 3s 86ms/step - loss: 0.4191 - accuracy: 0.8611 - val_loss: 0.3938 - val_accuracy: 0.8713\n",
      "Epoch 91/1000\n",
      "36/36 [==============================] - 3s 86ms/step - loss: 0.5946 - accuracy: 0.8078 - val_loss: 0.4888 - val_accuracy: 0.8357\n",
      "Epoch 92/1000\n",
      "36/36 [==============================] - 3s 86ms/step - loss: 0.4532 - accuracy: 0.8427 - val_loss: 0.4011 - val_accuracy: 0.8613\n",
      "Epoch 93/1000\n",
      "36/36 [==============================] - 3s 86ms/step - loss: 0.4211 - accuracy: 0.8523 - val_loss: 0.3768 - val_accuracy: 0.8712\n",
      "Epoch 94/1000\n",
      "36/36 [==============================] - 3s 86ms/step - loss: 0.4096 - accuracy: 0.8530 - val_loss: 0.5343 - val_accuracy: 0.7896\n",
      "Epoch 95/1000\n",
      "36/36 [==============================] - 3s 86ms/step - loss: 0.4796 - accuracy: 0.8235 - val_loss: 1.0618 - val_accuracy: 0.6769\n",
      "Epoch 96/1000\n",
      "36/36 [==============================] - 3s 86ms/step - loss: 0.6352 - accuracy: 0.7540 - val_loss: 0.4642 - val_accuracy: 0.8502\n",
      "Epoch 97/1000\n",
      "36/36 [==============================] - 3s 86ms/step - loss: 0.4548 - accuracy: 0.8504 - val_loss: 0.4406 - val_accuracy: 0.8436\n",
      "Epoch 98/1000\n",
      "36/36 [==============================] - 3s 86ms/step - loss: 0.3989 - accuracy: 0.8639 - val_loss: 0.3768 - val_accuracy: 0.8729\n",
      "Epoch 99/1000\n",
      "36/36 [==============================] - 3s 86ms/step - loss: 0.3767 - accuracy: 0.8712 - val_loss: 0.3677 - val_accuracy: 0.8739\n",
      "Epoch 100/1000\n",
      "36/36 [==============================] - 3s 86ms/step - loss: 0.3693 - accuracy: 0.8721 - val_loss: 0.3797 - val_accuracy: 0.8622\n",
      "Epoch 101/1000\n",
      "36/36 [==============================] - 3s 86ms/step - loss: 0.3677 - accuracy: 0.8720 - val_loss: 0.3616 - val_accuracy: 0.8758\n",
      "Epoch 102/1000\n",
      "36/36 [==============================] - 3s 86ms/step - loss: 0.3646 - accuracy: 0.8714 - val_loss: 0.3572 - val_accuracy: 0.8741\n",
      "Epoch 103/1000\n",
      "36/36 [==============================] - 3s 86ms/step - loss: 0.3868 - accuracy: 0.8600 - val_loss: 0.3890 - val_accuracy: 0.8621\n",
      "Epoch 104/1000\n",
      "36/36 [==============================] - 3s 86ms/step - loss: 0.4946 - accuracy: 0.8223 - val_loss: 0.3914 - val_accuracy: 0.8556\n",
      "Epoch 105/1000\n",
      "36/36 [==============================] - 3s 86ms/step - loss: 0.6563 - accuracy: 0.7713 - val_loss: 0.5065 - val_accuracy: 0.8228\n",
      "Epoch 106/1000\n",
      "36/36 [==============================] - 3s 86ms/step - loss: 0.4511 - accuracy: 0.8472 - val_loss: 0.3911 - val_accuracy: 0.8745\n",
      "Epoch 107/1000\n",
      "36/36 [==============================] - 3s 86ms/step - loss: 0.3809 - accuracy: 0.8742 - val_loss: 0.3616 - val_accuracy: 0.8755\n",
      "Epoch 108/1000\n",
      "36/36 [==============================] - 3s 86ms/step - loss: 0.3624 - accuracy: 0.8741 - val_loss: 0.3544 - val_accuracy: 0.8758\n",
      "Epoch 109/1000\n",
      "36/36 [==============================] - 3s 86ms/step - loss: 0.3578 - accuracy: 0.8743 - val_loss: 0.3507 - val_accuracy: 0.8761\n",
      "Epoch 110/1000\n",
      "36/36 [==============================] - 3s 86ms/step - loss: 0.3543 - accuracy: 0.8759 - val_loss: 0.3493 - val_accuracy: 0.8769\n",
      "Epoch 111/1000\n",
      "36/36 [==============================] - 3s 86ms/step - loss: 0.3522 - accuracy: 0.8745 - val_loss: 0.3452 - val_accuracy: 0.8765\n",
      "Epoch 112/1000\n",
      "36/36 [==============================] - 3s 86ms/step - loss: 0.3483 - accuracy: 0.8771 - val_loss: 0.3438 - val_accuracy: 0.8772\n",
      "Epoch 113/1000\n",
      "36/36 [==============================] - 3s 86ms/step - loss: 0.3479 - accuracy: 0.8771 - val_loss: 0.3424 - val_accuracy: 0.8756\n",
      "Epoch 114/1000\n",
      "36/36 [==============================] - 3s 86ms/step - loss: 0.3446 - accuracy: 0.8766 - val_loss: 0.3404 - val_accuracy: 0.8771\n"
     ]
    },
    {
     "name": "stdout",
     "output_type": "stream",
     "text": [
      "Epoch 115/1000\n",
      "36/36 [==============================] - 3s 86ms/step - loss: 0.3426 - accuracy: 0.8773 - val_loss: 0.3367 - val_accuracy: 0.8782\n",
      "Epoch 116/1000\n",
      "36/36 [==============================] - 3s 87ms/step - loss: 0.3400 - accuracy: 0.8777 - val_loss: 0.3348 - val_accuracy: 0.8806\n",
      "Epoch 117/1000\n",
      "36/36 [==============================] - 3s 86ms/step - loss: 0.3386 - accuracy: 0.8789 - val_loss: 0.3344 - val_accuracy: 0.8798\n",
      "Epoch 118/1000\n",
      "36/36 [==============================] - 3s 87ms/step - loss: 0.3367 - accuracy: 0.8792 - val_loss: 0.3304 - val_accuracy: 0.8819\n",
      "Epoch 119/1000\n",
      "36/36 [==============================] - 3s 86ms/step - loss: 0.3650 - accuracy: 0.8672 - val_loss: 0.3490 - val_accuracy: 0.8803\n",
      "Epoch 120/1000\n",
      "36/36 [==============================] - 3s 86ms/step - loss: 0.4302 - accuracy: 0.8469 - val_loss: 0.3458 - val_accuracy: 0.8797\n",
      "Epoch 121/1000\n",
      "36/36 [==============================] - 3s 86ms/step - loss: 0.4943 - accuracy: 0.8203 - val_loss: 0.3808 - val_accuracy: 0.8701\n",
      "Epoch 122/1000\n",
      "36/36 [==============================] - 3s 86ms/step - loss: 0.6556 - accuracy: 0.7746 - val_loss: 0.5156 - val_accuracy: 0.8078\n",
      "Epoch 123/1000\n",
      "36/36 [==============================] - 3s 86ms/step - loss: 0.4161 - accuracy: 0.8595 - val_loss: 0.3634 - val_accuracy: 0.8800\n",
      "Epoch 124/1000\n",
      "36/36 [==============================] - 3s 86ms/step - loss: 0.3571 - accuracy: 0.8782 - val_loss: 0.3431 - val_accuracy: 0.8817\n",
      "Epoch 125/1000\n",
      "36/36 [==============================] - 3s 86ms/step - loss: 0.3476 - accuracy: 0.8786 - val_loss: 0.3357 - val_accuracy: 0.8846\n",
      "Epoch 126/1000\n",
      "36/36 [==============================] - 3s 86ms/step - loss: 0.3412 - accuracy: 0.8788 - val_loss: 0.3335 - val_accuracy: 0.8809\n",
      "Epoch 127/1000\n",
      "36/36 [==============================] - 3s 86ms/step - loss: 0.3351 - accuracy: 0.8802 - val_loss: 0.3271 - val_accuracy: 0.8841\n",
      "Epoch 128/1000\n",
      "36/36 [==============================] - 3s 86ms/step - loss: 0.3840 - accuracy: 0.8575 - val_loss: 0.4346 - val_accuracy: 0.8337\n",
      "Epoch 129/1000\n",
      "36/36 [==============================] - 3s 86ms/step - loss: 0.3566 - accuracy: 0.8770 - val_loss: 0.3269 - val_accuracy: 0.8872\n",
      "Epoch 130/1000\n",
      "36/36 [==============================] - 3s 86ms/step - loss: 0.3655 - accuracy: 0.8659 - val_loss: 0.3287 - val_accuracy: 0.8820\n",
      "Epoch 131/1000\n",
      "36/36 [==============================] - 3s 86ms/step - loss: 0.4095 - accuracy: 0.8493 - val_loss: 0.3835 - val_accuracy: 0.8508\n",
      "Epoch 132/1000\n",
      "36/36 [==============================] - 3s 86ms/step - loss: 0.4701 - accuracy: 0.8320 - val_loss: 0.4387 - val_accuracy: 0.8328\n",
      "Epoch 133/1000\n",
      "36/36 [==============================] - 3s 87ms/step - loss: 0.4175 - accuracy: 0.8430 - val_loss: 0.5740 - val_accuracy: 0.7749\n",
      "Epoch 134/1000\n",
      "36/36 [==============================] - 3s 86ms/step - loss: 0.3993 - accuracy: 0.8518 - val_loss: 0.4550 - val_accuracy: 0.8396\n",
      "Epoch 135/1000\n",
      "36/36 [==============================] - 3s 87ms/step - loss: 0.3601 - accuracy: 0.8675 - val_loss: 0.3275 - val_accuracy: 0.8804\n",
      "Epoch 136/1000\n",
      "36/36 [==============================] - 3s 86ms/step - loss: 0.3476 - accuracy: 0.8727 - val_loss: 0.3306 - val_accuracy: 0.8806\n",
      "Epoch 137/1000\n",
      "36/36 [==============================] - 3s 87ms/step - loss: 0.3570 - accuracy: 0.8679 - val_loss: 0.3369 - val_accuracy: 0.8735\n",
      "Epoch 138/1000\n",
      "36/36 [==============================] - 3s 86ms/step - loss: 0.3385 - accuracy: 0.8769 - val_loss: 0.3212 - val_accuracy: 0.8855\n",
      "Epoch 139/1000\n",
      "36/36 [==============================] - 3s 86ms/step - loss: 0.3292 - accuracy: 0.8806 - val_loss: 0.3235 - val_accuracy: 0.8804\n",
      "Epoch 140/1000\n",
      "36/36 [==============================] - 3s 86ms/step - loss: 0.3257 - accuracy: 0.8813 - val_loss: 0.3179 - val_accuracy: 0.8838\n",
      "Epoch 141/1000\n",
      "36/36 [==============================] - 3s 86ms/step - loss: 0.3232 - accuracy: 0.8820 - val_loss: 0.3159 - val_accuracy: 0.8835\n",
      "Epoch 142/1000\n",
      "36/36 [==============================] - 3s 86ms/step - loss: 0.3229 - accuracy: 0.8809 - val_loss: 0.3181 - val_accuracy: 0.8803\n",
      "Epoch 143/1000\n",
      "36/36 [==============================] - 3s 87ms/step - loss: 0.3208 - accuracy: 0.8811 - val_loss: 0.3146 - val_accuracy: 0.8823\n",
      "Epoch 144/1000\n",
      "36/36 [==============================] - 3s 86ms/step - loss: 0.3188 - accuracy: 0.8825 - val_loss: 0.3087 - val_accuracy: 0.8865\n",
      "Epoch 145/1000\n",
      "36/36 [==============================] - 3s 87ms/step - loss: 0.3174 - accuracy: 0.8835 - val_loss: 0.3099 - val_accuracy: 0.8862\n",
      "Epoch 146/1000\n",
      "36/36 [==============================] - 3s 86ms/step - loss: 0.3155 - accuracy: 0.8833 - val_loss: 0.3123 - val_accuracy: 0.8838\n",
      "Epoch 147/1000\n",
      "36/36 [==============================] - 3s 86ms/step - loss: 0.3165 - accuracy: 0.8831 - val_loss: 0.3157 - val_accuracy: 0.8830\n",
      "Epoch 148/1000\n",
      "36/36 [==============================] - 3s 86ms/step - loss: 0.3140 - accuracy: 0.8823 - val_loss: 0.3118 - val_accuracy: 0.8825\n",
      "Epoch 149/1000\n",
      "36/36 [==============================] - 3s 86ms/step - loss: 0.3151 - accuracy: 0.8851 - val_loss: 0.3084 - val_accuracy: 0.8843\n",
      "Epoch 150/1000\n",
      "36/36 [==============================] - 3s 87ms/step - loss: 0.3139 - accuracy: 0.8838 - val_loss: 0.3054 - val_accuracy: 0.8877\n",
      "Epoch 151/1000\n",
      "36/36 [==============================] - 3s 86ms/step - loss: 0.3112 - accuracy: 0.8859 - val_loss: 0.3103 - val_accuracy: 0.8839\n",
      "Epoch 152/1000\n",
      "36/36 [==============================] - 3s 87ms/step - loss: 0.3126 - accuracy: 0.8849 - val_loss: 0.3060 - val_accuracy: 0.8848\n",
      "Epoch 153/1000\n",
      "36/36 [==============================] - 3s 86ms/step - loss: 0.3098 - accuracy: 0.8856 - val_loss: 0.3231 - val_accuracy: 0.8724\n",
      "Epoch 154/1000\n",
      "36/36 [==============================] - 3s 87ms/step - loss: 0.3110 - accuracy: 0.8846 - val_loss: 0.3051 - val_accuracy: 0.8856\n",
      "Epoch 155/1000\n",
      "36/36 [==============================] - 3s 86ms/step - loss: 0.3068 - accuracy: 0.8867 - val_loss: 0.3017 - val_accuracy: 0.8879\n",
      "Epoch 156/1000\n",
      "36/36 [==============================] - 3s 87ms/step - loss: 0.3064 - accuracy: 0.8867 - val_loss: 0.3087 - val_accuracy: 0.8840\n",
      "Epoch 157/1000\n",
      "36/36 [==============================] - 3s 86ms/step - loss: 0.3060 - accuracy: 0.8869 - val_loss: 0.3105 - val_accuracy: 0.8812\n",
      "Epoch 158/1000\n",
      "36/36 [==============================] - 3s 87ms/step - loss: 0.3052 - accuracy: 0.8866 - val_loss: 0.3166 - val_accuracy: 0.8814\n",
      "Epoch 159/1000\n",
      "36/36 [==============================] - 3s 86ms/step - loss: 0.3062 - accuracy: 0.8855 - val_loss: 0.3031 - val_accuracy: 0.8869\n",
      "Epoch 160/1000\n",
      "36/36 [==============================] - 3s 86ms/step - loss: 0.3052 - accuracy: 0.8855 - val_loss: 0.2981 - val_accuracy: 0.8883\n",
      "Epoch 161/1000\n",
      "36/36 [==============================] - 3s 86ms/step - loss: 0.3042 - accuracy: 0.8870 - val_loss: 0.3074 - val_accuracy: 0.8847\n",
      "Epoch 162/1000\n",
      "36/36 [==============================] - 3s 87ms/step - loss: 0.3052 - accuracy: 0.8871 - val_loss: 0.3023 - val_accuracy: 0.8856\n",
      "Epoch 163/1000\n",
      "36/36 [==============================] - 3s 86ms/step - loss: 0.3035 - accuracy: 0.8879 - val_loss: 0.3040 - val_accuracy: 0.8831\n",
      "Epoch 164/1000\n",
      "36/36 [==============================] - 3s 87ms/step - loss: 0.3042 - accuracy: 0.8875 - val_loss: 0.2989 - val_accuracy: 0.8887\n",
      "Epoch 165/1000\n",
      "36/36 [==============================] - 3s 86ms/step - loss: 0.3016 - accuracy: 0.8884 - val_loss: 0.2981 - val_accuracy: 0.8883\n",
      "Epoch 166/1000\n",
      "36/36 [==============================] - 3s 86ms/step - loss: 0.3005 - accuracy: 0.8873 - val_loss: 0.3007 - val_accuracy: 0.8869\n",
      "Epoch 167/1000\n",
      "36/36 [==============================] - 3s 87ms/step - loss: 0.3017 - accuracy: 0.8882 - val_loss: 0.3143 - val_accuracy: 0.8795\n",
      "Epoch 168/1000\n",
      "36/36 [==============================] - 3s 86ms/step - loss: 0.3066 - accuracy: 0.8857 - val_loss: 0.3052 - val_accuracy: 0.8819\n",
      "Epoch 169/1000\n",
      "36/36 [==============================] - 3s 87ms/step - loss: 0.3020 - accuracy: 0.8870 - val_loss: 0.3027 - val_accuracy: 0.8866\n",
      "Epoch 170/1000\n",
      "36/36 [==============================] - 3s 86ms/step - loss: 0.2986 - accuracy: 0.8880 - val_loss: 0.2945 - val_accuracy: 0.8908\n",
      "Epoch 171/1000\n"
     ]
    },
    {
     "name": "stdout",
     "output_type": "stream",
     "text": [
      "36/36 [==============================] - 3s 86ms/step - loss: 0.3011 - accuracy: 0.8876 - val_loss: 0.2970 - val_accuracy: 0.8858\n",
      "Epoch 172/1000\n",
      "36/36 [==============================] - 3s 87ms/step - loss: 0.2993 - accuracy: 0.8876 - val_loss: 0.2987 - val_accuracy: 0.8876\n",
      "Epoch 173/1000\n",
      "36/36 [==============================] - 3s 86ms/step - loss: 0.2984 - accuracy: 0.8875 - val_loss: 0.2978 - val_accuracy: 0.8872\n",
      "Epoch 174/1000\n",
      "36/36 [==============================] - 3s 87ms/step - loss: 0.2974 - accuracy: 0.8884 - val_loss: 0.2933 - val_accuracy: 0.8877\n",
      "Epoch 175/1000\n",
      "36/36 [==============================] - 3s 87ms/step - loss: 0.2980 - accuracy: 0.8876 - val_loss: 0.2975 - val_accuracy: 0.8874\n",
      "Epoch 176/1000\n",
      "36/36 [==============================] - 3s 86ms/step - loss: 0.3002 - accuracy: 0.8864 - val_loss: 0.3028 - val_accuracy: 0.8826\n",
      "Epoch 177/1000\n",
      "36/36 [==============================] - 3s 87ms/step - loss: 0.2977 - accuracy: 0.8875 - val_loss: 0.2947 - val_accuracy: 0.8887\n",
      "Epoch 178/1000\n",
      "36/36 [==============================] - 3s 87ms/step - loss: 0.2998 - accuracy: 0.8874 - val_loss: 0.2968 - val_accuracy: 0.8878\n",
      "Epoch 179/1000\n",
      "36/36 [==============================] - 3s 87ms/step - loss: 0.2963 - accuracy: 0.8877 - val_loss: 0.2897 - val_accuracy: 0.8910\n",
      "Epoch 180/1000\n",
      "36/36 [==============================] - 3s 87ms/step - loss: 0.2955 - accuracy: 0.8892 - val_loss: 0.2926 - val_accuracy: 0.8869\n",
      "Epoch 181/1000\n",
      "36/36 [==============================] - 3s 87ms/step - loss: 0.2955 - accuracy: 0.8881 - val_loss: 0.2999 - val_accuracy: 0.8838\n",
      "Epoch 182/1000\n",
      "36/36 [==============================] - 3s 87ms/step - loss: 0.2948 - accuracy: 0.8892 - val_loss: 0.3007 - val_accuracy: 0.8884\n",
      "Epoch 183/1000\n",
      "36/36 [==============================] - 3s 87ms/step - loss: 0.3109 - accuracy: 0.8845 - val_loss: 1.0452 - val_accuracy: 0.7441\n",
      "Epoch 184/1000\n",
      "36/36 [==============================] - 3s 87ms/step - loss: 1.3835 - accuracy: 0.5668 - val_loss: 0.8412 - val_accuracy: 0.6571\n",
      "Epoch 185/1000\n",
      "36/36 [==============================] - 3s 87ms/step - loss: 0.3992 - accuracy: 0.8528 - val_loss: 0.5063 - val_accuracy: 0.8217\n",
      "Epoch 193/1000\n",
      "36/36 [==============================] - 3s 86ms/step - loss: 0.4682 - accuracy: 0.8326 - val_loss: 0.4172 - val_accuracy: 0.8419\n",
      "Epoch 194/1000\n",
      "36/36 [==============================] - 3s 87ms/step - loss: 0.3726 - accuracy: 0.8694 - val_loss: 0.3368 - val_accuracy: 0.8762\n",
      "Epoch 195/1000\n",
      "36/36 [==============================] - 3s 86ms/step - loss: 0.3553 - accuracy: 0.8712 - val_loss: 0.3727 - val_accuracy: 0.8624\n",
      "Epoch 196/1000\n",
      "36/36 [==============================] - 3s 87ms/step - loss: 0.3794 - accuracy: 0.8622 - val_loss: 0.6098 - val_accuracy: 0.7645\n",
      "Epoch 197/1000\n",
      "36/36 [==============================] - 3s 86ms/step - loss: 0.4795 - accuracy: 0.8218 - val_loss: 0.5926 - val_accuracy: 0.7773\n",
      "Epoch 198/1000\n",
      "36/36 [==============================] - 3s 87ms/step - loss: 0.4833 - accuracy: 0.8093 - val_loss: 0.4106 - val_accuracy: 0.8373\n",
      "Epoch 199/1000\n",
      "36/36 [==============================] - 3s 87ms/step - loss: 0.3568 - accuracy: 0.8675 - val_loss: 0.3292 - val_accuracy: 0.8802\n",
      "Epoch 200/1000\n",
      "36/36 [==============================] - 3s 87ms/step - loss: 0.3313 - accuracy: 0.8797 - val_loss: 0.3296 - val_accuracy: 0.8803\n",
      "Epoch 201/1000\n",
      "36/36 [==============================] - 3s 87ms/step - loss: 0.3242 - accuracy: 0.8804 - val_loss: 0.3198 - val_accuracy: 0.8826\n",
      "Epoch 202/1000\n",
      "36/36 [==============================] - 3s 87ms/step - loss: 0.3209 - accuracy: 0.8810 - val_loss: 0.3131 - val_accuracy: 0.8851\n",
      "Epoch 203/1000\n",
      "36/36 [==============================] - 3s 87ms/step - loss: 0.3162 - accuracy: 0.8829 - val_loss: 0.3109 - val_accuracy: 0.8855\n",
      "Epoch 204/1000\n",
      "36/36 [==============================] - 3s 87ms/step - loss: 0.3157 - accuracy: 0.8821 - val_loss: 0.3061 - val_accuracy: 0.8838\n",
      "Epoch 205/1000\n",
      "36/36 [==============================] - 3s 87ms/step - loss: 0.3125 - accuracy: 0.8838 - val_loss: 0.3080 - val_accuracy: 0.8837\n",
      "Epoch 206/1000\n",
      "36/36 [==============================] - 3s 87ms/step - loss: 0.3099 - accuracy: 0.8852 - val_loss: 0.3057 - val_accuracy: 0.8833\n",
      "Epoch 207/1000\n",
      "36/36 [==============================] - 3s 87ms/step - loss: 0.3119 - accuracy: 0.8824 - val_loss: 0.3014 - val_accuracy: 0.8860\n",
      "Epoch 208/1000\n",
      "36/36 [==============================] - 3s 86ms/step - loss: 0.3081 - accuracy: 0.8857 - val_loss: 0.2993 - val_accuracy: 0.8876\n",
      "Epoch 209/1000\n",
      "36/36 [==============================] - 3s 87ms/step - loss: 0.3072 - accuracy: 0.8849 - val_loss: 0.3025 - val_accuracy: 0.8830\n",
      "Epoch 210/1000\n",
      "36/36 [==============================] - 3s 87ms/step - loss: 0.3067 - accuracy: 0.8859 - val_loss: 0.2967 - val_accuracy: 0.8873\n",
      "Epoch 211/1000\n",
      "36/36 [==============================] - 3s 87ms/step - loss: 0.3050 - accuracy: 0.8856 - val_loss: 0.2965 - val_accuracy: 0.8899\n",
      "Epoch 212/1000\n",
      "36/36 [==============================] - 3s 87ms/step - loss: 0.3026 - accuracy: 0.8880 - val_loss: 0.2942 - val_accuracy: 0.8876\n",
      "Epoch 213/1000\n",
      "36/36 [==============================] - 3s 87ms/step - loss: 0.3014 - accuracy: 0.8875 - val_loss: 0.2955 - val_accuracy: 0.8857\n",
      "Epoch 214/1000\n",
      "36/36 [==============================] - 3s 87ms/step - loss: 0.3017 - accuracy: 0.8877 - val_loss: 0.2915 - val_accuracy: 0.8876\n",
      "Epoch 215/1000\n",
      "36/36 [==============================] - 3s 87ms/step - loss: 0.3009 - accuracy: 0.8876 - val_loss: 0.3028 - val_accuracy: 0.8825\n",
      "Epoch 216/1000\n",
      "36/36 [==============================] - 3s 87ms/step - loss: 0.3009 - accuracy: 0.8887 - val_loss: 0.2952 - val_accuracy: 0.8870\n",
      "Epoch 217/1000\n",
      "36/36 [==============================] - 3s 87ms/step - loss: 0.3009 - accuracy: 0.8876 - val_loss: 0.2886 - val_accuracy: 0.8909\n",
      "Epoch 218/1000\n",
      "36/36 [==============================] - 3s 87ms/step - loss: 0.2975 - accuracy: 0.8887 - val_loss: 0.2919 - val_accuracy: 0.8891\n",
      "Epoch 219/1000\n",
      "36/36 [==============================] - 3s 86ms/step - loss: 0.2980 - accuracy: 0.8895 - val_loss: 0.2913 - val_accuracy: 0.8892\n",
      "Epoch 220/1000\n",
      "36/36 [==============================] - 3s 87ms/step - loss: 0.2983 - accuracy: 0.8876 - val_loss: 0.2926 - val_accuracy: 0.8891\n",
      "Epoch 221/1000\n",
      "36/36 [==============================] - 3s 87ms/step - loss: 0.2961 - accuracy: 0.8896 - val_loss: 0.2897 - val_accuracy: 0.8895\n",
      "Epoch 222/1000\n",
      "36/36 [==============================] - 3s 87ms/step - loss: 0.2929 - accuracy: 0.8905 - val_loss: 0.2870 - val_accuracy: 0.8896\n",
      "Epoch 223/1000\n",
      "36/36 [==============================] - 3s 86ms/step - loss: 0.2946 - accuracy: 0.8895 - val_loss: 0.2916 - val_accuracy: 0.8882\n",
      "Epoch 224/1000\n",
      "36/36 [==============================] - 3s 87ms/step - loss: 0.2929 - accuracy: 0.8913 - val_loss: 0.2864 - val_accuracy: 0.8884\n",
      "Epoch 225/1000\n",
      "36/36 [==============================] - 3s 86ms/step - loss: 0.2921 - accuracy: 0.8896 - val_loss: 0.2932 - val_accuracy: 0.8849\n",
      "Epoch 226/1000\n",
      "36/36 [==============================] - 3s 87ms/step - loss: 0.3257 - accuracy: 0.8785 - val_loss: 0.3690 - val_accuracy: 0.8639\n",
      "Epoch 227/1000\n",
      "36/36 [==============================] - 3s 86ms/step - loss: 0.4749 - accuracy: 0.8399 - val_loss: 0.3564 - val_accuracy: 0.8640\n",
      "Epoch 228/1000\n",
      "36/36 [==============================] - 3s 87ms/step - loss: 0.5565 - accuracy: 0.8095 - val_loss: 0.3723 - val_accuracy: 0.8597\n",
      "Epoch 229/1000\n",
      "36/36 [==============================] - 3s 87ms/step - loss: 0.3759 - accuracy: 0.8596 - val_loss: 0.3223 - val_accuracy: 0.8796\n",
      "Epoch 230/1000\n",
      "36/36 [==============================] - 3s 87ms/step - loss: 0.3385 - accuracy: 0.8748 - val_loss: 0.2987 - val_accuracy: 0.8886\n",
      "Epoch 231/1000\n",
      "36/36 [==============================] - 3s 87ms/step - loss: 0.4027 - accuracy: 0.8609 - val_loss: 0.3316 - val_accuracy: 0.8786\n",
      "Epoch 232/1000\n",
      "36/36 [==============================] - 3s 87ms/step - loss: 0.3095 - accuracy: 0.8860 - val_loss: 0.3020 - val_accuracy: 0.8876\n",
      "Epoch 233/1000\n",
      "36/36 [==============================] - 3s 87ms/step - loss: 0.2996 - accuracy: 0.8886 - val_loss: 0.2928 - val_accuracy: 0.8893\n",
      "Epoch 234/1000\n"
     ]
    },
    {
     "name": "stdout",
     "output_type": "stream",
     "text": [
      "36/36 [==============================] - 3s 87ms/step - loss: 0.2966 - accuracy: 0.8899 - val_loss: 0.2886 - val_accuracy: 0.8887\n",
      "Epoch 235/1000\n",
      "36/36 [==============================] - 3s 87ms/step - loss: 0.2961 - accuracy: 0.8889 - val_loss: 0.2890 - val_accuracy: 0.8898\n",
      "Epoch 236/1000\n",
      "36/36 [==============================] - 3s 87ms/step - loss: 0.2934 - accuracy: 0.8896 - val_loss: 0.2872 - val_accuracy: 0.8901\n",
      "Epoch 237/1000\n",
      "36/36 [==============================] - 3s 87ms/step - loss: 0.2925 - accuracy: 0.8907 - val_loss: 0.2893 - val_accuracy: 0.8879\n",
      "Epoch 238/1000\n",
      "36/36 [==============================] - 3s 87ms/step - loss: 0.2906 - accuracy: 0.8916 - val_loss: 0.2875 - val_accuracy: 0.8905\n",
      "Epoch 239/1000\n",
      "36/36 [==============================] - 3s 87ms/step - loss: 0.2915 - accuracy: 0.8898 - val_loss: 0.2826 - val_accuracy: 0.8929\n",
      "Epoch 240/1000\n",
      "36/36 [==============================] - 3s 87ms/step - loss: 0.2895 - accuracy: 0.8911 - val_loss: 0.2857 - val_accuracy: 0.8904\n",
      "Epoch 241/1000\n",
      "36/36 [==============================] - 3s 87ms/step - loss: 0.2899 - accuracy: 0.8908 - val_loss: 0.2831 - val_accuracy: 0.8916\n",
      "Epoch 242/1000\n",
      "36/36 [==============================] - 3s 87ms/step - loss: 0.2897 - accuracy: 0.8908 - val_loss: 0.2922 - val_accuracy: 0.8879\n",
      "Epoch 243/1000\n",
      "36/36 [==============================] - 3s 87ms/step - loss: 0.2904 - accuracy: 0.8897 - val_loss: 0.2848 - val_accuracy: 0.8919\n",
      "Epoch 244/1000\n",
      "36/36 [==============================] - 3s 87ms/step - loss: 0.2873 - accuracy: 0.8913 - val_loss: 0.2874 - val_accuracy: 0.8899\n",
      "Epoch 245/1000\n",
      "36/36 [==============================] - 3s 87ms/step - loss: 0.2866 - accuracy: 0.8921 - val_loss: 0.2826 - val_accuracy: 0.8923\n",
      "Epoch 246/1000\n",
      "36/36 [==============================] - 3s 87ms/step - loss: 0.2852 - accuracy: 0.8934 - val_loss: 0.2854 - val_accuracy: 0.8900\n",
      "Epoch 247/1000\n",
      "36/36 [==============================] - 3s 87ms/step - loss: 0.2853 - accuracy: 0.8920 - val_loss: 0.2827 - val_accuracy: 0.8913\n",
      "Epoch 248/1000\n",
      "36/36 [==============================] - 3s 87ms/step - loss: 0.2842 - accuracy: 0.8927 - val_loss: 0.2793 - val_accuracy: 0.8946\n",
      "Epoch 249/1000\n",
      "36/36 [==============================] - 3s 87ms/step - loss: 0.2833 - accuracy: 0.8929 - val_loss: 0.2821 - val_accuracy: 0.8924\n",
      "Epoch 250/1000\n",
      "36/36 [==============================] - 3s 87ms/step - loss: 0.2831 - accuracy: 0.8934 - val_loss: 0.2861 - val_accuracy: 0.8922\n",
      "Epoch 251/1000\n",
      "36/36 [==============================] - 3s 87ms/step - loss: 0.2809 - accuracy: 0.8935 - val_loss: 0.2811 - val_accuracy: 0.8926\n",
      "Epoch 252/1000\n",
      "36/36 [==============================] - 3s 87ms/step - loss: 0.2852 - accuracy: 0.8917 - val_loss: 0.2814 - val_accuracy: 0.8932\n",
      "Epoch 253/1000\n",
      "36/36 [==============================] - 3s 87ms/step - loss: 0.2843 - accuracy: 0.8938 - val_loss: 0.2873 - val_accuracy: 0.8907\n",
      "Epoch 254/1000\n",
      "36/36 [==============================] - 3s 87ms/step - loss: 0.2816 - accuracy: 0.8943 - val_loss: 0.2803 - val_accuracy: 0.8937\n",
      "Epoch 255/1000\n",
      "36/36 [==============================] - 3s 87ms/step - loss: 0.2813 - accuracy: 0.8940 - val_loss: 0.2812 - val_accuracy: 0.8931\n",
      "Epoch 256/1000\n",
      "36/36 [==============================] - 3s 87ms/step - loss: 0.4548 - accuracy: 0.8416 - val_loss: 0.3220 - val_accuracy: 0.8859\n",
      "Epoch 257/1000\n",
      "36/36 [==============================] - 3s 87ms/step - loss: 0.3141 - accuracy: 0.8857 - val_loss: 0.2969 - val_accuracy: 0.8865\n",
      "Epoch 258/1000\n",
      "36/36 [==============================] - 3s 87ms/step - loss: 0.3211 - accuracy: 0.8843 - val_loss: 0.3671 - val_accuracy: 0.8717\n",
      "Epoch 259/1000\n",
      "36/36 [==============================] - 3s 87ms/step - loss: 0.5223 - accuracy: 0.8336 - val_loss: 0.6995 - val_accuracy: 0.7376\n",
      "Epoch 260/1000\n",
      "36/36 [==============================] - 3s 87ms/step - loss: 0.6120 - accuracy: 0.8110 - val_loss: 0.3801 - val_accuracy: 0.8610\n",
      "Epoch 261/1000\n",
      "36/36 [==============================] - 3s 87ms/step - loss: 0.4724 - accuracy: 0.8349 - val_loss: 0.5031 - val_accuracy: 0.8289\n",
      "Epoch 262/1000\n",
      "36/36 [==============================] - 3s 87ms/step - loss: 0.4021 - accuracy: 0.8530 - val_loss: 0.5018 - val_accuracy: 0.7977\n",
      "Epoch 263/1000\n",
      "36/36 [==============================] - 3s 87ms/step - loss: 0.5175 - accuracy: 0.8167 - val_loss: 0.4190 - val_accuracy: 0.8404\n",
      "Epoch 264/1000\n",
      "36/36 [==============================] - 3s 87ms/step - loss: 0.6502 - accuracy: 0.8191 - val_loss: 0.3731 - val_accuracy: 0.8740\n",
      "Epoch 265/1000\n",
      "36/36 [==============================] - 3s 87ms/step - loss: 0.3326 - accuracy: 0.8801 - val_loss: 0.3054 - val_accuracy: 0.8875\n",
      "Epoch 266/1000\n",
      "36/36 [==============================] - 3s 87ms/step - loss: 0.3098 - accuracy: 0.8863 - val_loss: 0.3011 - val_accuracy: 0.8862\n",
      "Epoch 267/1000\n",
      "36/36 [==============================] - 3s 87ms/step - loss: 0.3014 - accuracy: 0.8875 - val_loss: 0.2922 - val_accuracy: 0.8887\n",
      "Epoch 268/1000\n",
      "36/36 [==============================] - 3s 87ms/step - loss: 0.2972 - accuracy: 0.8888 - val_loss: 0.2875 - val_accuracy: 0.8917\n",
      "Epoch 269/1000\n",
      "36/36 [==============================] - 3s 87ms/step - loss: 0.2931 - accuracy: 0.8913 - val_loss: 0.2878 - val_accuracy: 0.8911\n",
      "Epoch 270/1000\n",
      "36/36 [==============================] - 3s 88ms/step - loss: 0.2910 - accuracy: 0.8907 - val_loss: 0.2855 - val_accuracy: 0.8907\n",
      "Epoch 271/1000\n",
      "36/36 [==============================] - 3s 87ms/step - loss: 0.2893 - accuracy: 0.8908 - val_loss: 0.2898 - val_accuracy: 0.8900\n",
      "Epoch 272/1000\n",
      "36/36 [==============================] - 3s 87ms/step - loss: 0.2883 - accuracy: 0.8915 - val_loss: 0.2841 - val_accuracy: 0.8914\n",
      "Epoch 273/1000\n",
      "36/36 [==============================] - 3s 87ms/step - loss: 0.2858 - accuracy: 0.8924 - val_loss: 0.2828 - val_accuracy: 0.8925\n",
      "Epoch 274/1000\n",
      "36/36 [==============================] - 3s 87ms/step - loss: 0.2857 - accuracy: 0.8929 - val_loss: 0.2811 - val_accuracy: 0.8937\n",
      "Epoch 275/1000\n",
      "36/36 [==============================] - 3s 87ms/step - loss: 0.2840 - accuracy: 0.8932 - val_loss: 0.2837 - val_accuracy: 0.8917\n",
      "Epoch 276/1000\n",
      "36/36 [==============================] - 3s 87ms/step - loss: 0.2845 - accuracy: 0.8923 - val_loss: 0.2867 - val_accuracy: 0.8907\n",
      "Epoch 277/1000\n",
      "36/36 [==============================] - 3s 87ms/step - loss: 0.2833 - accuracy: 0.8934 - val_loss: 0.2841 - val_accuracy: 0.8918\n",
      "Epoch 278/1000\n",
      "36/36 [==============================] - 3s 87ms/step - loss: 0.2814 - accuracy: 0.8937 - val_loss: 0.2792 - val_accuracy: 0.8939\n",
      "Epoch 279/1000\n",
      "36/36 [==============================] - 3s 87ms/step - loss: 0.2808 - accuracy: 0.8938 - val_loss: 0.2788 - val_accuracy: 0.8941\n",
      "Epoch 280/1000\n",
      "36/36 [==============================] - 3s 87ms/step - loss: 0.2802 - accuracy: 0.8953 - val_loss: 0.2802 - val_accuracy: 0.8945\n",
      "Epoch 281/1000\n",
      "36/36 [==============================] - 3s 87ms/step - loss: 0.2801 - accuracy: 0.8945 - val_loss: 0.2787 - val_accuracy: 0.8940\n",
      "Epoch 282/1000\n",
      "36/36 [==============================] - 3s 87ms/step - loss: 0.2810 - accuracy: 0.8939 - val_loss: 0.2765 - val_accuracy: 0.8956\n",
      "Epoch 283/1000\n",
      "36/36 [==============================] - 3s 87ms/step - loss: 0.2777 - accuracy: 0.8953 - val_loss: 0.2804 - val_accuracy: 0.8925\n",
      "Epoch 284/1000\n",
      "36/36 [==============================] - 3s 87ms/step - loss: 0.2774 - accuracy: 0.8953 - val_loss: 0.2797 - val_accuracy: 0.8934\n",
      "Epoch 285/1000\n",
      "36/36 [==============================] - 3s 87ms/step - loss: 0.2779 - accuracy: 0.8952 - val_loss: 0.2791 - val_accuracy: 0.8946\n",
      "Epoch 286/1000\n",
      "36/36 [==============================] - 3s 87ms/step - loss: 0.2766 - accuracy: 0.8946 - val_loss: 0.2799 - val_accuracy: 0.8938\n",
      "Epoch 287/1000\n",
      "36/36 [==============================] - 3s 87ms/step - loss: 0.2761 - accuracy: 0.8955 - val_loss: 0.2778 - val_accuracy: 0.8949\n",
      "Epoch 288/1000\n",
      "36/36 [==============================] - 3s 87ms/step - loss: 0.2754 - accuracy: 0.8960 - val_loss: 0.2778 - val_accuracy: 0.8957\n",
      "Epoch 289/1000\n",
      "36/36 [==============================] - 3s 87ms/step - loss: 0.2749 - accuracy: 0.8971 - val_loss: 0.2800 - val_accuracy: 0.8911\n",
      "Epoch 290/1000\n"
     ]
    },
    {
     "name": "stdout",
     "output_type": "stream",
     "text": [
      "36/36 [==============================] - 3s 87ms/step - loss: 0.2771 - accuracy: 0.8954 - val_loss: 0.2741 - val_accuracy: 0.8972\n",
      "Epoch 291/1000\n",
      "36/36 [==============================] - 3s 87ms/step - loss: 0.2751 - accuracy: 0.8951 - val_loss: 0.2757 - val_accuracy: 0.8969\n",
      "Epoch 292/1000\n",
      "36/36 [==============================] - 3s 87ms/step - loss: 0.2736 - accuracy: 0.8958 - val_loss: 0.2785 - val_accuracy: 0.8946\n",
      "Epoch 293/1000\n",
      "36/36 [==============================] - 3s 87ms/step - loss: 0.2749 - accuracy: 0.8969 - val_loss: 0.2759 - val_accuracy: 0.8947\n",
      "Epoch 294/1000\n",
      "36/36 [==============================] - 3s 87ms/step - loss: 0.2746 - accuracy: 0.8958 - val_loss: 0.3037 - val_accuracy: 0.8920\n",
      "Epoch 295/1000\n",
      "36/36 [==============================] - 3s 87ms/step - loss: 0.2724 - accuracy: 0.8964 - val_loss: 0.2851 - val_accuracy: 0.8929\n",
      "Epoch 296/1000\n",
      "36/36 [==============================] - 3s 87ms/step - loss: 0.2728 - accuracy: 0.8970 - val_loss: 0.2738 - val_accuracy: 0.8973\n",
      "Epoch 297/1000\n",
      "36/36 [==============================] - 3s 87ms/step - loss: 0.2722 - accuracy: 0.8962 - val_loss: 0.3149 - val_accuracy: 0.8913\n",
      "Epoch 298/1000\n",
      "36/36 [==============================] - 3s 87ms/step - loss: 0.2737 - accuracy: 0.8958 - val_loss: 0.3127 - val_accuracy: 0.8856\n",
      "Epoch 299/1000\n",
      "36/36 [==============================] - 3s 87ms/step - loss: 0.2724 - accuracy: 0.8959 - val_loss: 0.2907 - val_accuracy: 0.8921\n",
      "Epoch 300/1000\n",
      "36/36 [==============================] - 3s 87ms/step - loss: 0.2698 - accuracy: 0.8976 - val_loss: 0.3187 - val_accuracy: 0.8809\n",
      "Epoch 301/1000\n",
      "36/36 [==============================] - 3s 86ms/step - loss: 0.2699 - accuracy: 0.8965 - val_loss: 0.3031 - val_accuracy: 0.8930\n",
      "Epoch 302/1000\n",
      "36/36 [==============================] - 3s 86ms/step - loss: 0.2702 - accuracy: 0.8976 - val_loss: 0.3025 - val_accuracy: 0.8945\n",
      "Epoch 303/1000\n",
      "36/36 [==============================] - 3s 86ms/step - loss: 0.2688 - accuracy: 0.8977 - val_loss: 0.3025 - val_accuracy: 0.8901\n",
      "Epoch 304/1000\n",
      "36/36 [==============================] - 3s 86ms/step - loss: 0.2694 - accuracy: 0.8969 - val_loss: 0.3114 - val_accuracy: 0.8868\n",
      "Epoch 305/1000\n",
      "36/36 [==============================] - 3s 87ms/step - loss: 0.2713 - accuracy: 0.8975 - val_loss: 0.3131 - val_accuracy: 0.8889\n",
      "Epoch 306/1000\n",
      "36/36 [==============================] - 3s 86ms/step - loss: 0.3380 - accuracy: 0.8769 - val_loss: 0.3869 - val_accuracy: 0.8617\n",
      "Epoch 307/1000\n",
      "36/36 [==============================] - 3s 87ms/step - loss: 0.7926 - accuracy: 0.7726 - val_loss: 0.6229 - val_accuracy: 0.7419\n",
      "Epoch 308/1000\n",
      "36/36 [==============================] - 3s 86ms/step - loss: 0.6380 - accuracy: 0.7837 - val_loss: 0.3868 - val_accuracy: 0.8454\n",
      "Epoch 309/1000\n",
      "36/36 [==============================] - 3s 87ms/step - loss: 0.3849 - accuracy: 0.8626 - val_loss: 0.3130 - val_accuracy: 0.8887\n",
      "Epoch 310/1000\n",
      "36/36 [==============================] - 3s 86ms/step - loss: 0.3390 - accuracy: 0.8752 - val_loss: 0.4714 - val_accuracy: 0.8195\n",
      "Epoch 311/1000\n",
      "36/36 [==============================] - 3s 86ms/step - loss: 0.3376 - accuracy: 0.8726 - val_loss: 0.2969 - val_accuracy: 0.8882\n",
      "Epoch 312/1000\n",
      "36/36 [==============================] - 3s 86ms/step - loss: 0.2907 - accuracy: 0.8913 - val_loss: 0.2787 - val_accuracy: 0.8952\n",
      "Epoch 313/1000\n",
      "36/36 [==============================] - 3s 86ms/step - loss: 0.2865 - accuracy: 0.8927 - val_loss: 0.2739 - val_accuracy: 0.8940\n",
      "Epoch 314/1000\n",
      "36/36 [==============================] - 3s 86ms/step - loss: 0.2825 - accuracy: 0.8932 - val_loss: 0.2716 - val_accuracy: 0.8960\n",
      "Epoch 315/1000\n",
      "36/36 [==============================] - 3s 86ms/step - loss: 0.2807 - accuracy: 0.8945 - val_loss: 0.2721 - val_accuracy: 0.8954\n",
      "Epoch 316/1000\n",
      "36/36 [==============================] - 3s 87ms/step - loss: 0.2774 - accuracy: 0.8952 - val_loss: 0.2749 - val_accuracy: 0.8952\n",
      "Epoch 317/1000\n",
      "36/36 [==============================] - 3s 86ms/step - loss: 0.2772 - accuracy: 0.8958 - val_loss: 0.2687 - val_accuracy: 0.8971\n",
      "Epoch 318/1000\n",
      "36/36 [==============================] - 3s 87ms/step - loss: 0.2769 - accuracy: 0.8954 - val_loss: 0.2709 - val_accuracy: 0.8967\n",
      "Epoch 319/1000\n",
      "36/36 [==============================] - 3s 86ms/step - loss: 0.2749 - accuracy: 0.8967 - val_loss: 0.2718 - val_accuracy: 0.8959\n",
      "Epoch 320/1000\n",
      "36/36 [==============================] - 3s 86ms/step - loss: 0.2743 - accuracy: 0.8971 - val_loss: 0.2801 - val_accuracy: 0.8933\n",
      "Epoch 321/1000\n",
      "36/36 [==============================] - 3s 86ms/step - loss: 0.2745 - accuracy: 0.8963 - val_loss: 0.2661 - val_accuracy: 0.8980\n",
      "Epoch 322/1000\n",
      "36/36 [==============================] - 3s 86ms/step - loss: 0.2719 - accuracy: 0.8965 - val_loss: 0.2688 - val_accuracy: 0.8970\n",
      "Epoch 323/1000\n",
      "36/36 [==============================] - 3s 86ms/step - loss: 0.2721 - accuracy: 0.8974 - val_loss: 0.2715 - val_accuracy: 0.8965\n",
      "Epoch 324/1000\n",
      "36/36 [==============================] - 3s 86ms/step - loss: 0.2715 - accuracy: 0.8971 - val_loss: 0.2735 - val_accuracy: 0.8954\n",
      "Epoch 325/1000\n",
      "36/36 [==============================] - 3s 86ms/step - loss: 0.2707 - accuracy: 0.8980 - val_loss: 0.2693 - val_accuracy: 0.8965\n",
      "Epoch 326/1000\n",
      "36/36 [==============================] - 3s 87ms/step - loss: 0.2689 - accuracy: 0.8979 - val_loss: 0.2686 - val_accuracy: 0.8974\n",
      "Epoch 327/1000\n",
      "36/36 [==============================] - 3s 87ms/step - loss: 0.2688 - accuracy: 0.8982 - val_loss: 0.2652 - val_accuracy: 0.8990\n",
      "Epoch 328/1000\n",
      "36/36 [==============================] - 3s 87ms/step - loss: 0.2695 - accuracy: 0.8973 - val_loss: 0.2682 - val_accuracy: 0.8968\n",
      "Epoch 329/1000\n",
      "36/36 [==============================] - 3s 87ms/step - loss: 0.2686 - accuracy: 0.8976 - val_loss: 0.2672 - val_accuracy: 0.8973\n",
      "Epoch 330/1000\n",
      "36/36 [==============================] - 3s 86ms/step - loss: 0.2684 - accuracy: 0.8993 - val_loss: 0.2672 - val_accuracy: 0.8997\n",
      "Epoch 331/1000\n",
      "36/36 [==============================] - 3s 86ms/step - loss: 0.2688 - accuracy: 0.8973 - val_loss: 0.2652 - val_accuracy: 0.8985\n",
      "Epoch 332/1000\n",
      "36/36 [==============================] - 3s 86ms/step - loss: 0.2670 - accuracy: 0.8986 - val_loss: 0.2661 - val_accuracy: 0.8973\n",
      "Epoch 333/1000\n",
      "36/36 [==============================] - 3s 87ms/step - loss: 0.2692 - accuracy: 0.8972 - val_loss: 0.2671 - val_accuracy: 0.9001\n",
      "Epoch 334/1000\n",
      "36/36 [==============================] - 3s 86ms/step - loss: 0.2668 - accuracy: 0.8991 - val_loss: 0.2680 - val_accuracy: 0.8986\n",
      "Epoch 335/1000\n",
      "36/36 [==============================] - 3s 87ms/step - loss: 0.2669 - accuracy: 0.8994 - val_loss: 0.2686 - val_accuracy: 0.8958\n",
      "Epoch 336/1000\n",
      "36/36 [==============================] - 3s 87ms/step - loss: 0.2667 - accuracy: 0.8984 - val_loss: 0.2688 - val_accuracy: 0.8979\n",
      "Epoch 337/1000\n",
      "36/36 [==============================] - 3s 87ms/step - loss: 0.2670 - accuracy: 0.8982 - val_loss: 0.2704 - val_accuracy: 0.8975\n",
      "Epoch 338/1000\n",
      "36/36 [==============================] - 3s 87ms/step - loss: 0.2649 - accuracy: 0.8989 - val_loss: 0.2651 - val_accuracy: 0.9007\n",
      "Epoch 339/1000\n",
      "36/36 [==============================] - 3s 87ms/step - loss: 0.2679 - accuracy: 0.8973 - val_loss: 0.2670 - val_accuracy: 0.9010\n",
      "Epoch 340/1000\n",
      "36/36 [==============================] - 3s 86ms/step - loss: 0.2642 - accuracy: 0.8993 - val_loss: 0.2738 - val_accuracy: 0.8968\n",
      "Epoch 341/1000\n",
      "36/36 [==============================] - 3s 86ms/step - loss: 0.2639 - accuracy: 0.9000 - val_loss: 0.2652 - val_accuracy: 0.8978\n",
      "Epoch 342/1000\n",
      "36/36 [==============================] - 3s 87ms/step - loss: 0.2638 - accuracy: 0.9001 - val_loss: 0.2651 - val_accuracy: 0.8976\n",
      "Epoch 343/1000\n",
      "36/36 [==============================] - 3s 87ms/step - loss: 0.2635 - accuracy: 0.8993 - val_loss: 0.2639 - val_accuracy: 0.8992\n",
      "Epoch 344/1000\n",
      "36/36 [==============================] - 3s 86ms/step - loss: 0.7359 - accuracy: 0.8098 - val_loss: 0.7640 - val_accuracy: 0.6997\n",
      "Epoch 345/1000\n",
      "36/36 [==============================] - 3s 87ms/step - loss: 1.1740 - accuracy: 0.6350 - val_loss: 0.6554 - val_accuracy: 0.7245\n",
      "Epoch 346/1000\n"
     ]
    },
    {
     "name": "stdout",
     "output_type": "stream",
     "text": [
      "36/36 [==============================] - 3s 86ms/step - loss: 0.6096 - accuracy: 0.7715 - val_loss: 0.4396 - val_accuracy: 0.8476\n",
      "Epoch 347/1000\n",
      "36/36 [==============================] - 3s 87ms/step - loss: 0.5124 - accuracy: 0.8131 - val_loss: 0.4177 - val_accuracy: 0.8422\n",
      "Epoch 348/1000\n",
      "36/36 [==============================] - 3s 86ms/step - loss: 0.7716 - accuracy: 0.7306 - val_loss: 0.7695 - val_accuracy: 0.7301\n",
      "Epoch 349/1000\n",
      "36/36 [==============================] - 3s 87ms/step - loss: 0.5619 - accuracy: 0.7537 - val_loss: 0.5146 - val_accuracy: 0.7423\n",
      "Epoch 350/1000\n",
      "36/36 [==============================] - 3s 86ms/step - loss: 0.4803 - accuracy: 0.8328 - val_loss: 0.4698 - val_accuracy: 0.8657\n",
      "Epoch 351/1000\n",
      "36/36 [==============================] - 3s 87ms/step - loss: 0.5050 - accuracy: 0.8354 - val_loss: 0.4203 - val_accuracy: 0.8669\n",
      "Epoch 352/1000\n",
      "36/36 [==============================] - 3s 86ms/step - loss: 0.3996 - accuracy: 0.8616 - val_loss: 0.3717 - val_accuracy: 0.8636\n",
      "Epoch 353/1000\n",
      "36/36 [==============================] - 3s 87ms/step - loss: 0.3713 - accuracy: 0.8628 - val_loss: 0.3747 - val_accuracy: 0.8643\n",
      "Epoch 354/1000\n",
      "36/36 [==============================] - 3s 87ms/step - loss: 0.3938 - accuracy: 0.8614 - val_loss: 0.3623 - val_accuracy: 0.8664\n",
      "Epoch 355/1000\n",
      "36/36 [==============================] - 3s 87ms/step - loss: 0.3729 - accuracy: 0.8680 - val_loss: 0.3515 - val_accuracy: 0.8734\n",
      "Epoch 356/1000\n",
      "36/36 [==============================] - 3s 87ms/step - loss: 0.3573 - accuracy: 0.8717 - val_loss: 0.3427 - val_accuracy: 0.8749\n",
      "Epoch 357/1000\n",
      "36/36 [==============================] - 3s 87ms/step - loss: 0.3477 - accuracy: 0.8734 - val_loss: 0.3374 - val_accuracy: 0.8758\n",
      "Epoch 358/1000\n",
      "36/36 [==============================] - 3s 87ms/step - loss: 0.3506 - accuracy: 0.8714 - val_loss: 0.3329 - val_accuracy: 0.8758\n",
      "Epoch 359/1000\n",
      "36/36 [==============================] - 3s 86ms/step - loss: 0.3363 - accuracy: 0.8757 - val_loss: 0.3265 - val_accuracy: 0.8787\n",
      "Epoch 360/1000\n",
      "36/36 [==============================] - 3s 86ms/step - loss: 0.3317 - accuracy: 0.8764 - val_loss: 0.3264 - val_accuracy: 0.8781\n",
      "Epoch 361/1000\n",
      "36/36 [==============================] - 3s 87ms/step - loss: 0.3360 - accuracy: 0.8744 - val_loss: 0.3231 - val_accuracy: 0.8788\n",
      "Epoch 362/1000\n",
      "36/36 [==============================] - 3s 87ms/step - loss: 0.3267 - accuracy: 0.8798 - val_loss: 0.3216 - val_accuracy: 0.8794\n",
      "Epoch 363/1000\n",
      "36/36 [==============================] - 3s 87ms/step - loss: 0.3204 - accuracy: 0.8814 - val_loss: 0.3176 - val_accuracy: 0.8805\n",
      "Epoch 364/1000\n",
      "36/36 [==============================] - 3s 86ms/step - loss: 0.3170 - accuracy: 0.8828 - val_loss: 0.3158 - val_accuracy: 0.8835\n",
      "Epoch 365/1000\n",
      "36/36 [==============================] - 3s 87ms/step - loss: 0.3141 - accuracy: 0.8839 - val_loss: 0.3151 - val_accuracy: 0.8819\n",
      "Epoch 366/1000\n",
      "36/36 [==============================] - 3s 87ms/step - loss: 0.3295 - accuracy: 0.8792 - val_loss: 0.3285 - val_accuracy: 0.8775\n",
      "Epoch 367/1000\n",
      "36/36 [==============================] - 3s 87ms/step - loss: 0.3364 - accuracy: 0.8731 - val_loss: 0.3578 - val_accuracy: 0.8520\n",
      "Epoch 368/1000\n",
      "36/36 [==============================] - 3s 86ms/step - loss: 0.3697 - accuracy: 0.8654 - val_loss: 0.3163 - val_accuracy: 0.8845\n",
      "Epoch 369/1000\n",
      "36/36 [==============================] - 3s 87ms/step - loss: 0.3292 - accuracy: 0.8752 - val_loss: 0.3116 - val_accuracy: 0.8825\n",
      "Epoch 370/1000\n",
      "36/36 [==============================] - 3s 86ms/step - loss: 0.4395 - accuracy: 0.8440 - val_loss: 0.3682 - val_accuracy: 0.8624\n",
      "Epoch 371/1000\n",
      "36/36 [==============================] - 3s 87ms/step - loss: 0.3538 - accuracy: 0.8715 - val_loss: 0.3101 - val_accuracy: 0.8864\n",
      "Epoch 372/1000\n",
      "36/36 [==============================] - 3s 87ms/step - loss: 0.3062 - accuracy: 0.8865 - val_loss: 0.3010 - val_accuracy: 0.8869\n",
      "Epoch 373/1000\n",
      "36/36 [==============================] - 3s 87ms/step - loss: 0.3004 - accuracy: 0.8883 - val_loss: 0.3011 - val_accuracy: 0.8868\n",
      "Epoch 374/1000\n",
      "36/36 [==============================] - 3s 87ms/step - loss: 0.2963 - accuracy: 0.8887 - val_loss: 0.2976 - val_accuracy: 0.8874\n",
      "Epoch 375/1000\n",
      "36/36 [==============================] - 3s 86ms/step - loss: 0.2938 - accuracy: 0.8900 - val_loss: 0.2942 - val_accuracy: 0.8894\n",
      "Epoch 376/1000\n",
      "36/36 [==============================] - 3s 87ms/step - loss: 0.2923 - accuracy: 0.8899 - val_loss: 0.2922 - val_accuracy: 0.8907\n",
      "Epoch 377/1000\n",
      "36/36 [==============================] - 3s 87ms/step - loss: 0.2907 - accuracy: 0.8897 - val_loss: 0.2885 - val_accuracy: 0.8909\n",
      "Epoch 378/1000\n",
      "36/36 [==============================] - 3s 87ms/step - loss: 0.2884 - accuracy: 0.8912 - val_loss: 0.2908 - val_accuracy: 0.8906\n",
      "Epoch 379/1000\n",
      "36/36 [==============================] - 3s 86ms/step - loss: 0.2844 - accuracy: 0.8930 - val_loss: 0.2881 - val_accuracy: 0.8911\n",
      "Epoch 380/1000\n",
      "36/36 [==============================] - 3s 87ms/step - loss: 0.2844 - accuracy: 0.8921 - val_loss: 0.2876 - val_accuracy: 0.8908\n",
      "Epoch 381/1000\n",
      "36/36 [==============================] - 3s 86ms/step - loss: 0.2823 - accuracy: 0.8926 - val_loss: 0.2846 - val_accuracy: 0.8937\n",
      "Epoch 382/1000\n",
      "36/36 [==============================] - 3s 87ms/step - loss: 0.2813 - accuracy: 0.8933 - val_loss: 0.2819 - val_accuracy: 0.8942\n",
      "Epoch 383/1000\n",
      "36/36 [==============================] - 3s 87ms/step - loss: 0.2824 - accuracy: 0.8937 - val_loss: 0.2789 - val_accuracy: 0.8949\n",
      "Epoch 384/1000\n",
      "36/36 [==============================] - 3s 86ms/step - loss: 0.2789 - accuracy: 0.8941 - val_loss: 0.2776 - val_accuracy: 0.8953\n",
      "Epoch 385/1000\n",
      "36/36 [==============================] - 3s 87ms/step - loss: 0.2761 - accuracy: 0.8956 - val_loss: 0.2810 - val_accuracy: 0.8961\n",
      "Epoch 386/1000\n",
      "36/36 [==============================] - 3s 86ms/step - loss: 0.2767 - accuracy: 0.8955 - val_loss: 0.2764 - val_accuracy: 0.8964\n",
      "Epoch 387/1000\n",
      "36/36 [==============================] - 3s 87ms/step - loss: 0.2756 - accuracy: 0.8957 - val_loss: 0.2808 - val_accuracy: 0.8936\n",
      "Epoch 388/1000\n",
      "36/36 [==============================] - 3s 86ms/step - loss: 0.2747 - accuracy: 0.8964 - val_loss: 0.2752 - val_accuracy: 0.8961\n",
      "Epoch 389/1000\n",
      "36/36 [==============================] - 3s 87ms/step - loss: 0.2759 - accuracy: 0.8946 - val_loss: 0.2854 - val_accuracy: 0.8928\n",
      "Epoch 390/1000\n",
      "36/36 [==============================] - 3s 87ms/step - loss: 0.2725 - accuracy: 0.8972 - val_loss: 0.2743 - val_accuracy: 0.8965\n",
      "Epoch 391/1000\n",
      "36/36 [==============================] - 3s 87ms/step - loss: 0.2725 - accuracy: 0.8969 - val_loss: 0.2765 - val_accuracy: 0.8973\n",
      "Epoch 392/1000\n",
      "36/36 [==============================] - 3s 87ms/step - loss: 0.2720 - accuracy: 0.8967 - val_loss: 0.2758 - val_accuracy: 0.8952\n",
      "Epoch 393/1000\n",
      "36/36 [==============================] - 3s 87ms/step - loss: 0.2718 - accuracy: 0.8972 - val_loss: 0.2744 - val_accuracy: 0.8966\n",
      "Epoch 394/1000\n",
      "36/36 [==============================] - 3s 87ms/step - loss: 0.3510 - accuracy: 0.8772 - val_loss: 0.3213 - val_accuracy: 0.8814\n",
      "Epoch 395/1000\n",
      "36/36 [==============================] - 3s 87ms/step - loss: 0.4249 - accuracy: 0.8276 - val_loss: 0.3151 - val_accuracy: 0.8844\n",
      "Epoch 396/1000\n",
      "36/36 [==============================] - 3s 87ms/step - loss: 0.3166 - accuracy: 0.8854 - val_loss: 0.2771 - val_accuracy: 0.8962\n",
      "Epoch 397/1000\n",
      "36/36 [==============================] - 3s 86ms/step - loss: 0.2791 - accuracy: 0.8955 - val_loss: 0.2739 - val_accuracy: 0.8940\n",
      "Epoch 398/1000\n",
      "36/36 [==============================] - 3s 87ms/step - loss: 0.2784 - accuracy: 0.8949 - val_loss: 0.2764 - val_accuracy: 0.8947\n",
      "Epoch 399/1000\n",
      "36/36 [==============================] - 3s 87ms/step - loss: 0.2756 - accuracy: 0.8959 - val_loss: 0.2710 - val_accuracy: 0.8987\n",
      "Epoch 400/1000\n",
      "36/36 [==============================] - 3s 87ms/step - loss: 0.2729 - accuracy: 0.8978 - val_loss: 0.2756 - val_accuracy: 0.8952\n",
      "Epoch 401/1000\n",
      "36/36 [==============================] - 3s 87ms/step - loss: 0.2722 - accuracy: 0.8970 - val_loss: 0.2719 - val_accuracy: 0.8972\n",
      "Epoch 402/1000\n"
     ]
    },
    {
     "name": "stdout",
     "output_type": "stream",
     "text": [
      "36/36 [==============================] - 3s 86ms/step - loss: 0.2699 - accuracy: 0.8973 - val_loss: 0.2723 - val_accuracy: 0.8998\n",
      "Epoch 403/1000\n",
      "36/36 [==============================] - 3s 87ms/step - loss: 0.2714 - accuracy: 0.8968 - val_loss: 0.2722 - val_accuracy: 0.8968\n",
      "Epoch 404/1000\n",
      "36/36 [==============================] - 3s 86ms/step - loss: 0.2693 - accuracy: 0.8981 - val_loss: 0.2715 - val_accuracy: 0.8974\n",
      "Epoch 405/1000\n",
      "36/36 [==============================] - 3s 87ms/step - loss: 0.2708 - accuracy: 0.8970 - val_loss: 0.2756 - val_accuracy: 0.8954\n",
      "Epoch 406/1000\n",
      "36/36 [==============================] - 3s 87ms/step - loss: 0.2675 - accuracy: 0.8984 - val_loss: 0.2755 - val_accuracy: 0.8948\n",
      "Epoch 407/1000\n",
      "36/36 [==============================] - 3s 87ms/step - loss: 0.2676 - accuracy: 0.8986 - val_loss: 0.2786 - val_accuracy: 0.8889\n",
      "Epoch 408/1000\n",
      "36/36 [==============================] - 3s 86ms/step - loss: 0.2672 - accuracy: 0.8981 - val_loss: 0.2695 - val_accuracy: 0.8991\n",
      "Epoch 409/1000\n",
      "36/36 [==============================] - 3s 87ms/step - loss: 0.4006 - accuracy: 0.8725 - val_loss: 1.1135 - val_accuracy: 0.7612\n",
      "Epoch 410/1000\n",
      "36/36 [==============================] - 3s 87ms/step - loss: 0.8546 - accuracy: 0.7079 - val_loss: 0.6799 - val_accuracy: 0.7267\n",
      "Epoch 411/1000\n",
      "36/36 [==============================] - 3s 87ms/step - loss: 0.4314 - accuracy: 0.8438 - val_loss: 0.3648 - val_accuracy: 0.8602\n",
      "Epoch 412/1000\n",
      "36/36 [==============================] - 3s 87ms/step - loss: 0.3522 - accuracy: 0.8711 - val_loss: 0.3554 - val_accuracy: 0.8627\n",
      "Epoch 413/1000\n",
      "36/36 [==============================] - 3s 86ms/step - loss: 0.3275 - accuracy: 0.8793 - val_loss: 0.3253 - val_accuracy: 0.8782\n",
      "Epoch 414/1000\n",
      "36/36 [==============================] - 3s 87ms/step - loss: 0.3121 - accuracy: 0.8842 - val_loss: 0.3143 - val_accuracy: 0.8838\n",
      "Epoch 415/1000\n",
      "36/36 [==============================] - 3s 87ms/step - loss: 0.3036 - accuracy: 0.8873 - val_loss: 0.3079 - val_accuracy: 0.8880\n",
      "Epoch 416/1000\n",
      "36/36 [==============================] - 3s 87ms/step - loss: 0.3051 - accuracy: 0.8858 - val_loss: 0.3306 - val_accuracy: 0.8804\n",
      "Epoch 417/1000\n",
      "36/36 [==============================] - 3s 87ms/step - loss: 0.3569 - accuracy: 0.8662 - val_loss: 0.3530 - val_accuracy: 0.8694\n",
      "Epoch 418/1000\n",
      "36/36 [==============================] - 3s 87ms/step - loss: 0.3357 - accuracy: 0.8767 - val_loss: 0.3111 - val_accuracy: 0.8862\n",
      "Epoch 419/1000\n",
      "36/36 [==============================] - 3s 87ms/step - loss: 0.2982 - accuracy: 0.8896 - val_loss: 0.2988 - val_accuracy: 0.8900\n",
      "Epoch 420/1000\n",
      "36/36 [==============================] - 3s 87ms/step - loss: 0.2896 - accuracy: 0.8931 - val_loss: 0.2963 - val_accuracy: 0.8923\n",
      "Epoch 421/1000\n",
      "36/36 [==============================] - 3s 87ms/step - loss: 0.2851 - accuracy: 0.8942 - val_loss: 0.2900 - val_accuracy: 0.8942\n",
      "Epoch 422/1000\n",
      "36/36 [==============================] - 3s 87ms/step - loss: 0.2819 - accuracy: 0.8947 - val_loss: 0.2854 - val_accuracy: 0.8969\n",
      "Epoch 423/1000\n",
      "36/36 [==============================] - 3s 87ms/step - loss: 0.2794 - accuracy: 0.8949 - val_loss: 0.2857 - val_accuracy: 0.8957\n",
      "Epoch 424/1000\n",
      "36/36 [==============================] - 3s 87ms/step - loss: 0.2763 - accuracy: 0.8955 - val_loss: 0.2848 - val_accuracy: 0.8985\n",
      "Epoch 425/1000\n",
      "36/36 [==============================] - 3s 87ms/step - loss: 0.2768 - accuracy: 0.8962 - val_loss: 0.2923 - val_accuracy: 0.8919\n",
      "Epoch 426/1000\n",
      "36/36 [==============================] - 3s 87ms/step - loss: 0.2720 - accuracy: 0.8978 - val_loss: 0.2868 - val_accuracy: 0.8914\n",
      "Epoch 427/1000\n",
      "36/36 [==============================] - 3s 87ms/step - loss: 0.2712 - accuracy: 0.8973 - val_loss: 0.2784 - val_accuracy: 0.8957\n",
      "Epoch 428/1000\n",
      "36/36 [==============================] - 3s 87ms/step - loss: 0.2699 - accuracy: 0.8969 - val_loss: 0.2802 - val_accuracy: 0.8954\n",
      "Epoch 429/1000\n",
      "36/36 [==============================] - 3s 87ms/step - loss: 0.2677 - accuracy: 0.8992 - val_loss: 0.2765 - val_accuracy: 0.8977\n",
      "Epoch 430/1000\n",
      "36/36 [==============================] - 3s 87ms/step - loss: 0.2676 - accuracy: 0.8983 - val_loss: 0.2761 - val_accuracy: 0.8931\n",
      "Epoch 431/1000\n",
      "36/36 [==============================] - 3s 87ms/step - loss: 0.2655 - accuracy: 0.8992 - val_loss: 0.2739 - val_accuracy: 0.8998\n",
      "Epoch 432/1000\n",
      "36/36 [==============================] - 3s 87ms/step - loss: 0.2648 - accuracy: 0.8997 - val_loss: 0.2717 - val_accuracy: 0.9005\n",
      "Epoch 433/1000\n",
      "36/36 [==============================] - 3s 87ms/step - loss: 0.2642 - accuracy: 0.8999 - val_loss: 0.2740 - val_accuracy: 0.8998\n",
      "Epoch 434/1000\n",
      "36/36 [==============================] - 3s 87ms/step - loss: 0.2638 - accuracy: 0.8999 - val_loss: 0.2746 - val_accuracy: 0.8992\n",
      "Epoch 435/1000\n",
      "36/36 [==============================] - 3s 87ms/step - loss: 0.2622 - accuracy: 0.9012 - val_loss: 0.2784 - val_accuracy: 0.8975\n",
      "Epoch 436/1000\n",
      "36/36 [==============================] - 3s 86ms/step - loss: 0.2622 - accuracy: 0.9009 - val_loss: 0.2742 - val_accuracy: 0.8993\n",
      "Epoch 437/1000\n",
      "36/36 [==============================] - 3s 87ms/step - loss: 0.2614 - accuracy: 0.9009 - val_loss: 0.2759 - val_accuracy: 0.8987\n",
      "Epoch 438/1000\n",
      "36/36 [==============================] - 3s 87ms/step - loss: 0.2614 - accuracy: 0.9004 - val_loss: 0.2721 - val_accuracy: 0.9000\n",
      "Epoch 439/1000\n",
      "36/36 [==============================] - 3s 87ms/step - loss: 0.2592 - accuracy: 0.9010 - val_loss: 0.2692 - val_accuracy: 0.9006\n"
     ]
    }
   ],
   "source": [
    "history = model_RNN_LSTM.fit(x_train,y_train, epochs=1000, batch_size=16, validation_split=0.2,callbacks = [callbacks])"
   ]
  },
  {
   "cell_type": "code",
   "execution_count": 160,
   "metadata": {},
   "outputs": [],
   "source": [
    "# conf = []\n",
    "# for i in predictions:\n",
    "#     softmax = []\n",
    "#     for j in i:\n",
    "#         dist = np.linalg.norm(target-j,axis =1)\n",
    "#         softmax.append(np.exp(dist)/np.sum(np.exp(dist)))\n",
    "#     conf.append(softmax)"
   ]
  },
  {
   "cell_type": "code",
   "execution_count": 75,
   "metadata": {
    "executionInfo": {
     "elapsed": 3,
     "status": "ok",
     "timestamp": 1670470311929,
     "user": {
      "displayName": "Niegil Francis Muttath Joseph",
      "userId": "14540288352466598089"
     },
     "user_tz": 300
    },
    "id": "4kEwHgcTThyk"
   },
   "outputs": [],
   "source": [
    "# model_LSTM.save(\"/content/drive/MyDrive/Robot perception /Modeling/models/lstm_data_trim.h5\")\n",
    "# model_LSTM.save(\"/content/drive/MyDrive/Robot perception /Modeling/models/lstm.h5\")\n",
    "model_RNN_LSTM.save(\"./models/sep_0.7/lstm_rnn.h5\")"
   ]
  },
  {
   "cell_type": "code",
   "execution_count": 79,
   "metadata": {
    "colab": {
     "base_uri": "https://localhost:8080/"
    },
    "executionInfo": {
     "elapsed": 1549,
     "status": "ok",
     "timestamp": 1670464132234,
     "user": {
      "displayName": "Niegil Francis Muttath Joseph",
      "userId": "14540288352466598089"
     },
     "user_tz": 300
    },
    "id": "_lI1n5rWk7DF",
    "outputId": "11fbc446-b78b-4739-c7b0-cdfd12b12134"
   },
   "outputs": [],
   "source": [
    "# Testing the saved model\n",
    "# classification models\n",
    "# model_load = load_model('/content/drive/MyDrive/Robot perception /Modeling/models/lstm_data_trim.h5')\n",
    "# model_load = load_model('/content/drive/MyDrive/Robot perception /Modeling/models/lstm.h5')\n",
    "# model_load = load_model('./models/lstm_rnn.h5')\n",
    "model_load = load_model('./models/sep_0.7/lstm_rnn.h5')\n",
    "\n",
    "\n",
    "# 3d models\n",
    "# model_load = load_model('./models/sep_1/lstm_3d.h5')\n",
    "# model_load = load_model('./models/sep_1/lstm_rnn_3d.h5', compile=False)\n",
    "\n"
   ]
  },
  {
   "cell_type": "code",
   "execution_count": 80,
   "metadata": {},
   "outputs": [
    {
     "name": "stdout",
     "output_type": "stream",
     "text": [
      "6/6 [==============================] - 0s 4ms/step - loss: 0.4029 - accuracy: 0.8769\n"
     ]
    },
    {
     "data": {
      "text/plain": [
       "[0.40291428565979004, 0.8769382238388062]"
      ]
     },
     "execution_count": 80,
     "metadata": {},
     "output_type": "execute_result"
    }
   ],
   "source": [
    "# Model evaluation for classification\n",
    "# model_load.compile(loss='categorical_crossentropy', metrics = ['accuracy'], optimizer=Adam(1e-2))\n",
    "# Evaluating classification models\n",
    "model_load.evaluate(x_test,y_test)"
   ]
  },
  {
   "cell_type": "code",
   "execution_count": 51,
   "metadata": {},
   "outputs": [
    {
     "name": "stderr",
     "output_type": "stream",
     "text": [
      "2022-12-11 18:28:11.923356: I tensorflow/compiler/xla/stream_executor/cuda/cuda_blas.cc:630] TensorFloat-32 will be used for the matrix multiplication. This will only be logged once.\n",
      "2022-12-11 18:28:18.451829: I tensorflow/compiler/xla/stream_executor/cuda/cuda_dnn.cc:428] Loaded cuDNN version 8101\n"
     ]
    },
    {
     "name": "stdout",
     "output_type": "stream",
     "text": [
      "Accuracy: 0.8233830845771144\n"
     ]
    }
   ],
   "source": [
    "# Model evaluation for 3d \n",
    "# model_load.compile(loss='mse', metrics = ['mse'])\n",
    "predictions = model_load.predict(x_test)\n",
    "preds = [[np.argmin(np.linalg.norm(target-j,axis =1)) for j in i] for i in predictions]\n",
    "label_y_test = [[np.argmin(np.linalg.norm(target-j,axis =1)) for j in i] for i in y_test.numpy()]\n",
    "correct = 0\n",
    "for i,j in zip(preds,label_y_test):\n",
    "    for k,l in zip(i,j):\n",
    "        correct+=np.sum((k==l)*1)\n",
    "print(\"Accuracy:\", correct/np.prod(np.shape(preds)) )"
   ]
  },
  {
   "cell_type": "code",
   "execution_count": 52,
   "metadata": {},
   "outputs": [
    {
     "name": "stdout",
     "output_type": "stream",
     "text": [
      "Model: \"model\"\n",
      "_________________________________________________________________\n",
      "Layer (type)                 Output Shape              Param #   \n",
      "=================================================================\n",
      "input_layer (InputLayer)     [(None, 200, 3)]          0         \n",
      "_________________________________________________________________\n",
      "dense (Dense)                (None, 200, 15)           60        \n",
      "_________________________________________________________________\n",
      "simple_rnn (SimpleRNN)       (None, 200, 15)           465       \n",
      "_________________________________________________________________\n",
      "lstm (LSTM)                  (None, 200, 15)           1860      \n",
      "_________________________________________________________________\n",
      "dense_1 (Dense)              (None, 200, 3)            48        \n",
      "=================================================================\n",
      "Total params: 2,433\n",
      "Trainable params: 2,433\n",
      "Non-trainable params: 0\n",
      "_________________________________________________________________\n"
     ]
    }
   ],
   "source": [
    "model_load.summary()"
   ]
  },
  {
   "cell_type": "code",
   "execution_count": null,
   "metadata": {},
   "outputs": [],
   "source": []
  }
 ],
 "metadata": {
  "accelerator": "GPU",
  "colab": {
   "provenance": []
  },
  "gpuClass": "standard",
  "kernelspec": {
   "display_name": "Python 3 (ipykernel)",
   "language": "python",
   "name": "python3"
  },
  "language_info": {
   "codemirror_mode": {
    "name": "ipython",
    "version": 3
   },
   "file_extension": ".py",
   "mimetype": "text/x-python",
   "name": "python",
   "nbconvert_exporter": "python",
   "pygments_lexer": "ipython3",
   "version": "3.9.12"
  },
  "vscode": {
   "interpreter": {
    "hash": "26de051ba29f2982a8de78e945f0abaf191376122a1563185a90213a26c5da77"
   }
  }
 },
 "nbformat": 4,
 "nbformat_minor": 1
}
