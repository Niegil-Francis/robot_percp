{
 "cells": [
  {
   "cell_type": "code",
   "execution_count": 5,
   "metadata": {
    "executionInfo": {
     "elapsed": 785,
     "status": "ok",
     "timestamp": 1670472818051,
     "user": {
      "displayName": "Niegil Francis Muttath Joseph",
      "userId": "14540288352466598089"
     },
     "user_tz": 300
    },
    "id": "yu0OV4sf1nk8"
   },
   "outputs": [],
   "source": [
    "import pandas as pd\n",
    "import glob\n",
    "import numpy as np\n",
    "import matplotlib.pyplot as plt\n",
    "from mpl_toolkits.mplot3d import Axes3D"
   ]
  },
  {
   "cell_type": "code",
   "execution_count": 6,
   "metadata": {
    "executionInfo": {
     "elapsed": 4,
     "status": "ok",
     "timestamp": 1670472819084,
     "user": {
      "displayName": "Niegil Francis Muttath Joseph",
      "userId": "14540288352466598089"
     },
     "user_tz": 300
    },
    "id": "svhuDSYP1nk-",
    "scrolled": true
   },
   "outputs": [],
   "source": [
    "import requests\n",
    "import re\n",
    "import os\n",
    "import zipfile\n",
    "import collections\n",
    "import urllib.request\n",
    "from collections import defaultdict\n",
    "%matplotlib inline\n",
    "from IPython.core.display import HTML\n",
    "from collections import defaultdict\n",
    "import time\n",
    "import random\n",
    "\n",
    "import tensorflow as tf\n",
    "from tensorflow.python import keras\n",
    "from tensorflow.python.keras import backend as K\n",
    "from tensorflow.python.keras.models import Model\n",
    "from tensorflow.python.keras.models import load_model\n",
    "\n",
    "from sklearn.model_selection import train_test_split\n",
    "from sklearn.preprocessing import OneHotEncoder\n",
    "from sklearn.metrics import accuracy_score\n"
   ]
  },
  {
   "cell_type": "code",
   "execution_count": 7,
   "metadata": {
    "colab": {
     "base_uri": "https://localhost:8080/"
    },
    "executionInfo": {
     "elapsed": 9,
     "status": "ok",
     "timestamp": 1670472822205,
     "user": {
      "displayName": "Niegil Francis Muttath Joseph",
      "userId": "14540288352466598089"
     },
     "user_tz": 300
    },
    "id": "vGhXf6lC1nk_",
    "outputId": "478747bb-6f8c-481d-ebb4-82b506528c55"
   },
   "outputs": [
    {
     "name": "stdout",
     "output_type": "stream",
     "text": [
      "tensorflow version 2.11.0\n",
      "keras version 2.11.0\n",
      "Eager Execution Enabled: True\n",
      "INFO:tensorflow:Using MirroredStrategy with devices ('/job:localhost/replica:0/task:0/device:GPU:0',)\n",
      "Number of replicas: 1\n",
      "Devices: [PhysicalDevice(name='/physical_device:CPU:0', device_type='CPU'), PhysicalDevice(name='/physical_device:GPU:0', device_type='GPU')]\n",
      "[LogicalDevice(name='/device:GPU:0', device_type='GPU')]\n",
      "GPU Available:  [PhysicalDevice(name='/physical_device:GPU:0', device_type='GPU')]\n",
      "All Physical Devices [PhysicalDevice(name='/physical_device:CPU:0', device_type='CPU'), PhysicalDevice(name='/physical_device:GPU:0', device_type='GPU')]\n"
     ]
    }
   ],
   "source": [
    "# Enable/Disable Eager Execution\n",
    "# Reference: https://www.tensorflow.org/guide/eager\n",
    "# TensorFlow's eager execution is an imperative programming environment that evaluates operations immediately, \n",
    "# without building graphs\n",
    "\n",
    "#tf.compat.v1.disable_eager_execution()\n",
    "#tf.compat.v1.enable_eager_execution()\n",
    "\n",
    "print(\"tensorflow version\", tf.__version__)\n",
    "print(\"keras version\", tf.keras.__version__)\n",
    "print(\"Eager Execution Enabled:\", tf.executing_eagerly())\n",
    "\n",
    "# Get the number of replicas \n",
    "strategy = tf.distribute.MirroredStrategy()\n",
    "print(\"Number of replicas:\", strategy.num_replicas_in_sync)\n",
    "\n",
    "devices = tf.config.experimental.get_visible_devices()\n",
    "print(\"Devices:\", devices)\n",
    "print(tf.config.experimental.list_logical_devices('GPU'))\n",
    "\n",
    "print(\"GPU Available: \", tf.config.list_physical_devices('GPU'))\n",
    "print(\"All Physical Devices\", tf.config.list_physical_devices())\n",
    "\n",
    "# Better performance with the tf.data API\n",
    "# Reference: https://www.tensorflow.org/guide/data_performance\n",
    "AUTOTUNE = tf.data.experimental.AUTOTUNE"
   ]
  },
  {
   "cell_type": "markdown",
   "metadata": {
    "id": "EtMgghJO1nlA"
   },
   "source": [
    "## Reading the data"
   ]
  },
  {
   "cell_type": "code",
   "execution_count": 8,
   "metadata": {
    "executionInfo": {
     "elapsed": 7156,
     "status": "ok",
     "timestamp": 1670461970917,
     "user": {
      "displayName": "Niegil Francis Muttath Joseph",
      "userId": "14540288352466598089"
     },
     "user_tz": 300
    },
    "id": "eSg0NnAgXpRg"
   },
   "outputs": [],
   "source": [
    "%%capture\n",
    "# !unzip \"./all_data/sep_1/data.zip\" -d \"./temp_data/sep_1/\""
   ]
  },
  {
   "cell_type": "code",
   "execution_count": 9,
   "metadata": {
    "executionInfo": {
     "elapsed": 4,
     "status": "ok",
     "timestamp": 1670472827844,
     "user": {
      "displayName": "Niegil Francis Muttath Joseph",
      "userId": "14540288352466598089"
     },
     "user_tz": 300
    },
    "id": "tbOPJ2jS1nlB"
   },
   "outputs": [],
   "source": [
    "# Getting the folder names \n",
    "folder_names = glob.glob(\"./temp_data/sep_1/data/*\")"
   ]
  },
  {
   "cell_type": "code",
   "execution_count": 10,
   "metadata": {
    "executionInfo": {
     "elapsed": 3,
     "status": "ok",
     "timestamp": 1670472829094,
     "user": {
      "displayName": "Niegil Francis Muttath Joseph",
      "userId": "14540288352466598089"
     },
     "user_tz": 300
    },
    "id": "JkZ1ScX01nlB"
   },
   "outputs": [],
   "source": [
    "# Getting the data names\n",
    "data_names = []\n",
    "for i in folder_names:\n",
    "    data_names.append(glob.glob(i+\"/*.csv\"))"
   ]
  },
  {
   "cell_type": "markdown",
   "metadata": {
    "id": "ng5z05Q61nlC"
   },
   "source": [
    "## Data Loading"
   ]
  },
  {
   "cell_type": "code",
   "execution_count": 11,
   "metadata": {
    "executionInfo": {
     "elapsed": 14851,
     "status": "ok",
     "timestamp": 1670472843943,
     "user": {
      "displayName": "Niegil Francis Muttath Joseph",
      "userId": "14540288352466598089"
     },
     "user_tz": 300
    },
    "id": "06RUU7IU1nlD"
   },
   "outputs": [],
   "source": [
    "# Datasets to skip \n",
    "skip = []\n",
    "\n",
    "# Labels of the datasets\n",
    "labels = []\n",
    "\n",
    "# Data list \n",
    "data = []\n",
    "\n",
    "\n",
    "# Getting the labels and data for each dataset\n",
    "for i in range(len(data_names)):\n",
    "    if i in skip:\n",
    "        continue\n",
    "    \n",
    "    for j in range(len(data_names[i])):\n",
    "        labels.append([data_names[i][j][data_names[i][j].find(\".csv\")-1]])\n",
    "        \n",
    "        # Cleaning data\n",
    "        df = pd.read_csv(data_names[i][j],skiprows = 1)\n",
    "        df.drop(columns=df.columns[-1], axis=1,  inplace=True)\n",
    "        \n",
    "        data.append(df)"
   ]
  },
  {
   "cell_type": "code",
   "execution_count": 12,
   "metadata": {
    "executionInfo": {
     "elapsed": 4,
     "status": "ok",
     "timestamp": 1670472843943,
     "user": {
      "displayName": "Niegil Francis Muttath Joseph",
      "userId": "14540288352466598089"
     },
     "user_tz": 300
    },
    "id": "OhMZiWrx1nlD"
   },
   "outputs": [],
   "source": [
    "# Changing the labels from int to string\n",
    "labels = [int(i)-1 for i in np.reshape(labels,(-1,))]"
   ]
  },
  {
   "cell_type": "code",
   "execution_count": 13,
   "metadata": {},
   "outputs": [],
   "source": [
    "# Targets for sep_1\n",
    "target = np.array([[-0.314,1.661,0.45],[0,1.661,0.45],[0.314,1.661,0.45],[-0.314,1.347,0.45],[0,1.347,0.45],[0.314,1.347,0.45],[-0.314,1.033,0.45],[0,1.033,0.45],[0.314,1.033,0.45]])"
   ]
  },
  {
   "cell_type": "code",
   "execution_count": 36,
   "metadata": {},
   "outputs": [
    {
     "data": {
      "text/plain": [
       "array([[-0.157 ,  0.8305,  0.225 ],\n",
       "       [ 0.    ,  0.8305,  0.225 ],\n",
       "       [ 0.157 ,  0.8305,  0.225 ],\n",
       "       [-0.157 ,  0.6735,  0.225 ],\n",
       "       [ 0.    ,  0.6735,  0.225 ],\n",
       "       [ 0.157 ,  0.6735,  0.225 ],\n",
       "       [-0.157 ,  0.5165,  0.225 ],\n",
       "       [ 0.    ,  0.5165,  0.225 ],\n",
       "       [ 0.157 ,  0.5165,  0.225 ]])"
      ]
     },
     "execution_count": 36,
     "metadata": {},
     "output_type": "execute_result"
    }
   ],
   "source": [
    "target/2"
   ]
  },
  {
   "cell_type": "code",
   "execution_count": 14,
   "metadata": {},
   "outputs": [],
   "source": [
    "labels_3d = [target[i] for i in labels]"
   ]
  },
  {
   "cell_type": "markdown",
   "metadata": {
    "id": "b3aWbcBR1nlD"
   },
   "source": [
    "## Adding Features"
   ]
  },
  {
   "cell_type": "code",
   "execution_count": 15,
   "metadata": {
    "executionInfo": {
     "elapsed": 57502,
     "status": "ok",
     "timestamp": 1670472901442,
     "user": {
      "displayName": "Niegil Francis Muttath Joseph",
      "userId": "14540288352466598089"
     },
     "user_tz": 300
    },
    "id": "6sJpWHrX1nlE"
   },
   "outputs": [],
   "source": [
    "# Adding the centroid of all the fingers to the data\n",
    "\n",
    "new_data = []\n",
    "\n",
    "for idx_1 in range(len(data)):\n",
    "\n",
    "    \n",
    "    # Grouped columns for centroid\n",
    "    grouped_columns_x = data[idx_1].columns[3::3] \n",
    "    grouped_columns_y = data[idx_1].columns[4::3]\n",
    "    grouped_columns_z = data[idx_1].columns[5::3]\n",
    "    \n",
    "    # Getting the centroid of the finger points\n",
    "    cent_x = np.mean(data[idx_1][grouped_columns_x],axis = 1)\n",
    "    cent_y = np.mean(data[idx_1][grouped_columns_y],axis = 1)\n",
    "    cent_z = np.mean(data[idx_1][grouped_columns_z],axis = 1)\n",
    "    \n",
    "    new_data.append(pd.concat([data[idx_1],cent_x,cent_y,cent_z],axis = 1))\n",
    "    "
   ]
  },
  {
   "cell_type": "markdown",
   "metadata": {
    "id": "zgaA_2SY0MDc"
   },
   "source": [
    "## Data Cleaning"
   ]
  },
  {
   "cell_type": "code",
   "execution_count": 16,
   "metadata": {
    "executionInfo": {
     "elapsed": 4,
     "status": "ok",
     "timestamp": 1670472901442,
     "user": {
      "displayName": "Niegil Francis Muttath Joseph",
      "userId": "14540288352466598089"
     },
     "user_tz": 300
    },
    "id": "MUjsQWtJsKIn"
   },
   "outputs": [],
   "source": [
    "# Pulling only the centroid data \n",
    "cent_data = [i.iloc[:,-3:] for i in new_data]"
   ]
  },
  {
   "cell_type": "code",
   "execution_count": 17,
   "metadata": {
    "colab": {
     "base_uri": "https://localhost:8080/",
     "height": 297
    },
    "executionInfo": {
     "elapsed": 1245,
     "status": "ok",
     "timestamp": 1670472902684,
     "user": {
      "displayName": "Niegil Francis Muttath Joseph",
      "userId": "14540288352466598089"
     },
     "user_tz": 300
    },
    "id": "cq550A880PAk",
    "outputId": "8c0ba4d0-9ee8-4885-fe2b-e9f624183928"
   },
   "outputs": [
    {
     "data": {
      "image/png": "[encoded data removed]",
      "text/plain": [
       "<Figure size 640x480 with 1 Axes>"
      ]
     },
     "metadata": {},
     "output_type": "display_data"
    }
   ],
   "source": [
    "lengths = np.array([len(i) for i in cent_data])\n",
    "plt.hist(lengths)\n",
    "plt.xlabel(\"Trajectory length\")\n",
    "plt.ylabel(\"Number of trajectories\");"
   ]
  },
  {
   "cell_type": "code",
   "execution_count": 18,
   "metadata": {
    "executionInfo": {
     "elapsed": 10,
     "status": "ok",
     "timestamp": 1670472902685,
     "user": {
      "displayName": "Niegil Francis Muttath Joseph",
      "userId": "14540288352466598089"
     },
     "user_tz": 300
    },
    "id": "ymWVIli90Uu8"
   },
   "outputs": [],
   "source": [
    "# Removing trajectories with <=5 length\n",
    "idx = np.where(lengths <= 5.)[0]\n",
    "[labels.pop(j-i) for i,j in enumerate(idx)]\n",
    "[labels_3d.pop(j-i) for i,j in enumerate(idx)]\n",
    "[cent_data.pop(j-i) for i,j in enumerate(idx)];"
   ]
  },
  {
   "cell_type": "code",
   "execution_count": 19,
   "metadata": {
    "colab": {
     "base_uri": "https://localhost:8080/"
    },
    "executionInfo": {
     "elapsed": 10,
     "status": "ok",
     "timestamp": 1670472902685,
     "user": {
      "displayName": "Niegil Francis Muttath Joseph",
      "userId": "14540288352466598089"
     },
     "user_tz": 300
    },
    "id": "9X0N0OYxcyyJ",
    "outputId": "e7d207da-0b10-4219-ad7d-a7ab34848596"
   },
   "outputs": [
    {
     "data": {
      "text/plain": [
       "(array([], dtype=int64),)"
      ]
     },
     "execution_count": 19,
     "metadata": {},
     "output_type": "execute_result"
    }
   ],
   "source": [
    "# Checking to see if it worked \n",
    "lengths = np.array([len(i) for i in cent_data])\n",
    "np.where(lengths <= 5.)"
   ]
  },
  {
   "cell_type": "code",
   "execution_count": 20,
   "metadata": {
    "executionInfo": {
     "elapsed": 8,
     "status": "ok",
     "timestamp": 1670472902685,
     "user": {
      "displayName": "Niegil Francis Muttath Joseph",
      "userId": "14540288352466598089"
     },
     "user_tz": 300
    },
    "id": "hfPRW0S7UN4b"
   },
   "outputs": [],
   "source": [
    "# Train test split\n",
    "x_train, x_test, y_train, y_test = train_test_split(cent_data, labels, test_size=0.2)\n",
    "# x_train, x_test, y_train, y_test = train_test_split(cent_data, labels_3d, test_size=0.2)"
   ]
  },
  {
   "cell_type": "markdown",
   "metadata": {
    "id": "9_dZtq9NzYnZ"
   },
   "source": [
    "## Data Augmentation"
   ]
  },
  {
   "cell_type": "code",
   "execution_count": 21,
   "metadata": {
    "executionInfo": {
     "elapsed": 9,
     "status": "ok",
     "timestamp": 1670472902686,
     "user": {
      "displayName": "Niegil Francis Muttath Joseph",
      "userId": "14540288352466598089"
     },
     "user_tz": 300
    },
    "id": "LiOpfkOpaYuO"
   },
   "outputs": [],
   "source": [
    "x_train_aug = []\n",
    "for idx,i in enumerate(x_train):\n",
    "    ch = np.random.choice([0,1],p = [0.3,0.7])\n",
    "\n",
    "    flag = 0 \n",
    "\n",
    "    if ch == 0: # Perform data augmentation\n",
    "\n",
    "        trim = len(i)//2\n",
    "\n",
    "        if trim >= 5: # Trim if the lengths are greater than 5\n",
    "\n",
    "            aug = i.head(trim)\n",
    "\n",
    "        else: # If lengths are not greater than 1, don't trim\n",
    "\n",
    "            aug = i\n",
    "    else:\n",
    "        aug = i\n",
    "\n",
    "\n",
    "    x_train_aug.append(aug)\n"
   ]
  },
  {
   "cell_type": "code",
   "execution_count": 22,
   "metadata": {
    "colab": {
     "base_uri": "https://localhost:8080/"
    },
    "executionInfo": {
     "elapsed": 9,
     "status": "ok",
     "timestamp": 1670472902687,
     "user": {
      "displayName": "Niegil Francis Muttath Joseph",
      "userId": "14540288352466598089"
     },
     "user_tz": 300
    },
    "id": "4OWcaGqDBPvm",
    "outputId": "560f265e-c919-47cb-e3f7-41284420d962"
   },
   "outputs": [
    {
     "data": {
      "text/plain": [
       "(1605, 1605)"
      ]
     },
     "execution_count": 22,
     "metadata": {},
     "output_type": "execute_result"
    }
   ],
   "source": [
    "# Printing out the lengths after and before augmentation\n",
    "len(x_train_aug), len(x_train)"
   ]
  },
  {
   "cell_type": "markdown",
   "metadata": {},
   "source": [
    "## Data Formatting"
   ]
  },
  {
   "cell_type": "code",
   "execution_count": 23,
   "metadata": {
    "executionInfo": {
     "elapsed": 8,
     "status": "ok",
     "timestamp": 1670472902687,
     "user": {
      "displayName": "Niegil Francis Muttath Joseph",
      "userId": "14540288352466598089"
     },
     "user_tz": 300
    },
    "id": "kKLJbGtv1nlE"
   },
   "outputs": [],
   "source": [
    "# Getting the data in the required format for the model\n",
    "# Creating labels for RNN's output \n",
    "y_train = [[dt]*200 for idx,dt in enumerate(y_train)]\n",
    "y_test = [[dt]*200 for idx,dt in enumerate(y_test)]"
   ]
  },
  {
   "cell_type": "code",
   "execution_count": 24,
   "metadata": {
    "executionInfo": {
     "elapsed": 9,
     "status": "ok",
     "timestamp": 1670472902688,
     "user": {
      "displayName": "Niegil Francis Muttath Joseph",
      "userId": "14540288352466598089"
     },
     "user_tz": 300
    },
    "id": "evCXyI6-1nlE"
   },
   "outputs": [],
   "source": [
    "# Sequence length is based on data analysis\n",
    "x_train = tf.convert_to_tensor(tf.keras.preprocessing.sequence.pad_sequences(x_train, padding='post', dtype='float', maxlen=200))\n",
    "y_train = tf.convert_to_tensor(y_train)\n",
    "\n",
    "x_test = tf.convert_to_tensor(tf.keras.preprocessing.sequence.pad_sequences(x_test, padding='post', dtype='float', maxlen=200))\n",
    "y_test = tf.convert_to_tensor(y_test)"
   ]
  },
  {
   "cell_type": "code",
   "execution_count": 25,
   "metadata": {
    "executionInfo": {
     "elapsed": 9,
     "status": "ok",
     "timestamp": 1670472902688,
     "user": {
      "displayName": "Niegil Francis Muttath Joseph",
      "userId": "14540288352466598089"
     },
     "user_tz": 300
    },
    "id": "ryFy62Mk1nlF"
   },
   "outputs": [],
   "source": [
    "# One hot encoding the data for training - not required for label_3d\n",
    "y_train = tf.one_hot(y_train, 9, on_value = 1.0, off_value = 0.0)\n",
    "y_test = tf.one_hot(y_test, 9, on_value = 1.0, off_value = 0.0)"
   ]
  },
  {
   "cell_type": "markdown",
   "metadata": {
    "id": "JJc39yrs1nlE"
   },
   "source": [
    "## Models"
   ]
  },
  {
   "cell_type": "markdown",
   "metadata": {},
   "source": [
    "### Creating the RNN model"
   ]
  },
  {
   "cell_type": "code",
   "execution_count": 26,
   "metadata": {
    "executionInfo": {
     "elapsed": 8,
     "status": "ok",
     "timestamp": 1670472902688,
     "user": {
      "displayName": "Niegil Francis Muttath Joseph",
      "userId": "14540288352466598089"
     },
     "user_tz": 300
    },
    "id": "y12mcLmQ1nlF"
   },
   "outputs": [],
   "source": [
    "hidden_size= 10\n",
    "tf.keras.backend.clear_session()\n",
    "seq_input = tf.keras.Input(shape=x_train.shape[1:], name='input_layer')\n",
    "\n",
    "\n",
    "ip_reform = tf.keras.layers.Dense(hidden_size)\n",
    "\n",
    "ip_reformed = ip_reform(seq_input)\n",
    "\n",
    "RNN_1 = tf.keras.layers.SimpleRNN(hidden_size, return_sequences=True)\n",
    "h_1 = RNN_1(ip_reformed)\n",
    "\n",
    "RNN_2 = tf.keras.layers.SimpleRNN(hidden_size, return_sequences=True)\n",
    "h_2 = RNN_2(h_1)\n",
    "\n",
    "\n",
    "dense_2 = tf.keras.layers.Dense(9, activation='softmax')\n",
    "output = dense_2(h_2)\n",
    "\n",
    "model_RNN = tf.keras.models.Model(inputs=seq_input, outputs=output)\n",
    "\n",
    "model_RNN.compile(loss='categorical_crossentropy', metrics = ['accuracy'], optimizer=tf.keras.optimizers.Adam(1e-2))"
   ]
  },
  {
   "cell_type": "markdown",
   "metadata": {},
   "source": [
    "### Creating the RNN model - labels_3d"
   ]
  },
  {
   "cell_type": "code",
   "execution_count": 27,
   "metadata": {},
   "outputs": [],
   "source": [
    "hidden_size= 10\n",
    "tf.keras.backend.clear_session()\n",
    "seq_input = tf.keras.Input(shape=x_train.shape[1:], name='input_layer')\n",
    "\n",
    "\n",
    "ip_reform = tf.keras.layers.Dense(hidden_size)\n",
    "\n",
    "ip_reformed = ip_reform(seq_input)\n",
    "\n",
    "RNN_1 = tf.keras.layers.SimpleRNN(hidden_size, return_sequences=True)\n",
    "h_1 = RNN_1(ip_reformed)\n",
    "\n",
    "RNN_2 = tf.keras.layers.SimpleRNN(hidden_size, return_sequences=True)\n",
    "h_2 = RNN_2(h_1)\n",
    "\n",
    "\n",
    "dense_2 = tf.keras.layers.Dense(3, activation='linear')\n",
    "output = dense_2(h_2)\n",
    "\n",
    "model_RNN_3d = tf.keras.models.Model(inputs=seq_input, outputs=output)\n",
    "\n",
    "model_RNN_3d.compile(loss='mse', metrics = ['mse'], optimizer=tf.keras.optimizers.Adam(1e-2))"
   ]
  },
  {
   "cell_type": "markdown",
   "metadata": {},
   "source": [
    "### Creating the LSTM model"
   ]
  },
  {
   "cell_type": "code",
   "execution_count": 28,
   "metadata": {
    "executionInfo": {
     "elapsed": 9,
     "status": "ok",
     "timestamp": 1670472902689,
     "user": {
      "displayName": "Niegil Francis Muttath Joseph",
      "userId": "14540288352466598089"
     },
     "user_tz": 300
    },
    "id": "LJC8EL0egiGL"
   },
   "outputs": [],
   "source": [
    "hidden_size= 15\n",
    "tf.keras.backend.clear_session()\n",
    "seq_input = tf.keras.Input(shape=x_train.shape[1:], name='input_layer')\n",
    "\n",
    "ip_reform = tf.keras.layers.Dense(hidden_size)\n",
    "\n",
    "ip_reformed = ip_reform(seq_input)\n",
    "\n",
    "LSTM = tf.keras.layers.LSTM(hidden_size, return_sequences=True)\n",
    "h = LSTM(ip_reformed)\n",
    "\n",
    "dense = tf.keras.layers.Dense(9, activation='softmax')\n",
    "output = dense(h)\n",
    "\n",
    "model_LSTM = tf.keras.models.Model(inputs=seq_input, outputs=output)\n",
    "\n",
    "model_LSTM.compile(loss='categorical_crossentropy', metrics = ['accuracy'], optimizer=tf.keras.optimizers.Adam(1e-2))"
   ]
  },
  {
   "cell_type": "markdown",
   "metadata": {},
   "source": [
    "### Creating the LSTM model - labels_3d"
   ]
  },
  {
   "cell_type": "code",
   "execution_count": 29,
   "metadata": {},
   "outputs": [],
   "source": [
    "hidden_size= 15\n",
    "tf.keras.backend.clear_session()\n",
    "seq_input = tf.keras.Input(shape=x_train.shape[1:], name='input_layer')\n",
    "\n",
    "ip_reform = tf.keras.layers.Dense(hidden_size)\n",
    "\n",
    "ip_reformed = ip_reform(seq_input)\n",
    "\n",
    "LSTM = tf.keras.layers.LSTM(hidden_size, return_sequences=True)\n",
    "h = LSTM(ip_reformed)\n",
    "\n",
    "dense = tf.keras.layers.Dense(3, activation='linear')\n",
    "output = dense(h)\n",
    "\n",
    "model_LSTM_3d = tf.keras.models.Model(inputs=seq_input, outputs=output)\n",
    "\n",
    "model_LSTM_3d.compile(loss='mse', metrics = ['mse'])"
   ]
  },
  {
   "cell_type": "markdown",
   "metadata": {},
   "source": [
    "### Creating the LSTM+RNN model"
   ]
  },
  {
   "cell_type": "code",
   "execution_count": 30,
   "metadata": {
    "executionInfo": {
     "elapsed": 9,
     "status": "ok",
     "timestamp": 1670472905553,
     "user": {
      "displayName": "Niegil Francis Muttath Joseph",
      "userId": "14540288352466598089"
     },
     "user_tz": 300
    },
    "id": "qsyhNfUNdb9D"
   },
   "outputs": [],
   "source": [
    "hidden_size= 15\n",
    "tf.keras.backend.clear_session()\n",
    "seq_input = tf.keras.Input(shape=x_train.shape[1:], name='input_layer')\n",
    "\n",
    "ip_reform = tf.keras.layers.Dense(hidden_size)\n",
    "\n",
    "ip_reformed = ip_reform(seq_input)\n",
    "\n",
    "RNN = tf.keras.layers.SimpleRNN(hidden_size, return_sequences=True)\n",
    "h_1 = RNN(ip_reformed)\n",
    "\n",
    "LSTM = tf.keras.layers.LSTM(hidden_size, return_sequences=True)\n",
    "h_2 = LSTM(h_1)\n",
    "\n",
    "dense = tf.keras.layers.Dense(9, activation='softmax')\n",
    "output = dense(h_2)\n",
    "\n",
    "model_RNN_LSTM = tf.keras.models.Model(inputs=seq_input, outputs=output)\n",
    "\n",
    "model_RNN_LSTM.compile(loss='categorical_crossentropy', metrics = ['accuracy'], optimizer=tf.keras.optimizers.Adam(1e-2))"
   ]
  },
  {
   "cell_type": "markdown",
   "metadata": {},
   "source": [
    "### Creating the LSTM+RNN model - labels_3d"
   ]
  },
  {
   "cell_type": "code",
   "execution_count": 31,
   "metadata": {},
   "outputs": [],
   "source": [
    "hidden_size= 15\n",
    "tf.keras.backend.clear_session()\n",
    "seq_input = tf.keras.Input(shape=x_train.shape[1:], name='input_layer')\n",
    "\n",
    "ip_reform = tf.keras.layers.Dense(hidden_size)\n",
    "\n",
    "ip_reformed = ip_reform(seq_input)\n",
    "\n",
    "RNN = tf.keras.layers.SimpleRNN(hidden_size, return_sequences=True)\n",
    "h_1 = RNN(ip_reformed)\n",
    "\n",
    "LSTM = tf.keras.layers.LSTM(hidden_size, return_sequences=True)\n",
    "h_2 = LSTM(h_1)\n",
    "\n",
    "dense = tf.keras.layers.Dense(3, activation='linear')\n",
    "output = dense(h_2)\n",
    "\n",
    "model_RNN_LSTM_3d = tf.keras.models.Model(inputs=seq_input, outputs=output)\n",
    "\n",
    "model_RNN_LSTM_3d.compile(loss='mse', metrics = ['mse'])"
   ]
  },
  {
   "cell_type": "code",
   "execution_count": 32,
   "metadata": {
    "colab": {
     "base_uri": "https://localhost:8080/"
    },
    "executionInfo": {
     "elapsed": 8,
     "status": "ok",
     "timestamp": 1670472905553,
     "user": {
      "displayName": "Niegil Francis Muttath Joseph",
      "userId": "14540288352466598089"
     },
     "user_tz": 300
    },
    "id": "29kaMRnt1nlF",
    "outputId": "96eed065-c571-49cd-fffa-6e4ef9d4d358"
   },
   "outputs": [
    {
     "name": "stdout",
     "output_type": "stream",
     "text": [
      "Model: \"model\"\n",
      "_________________________________________________________________\n",
      " Layer (type)                Output Shape              Param #   \n",
      "=================================================================\n",
      " input_layer (InputLayer)    [(None, 200, 3)]          0         \n",
      "                                                                 \n",
      " dense (Dense)               (None, 200, 10)           40        \n",
      "                                                                 \n",
      " simple_rnn (SimpleRNN)      (None, 200, 10)           210       \n",
      "                                                                 \n",
      " simple_rnn_1 (SimpleRNN)    (None, 200, 10)           210       \n",
      "                                                                 \n",
      " dense_1 (Dense)             (None, 200, 9)            99        \n",
      "                                                                 \n",
      "=================================================================\n",
      "Total params: 559\n",
      "Trainable params: 559\n",
      "Non-trainable params: 0\n",
      "_________________________________________________________________\n"
     ]
    }
   ],
   "source": [
    "model_RNN.summary()"
   ]
  },
  {
   "cell_type": "code",
   "execution_count": 33,
   "metadata": {
    "executionInfo": {
     "elapsed": 1593,
     "status": "ok",
     "timestamp": 1670472927009,
     "user": {
      "displayName": "Niegil Francis Muttath Joseph",
      "userId": "14540288352466598089"
     },
     "user_tz": 300
    },
    "id": "7B3g6dUGOOoU"
   },
   "outputs": [],
   "source": [
    "callbacks = tf.keras.callbacks.EarlyStopping(\n",
    "    monitor='val_accuracy',\n",
    "    patience=100,\n",
    "    restore_best_weights = True\n",
    ")"
   ]
  },
  {
   "cell_type": "code",
   "execution_count": 34,
   "metadata": {
    "colab": {
     "base_uri": "https://localhost:8080/"
    },
    "id": "RdnYYPv_1nlF",
    "outputId": "a1bb33a5-8b8c-446d-9016-a14cbc846054"
   },
   "outputs": [
    {
     "name": "stdout",
     "output_type": "stream",
     "text": [
      "Epoch 1/1000\n"
     ]
    },
    {
     "name": "stderr",
     "output_type": "stream",
     "text": [
      "2022-12-11 19:19:56.136243: I tensorflow/compiler/xla/stream_executor/cuda/cuda_blas.cc:630] TensorFloat-32 will be used for the matrix multiplication. This will only be logged once.\n",
      "2022-12-11 19:19:56.410201: I tensorflow/compiler/xla/service/service.cc:173] XLA service 0x1455680123d0 initialized for platform CUDA (this does not guarantee that XLA will be used). Devices:\n",
      "2022-12-11 19:19:56.410228: I tensorflow/compiler/xla/service/service.cc:181]   StreamExecutor device (0): NVIDIA A100-SXM4-80GB, Compute Capability 8.0\n",
      "2022-12-11 19:19:56.415177: I tensorflow/compiler/mlir/tensorflow/utils/dump_mlir_util.cc:268] disabling MLIR crash reproducer, set env var `MLIR_CRASH_REPRODUCER_DIRECTORY` to enable.\n",
      "2022-12-11 19:19:56.810981: I tensorflow/compiler/jit/xla_compilation_cache.cc:477] Compiled cluster using XLA!  This line is logged at most once for the lifetime of the process.\n"
     ]
    },
    {
     "name": "stdout",
     "output_type": "stream",
     "text": [
      "81/81 [==============================] - 21s 179ms/step - loss: 2.1900 - accuracy: 0.1224 - val_loss: 2.1549 - val_accuracy: 0.1433\n",
      "Epoch 2/1000\n",
      "81/81 [==============================] - 14s 175ms/step - loss: 2.1506 - accuracy: 0.1431 - val_loss: 2.1636 - val_accuracy: 0.1503\n",
      "Epoch 3/1000\n",
      "81/81 [==============================] - 14s 176ms/step - loss: 2.1434 - accuracy: 0.1446 - val_loss: 2.1231 - val_accuracy: 0.1699\n",
      "Epoch 4/1000\n",
      "81/81 [==============================] - 14s 169ms/step - loss: 2.1298 - accuracy: 0.1621 - val_loss: 2.1229 - val_accuracy: 0.1607\n",
      "Epoch 5/1000\n",
      "81/81 [==============================] - 14s 168ms/step - loss: 2.1317 - accuracy: 0.1545 - val_loss: 2.1372 - val_accuracy: 0.1423\n",
      "Epoch 6/1000\n",
      "81/81 [==============================] - 14s 169ms/step - loss: 2.1251 - accuracy: 0.1575 - val_loss: 2.1241 - val_accuracy: 0.1716\n",
      "Epoch 7/1000\n",
      "81/81 [==============================] - 14s 167ms/step - loss: 2.1218 - accuracy: 0.1795 - val_loss: 2.1310 - val_accuracy: 0.1590\n",
      "Epoch 8/1000\n",
      "81/81 [==============================] - 14s 168ms/step - loss: 2.1169 - accuracy: 0.1749 - val_loss: 2.1049 - val_accuracy: 0.1847\n",
      "Epoch 9/1000\n",
      "81/81 [==============================] - 14s 169ms/step - loss: 2.1101 - accuracy: 0.1839 - val_loss: 2.1004 - val_accuracy: 0.1859\n",
      "Epoch 10/1000\n",
      "81/81 [==============================] - 13s 167ms/step - loss: 2.1053 - accuracy: 0.1779 - val_loss: 2.0967 - val_accuracy: 0.1823\n",
      "Epoch 11/1000\n",
      "81/81 [==============================] - 14s 168ms/step - loss: 2.1074 - accuracy: 0.1816 - val_loss: 2.1048 - val_accuracy: 0.1849\n",
      "Epoch 12/1000\n",
      "81/81 [==============================] - 14s 169ms/step - loss: 2.0962 - accuracy: 0.1903 - val_loss: 2.1267 - val_accuracy: 0.1845\n",
      "Epoch 13/1000\n",
      "81/81 [==============================] - 14s 169ms/step - loss: 2.0963 - accuracy: 0.1889 - val_loss: 2.0976 - val_accuracy: 0.1811\n",
      "Epoch 14/1000\n",
      "81/81 [==============================] - 14s 169ms/step - loss: 2.0954 - accuracy: 0.1924 - val_loss: 2.1310 - val_accuracy: 0.1854\n",
      "Epoch 15/1000\n",
      "81/81 [==============================] - 14s 169ms/step - loss: 2.1009 - accuracy: 0.1887 - val_loss: 2.0761 - val_accuracy: 0.2088\n",
      "Epoch 16/1000\n",
      "81/81 [==============================] - 14s 168ms/step - loss: 2.0975 - accuracy: 0.1915 - val_loss: 2.0712 - val_accuracy: 0.2032\n",
      "Epoch 17/1000\n",
      "81/81 [==============================] - 14s 167ms/step - loss: 2.0797 - accuracy: 0.1896 - val_loss: 2.0545 - val_accuracy: 0.2008\n",
      "Epoch 18/1000\n",
      "81/81 [==============================] - 13s 167ms/step - loss: 2.1167 - accuracy: 0.1802 - val_loss: 2.2429 - val_accuracy: 0.1316\n",
      "Epoch 19/1000\n",
      "81/81 [==============================] - 14s 167ms/step - loss: 2.1258 - accuracy: 0.1657 - val_loss: 1.9672 - val_accuracy: 0.2024\n",
      "Epoch 20/1000\n",
      "81/81 [==============================] - 13s 166ms/step - loss: 1.9847 - accuracy: 0.2024 - val_loss: 1.9325 - val_accuracy: 0.2116\n",
      "Epoch 21/1000\n",
      "81/81 [==============================] - 13s 165ms/step - loss: 1.8656 - accuracy: 0.2104 - val_loss: 1.7472 - val_accuracy: 0.2399\n",
      "Epoch 22/1000\n",
      "81/81 [==============================] - 13s 165ms/step - loss: 1.7370 - accuracy: 0.2576 - val_loss: 1.5188 - val_accuracy: 0.3080\n",
      "Epoch 23/1000\n",
      "81/81 [==============================] - 13s 165ms/step - loss: 1.5085 - accuracy: 0.2956 - val_loss: 1.4741 - val_accuracy: 0.2805\n",
      "Epoch 24/1000\n",
      "81/81 [==============================] - 13s 167ms/step - loss: 1.4645 - accuracy: 0.2969 - val_loss: 1.4613 - val_accuracy: 0.2963\n",
      "Epoch 25/1000\n",
      "81/81 [==============================] - 13s 167ms/step - loss: 1.5226 - accuracy: 0.2944 - val_loss: 2.2012 - val_accuracy: 0.2125\n",
      "Epoch 26/1000\n",
      "81/81 [==============================] - 14s 168ms/step - loss: 1.7860 - accuracy: 0.2306 - val_loss: 1.5273 - val_accuracy: 0.2877\n",
      "Epoch 27/1000\n",
      "81/81 [==============================] - 13s 166ms/step - loss: 1.4700 - accuracy: 0.2969 - val_loss: 1.4543 - val_accuracy: 0.3209\n",
      "Epoch 28/1000\n",
      "81/81 [==============================] - 13s 164ms/step - loss: 1.4401 - accuracy: 0.3107 - val_loss: 1.4291 - val_accuracy: 0.3048\n",
      "Epoch 29/1000\n",
      "81/81 [==============================] - 13s 166ms/step - loss: 1.4324 - accuracy: 0.3090 - val_loss: 1.4403 - val_accuracy: 0.3166\n",
      "Epoch 30/1000\n",
      "81/81 [==============================] - 13s 167ms/step - loss: 1.4917 - accuracy: 0.3073 - val_loss: 1.5082 - val_accuracy: 0.3232\n",
      "Epoch 31/1000\n",
      "81/81 [==============================] - 13s 165ms/step - loss: 1.8036 - accuracy: 0.2474 - val_loss: 1.7154 - val_accuracy: 0.2526\n",
      "Epoch 32/1000\n",
      "81/81 [==============================] - 13s 167ms/step - loss: 1.9319 - accuracy: 0.2255 - val_loss: 1.7585 - val_accuracy: 0.2362\n",
      "Epoch 33/1000\n",
      "81/81 [==============================] - 14s 167ms/step - loss: 1.7698 - accuracy: 0.2281 - val_loss: 1.7155 - val_accuracy: 0.2502\n",
      "Epoch 34/1000\n",
      "81/81 [==============================] - 14s 167ms/step - loss: 1.7391 - accuracy: 0.2460 - val_loss: 1.7165 - val_accuracy: 0.2411\n",
      "Epoch 35/1000\n",
      "81/81 [==============================] - 14s 169ms/step - loss: 1.7111 - accuracy: 0.2711 - val_loss: 1.4830 - val_accuracy: 0.3050\n",
      "Epoch 36/1000\n",
      "81/81 [==============================] - 14s 168ms/step - loss: 1.5394 - accuracy: 0.3053 - val_loss: 1.6120 - val_accuracy: 0.2745\n",
      "Epoch 37/1000\n",
      "81/81 [==============================] - 14s 168ms/step - loss: 1.9108 - accuracy: 0.2254 - val_loss: 1.7398 - val_accuracy: 0.2382\n",
      "Epoch 38/1000\n",
      "81/81 [==============================] - 14s 169ms/step - loss: 1.7460 - accuracy: 0.2381 - val_loss: 1.7059 - val_accuracy: 0.2582\n",
      "Epoch 39/1000\n",
      "81/81 [==============================] - 14s 169ms/step - loss: 1.7278 - accuracy: 0.2469 - val_loss: 1.7037 - val_accuracy: 0.2529\n",
      "Epoch 40/1000\n",
      "81/81 [==============================] - 14s 169ms/step - loss: 1.7183 - accuracy: 0.2446 - val_loss: 1.7191 - val_accuracy: 0.2485\n",
      "Epoch 41/1000\n",
      "81/81 [==============================] - 14s 168ms/step - loss: 1.7099 - accuracy: 0.2519 - val_loss: 1.6972 - val_accuracy: 0.2606\n",
      "Epoch 42/1000\n",
      "81/81 [==============================] - 14s 169ms/step - loss: 1.7143 - accuracy: 0.2571 - val_loss: 1.6793 - val_accuracy: 0.2667\n",
      "Epoch 43/1000\n",
      "81/81 [==============================] - 14s 169ms/step - loss: 1.7093 - accuracy: 0.2636 - val_loss: 1.6934 - val_accuracy: 0.2436\n",
      "Epoch 44/1000\n",
      "81/81 [==============================] - 14s 170ms/step - loss: 1.7275 - accuracy: 0.2606 - val_loss: 1.6982 - val_accuracy: 0.2621\n",
      "Epoch 45/1000\n",
      "81/81 [==============================] - 14s 169ms/step - loss: 1.6879 - accuracy: 0.2739 - val_loss: 1.6045 - val_accuracy: 0.3453\n",
      "Epoch 46/1000\n",
      "81/81 [==============================] - 14s 169ms/step - loss: 1.6571 - accuracy: 0.3003 - val_loss: 1.6203 - val_accuracy: 0.2924\n",
      "Epoch 47/1000\n",
      "81/81 [==============================] - 14s 169ms/step - loss: 1.7646 - accuracy: 0.2562 - val_loss: 1.7786 - val_accuracy: 0.2471\n",
      "Epoch 48/1000\n",
      "81/81 [==============================] - 14s 168ms/step - loss: 1.7566 - accuracy: 0.2393 - val_loss: 1.7232 - val_accuracy: 0.2312\n",
      "Epoch 49/1000\n",
      "81/81 [==============================] - 14s 169ms/step - loss: 1.7397 - accuracy: 0.2226 - val_loss: 1.7059 - val_accuracy: 0.2399\n",
      "Epoch 50/1000\n",
      "81/81 [==============================] - 14s 170ms/step - loss: 1.9206 - accuracy: 0.2168 - val_loss: 1.7657 - val_accuracy: 0.2154\n",
      "Epoch 51/1000\n",
      "81/81 [==============================] - 14s 168ms/step - loss: 1.7532 - accuracy: 0.2216 - val_loss: 1.7307 - val_accuracy: 0.2330\n",
      "Epoch 52/1000\n",
      "81/81 [==============================] - 14s 169ms/step - loss: 1.7428 - accuracy: 0.2317 - val_loss: 1.7179 - val_accuracy: 0.2340\n",
      "Epoch 53/1000\n",
      "81/81 [==============================] - 14s 168ms/step - loss: 1.7427 - accuracy: 0.2209 - val_loss: 1.7313 - val_accuracy: 0.2248\n",
      "Epoch 54/1000\n",
      "81/81 [==============================] - 13s 166ms/step - loss: 1.7375 - accuracy: 0.2253 - val_loss: 1.7096 - val_accuracy: 0.2334\n",
      "Epoch 55/1000\n",
      "81/81 [==============================] - 14s 168ms/step - loss: 1.7399 - accuracy: 0.2245 - val_loss: 1.7052 - val_accuracy: 0.2380\n",
      "Epoch 56/1000\n",
      "81/81 [==============================] - 14s 167ms/step - loss: 1.6708 - accuracy: 0.2473 - val_loss: 1.5228 - val_accuracy: 0.2750\n",
      "Epoch 57/1000\n"
     ]
    },
    {
     "name": "stdout",
     "output_type": "stream",
     "text": [
      "81/81 [==============================] - 14s 168ms/step - loss: 1.5789 - accuracy: 0.2770 - val_loss: 1.4821 - val_accuracy: 0.3133\n",
      "Epoch 58/1000\n",
      "81/81 [==============================] - 14s 167ms/step - loss: 1.4920 - accuracy: 0.2883 - val_loss: 1.4747 - val_accuracy: 0.2917\n",
      "Epoch 59/1000\n",
      "81/81 [==============================] - 14s 168ms/step - loss: 1.4531 - accuracy: 0.2922 - val_loss: 1.4399 - val_accuracy: 0.2974\n",
      "Epoch 60/1000\n",
      "81/81 [==============================] - 14s 170ms/step - loss: 1.4450 - accuracy: 0.2916 - val_loss: 1.4406 - val_accuracy: 0.2769\n",
      "Epoch 61/1000\n",
      "81/81 [==============================] - 14s 177ms/step - loss: 1.4367 - accuracy: 0.2958 - val_loss: 1.4150 - val_accuracy: 0.3220\n",
      "Epoch 62/1000\n",
      "81/81 [==============================] - 15s 183ms/step - loss: 1.4279 - accuracy: 0.2940 - val_loss: 1.4127 - val_accuracy: 0.3291\n",
      "Epoch 63/1000\n",
      "81/81 [==============================] - 15s 184ms/step - loss: 1.4337 - accuracy: 0.2995 - val_loss: 1.4080 - val_accuracy: 0.3406\n",
      "Epoch 64/1000\n",
      "81/81 [==============================] - 15s 185ms/step - loss: 1.4207 - accuracy: 0.2967 - val_loss: 1.4064 - val_accuracy: 0.3308\n",
      "Epoch 65/1000\n",
      "81/81 [==============================] - 15s 185ms/step - loss: 1.4219 - accuracy: 0.2983 - val_loss: 1.4092 - val_accuracy: 0.3085\n",
      "Epoch 66/1000\n",
      "81/81 [==============================] - 15s 185ms/step - loss: 1.4216 - accuracy: 0.3080 - val_loss: 1.4049 - val_accuracy: 0.3086\n",
      "Epoch 67/1000\n",
      "81/81 [==============================] - 15s 185ms/step - loss: 1.4229 - accuracy: 0.3078 - val_loss: 1.4254 - val_accuracy: 0.2907\n",
      "Epoch 68/1000\n",
      "81/81 [==============================] - 15s 186ms/step - loss: 1.4269 - accuracy: 0.2900 - val_loss: 1.4063 - val_accuracy: 0.3262\n",
      "Epoch 69/1000\n",
      "81/81 [==============================] - 15s 185ms/step - loss: 1.4239 - accuracy: 0.2888 - val_loss: 1.3977 - val_accuracy: 0.3294\n",
      "Epoch 70/1000\n",
      "81/81 [==============================] - 15s 186ms/step - loss: 1.4191 - accuracy: 0.3048 - val_loss: 1.4018 - val_accuracy: 0.3362\n",
      "Epoch 71/1000\n",
      "81/81 [==============================] - 15s 184ms/step - loss: 1.4178 - accuracy: 0.3047 - val_loss: 1.4132 - val_accuracy: 0.3084\n",
      "Epoch 72/1000\n",
      "81/81 [==============================] - 15s 185ms/step - loss: 1.4122 - accuracy: 0.3169 - val_loss: 1.4229 - val_accuracy: 0.2927\n",
      "Epoch 73/1000\n",
      "81/81 [==============================] - 15s 185ms/step - loss: 1.4230 - accuracy: 0.3038 - val_loss: 1.3925 - val_accuracy: 0.3358\n",
      "Epoch 74/1000\n",
      "81/81 [==============================] - 15s 186ms/step - loss: 1.4338 - accuracy: 0.3032 - val_loss: 2.6750 - val_accuracy: 0.2349\n",
      "Epoch 75/1000\n",
      "81/81 [==============================] - 15s 186ms/step - loss: 1.9558 - accuracy: 0.2064 - val_loss: 1.7594 - val_accuracy: 0.2070\n",
      "Epoch 76/1000\n",
      "81/81 [==============================] - 15s 187ms/step - loss: 1.7631 - accuracy: 0.2217 - val_loss: 1.7193 - val_accuracy: 0.2525\n",
      "Epoch 77/1000\n",
      "81/81 [==============================] - 15s 185ms/step - loss: 1.7348 - accuracy: 0.2361 - val_loss: 1.7102 - val_accuracy: 0.2383\n",
      "Epoch 78/1000\n",
      "81/81 [==============================] - 15s 186ms/step - loss: 1.7295 - accuracy: 0.2402 - val_loss: 1.7057 - val_accuracy: 0.2364\n",
      "Epoch 79/1000\n",
      "81/81 [==============================] - 15s 186ms/step - loss: 1.7240 - accuracy: 0.2397 - val_loss: 1.7184 - val_accuracy: 0.2308\n",
      "Epoch 80/1000\n",
      "81/81 [==============================] - 15s 185ms/step - loss: 1.7240 - accuracy: 0.2388 - val_loss: 1.7011 - val_accuracy: 0.2204\n",
      "Epoch 81/1000\n",
      "81/81 [==============================] - 15s 184ms/step - loss: 1.7165 - accuracy: 0.2366 - val_loss: 1.6794 - val_accuracy: 0.2595\n",
      "Epoch 82/1000\n",
      "81/81 [==============================] - 15s 185ms/step - loss: 1.7149 - accuracy: 0.2327 - val_loss: 1.6803 - val_accuracy: 0.2460\n",
      "Epoch 83/1000\n",
      "81/81 [==============================] - 15s 186ms/step - loss: 1.7096 - accuracy: 0.2454 - val_loss: 1.6737 - val_accuracy: 0.2632\n",
      "Epoch 84/1000\n",
      "81/81 [==============================] - 15s 186ms/step - loss: 1.7080 - accuracy: 0.2440 - val_loss: 1.6976 - val_accuracy: 0.2322\n",
      "Epoch 85/1000\n",
      "81/81 [==============================] - 16s 194ms/step - loss: 1.7033 - accuracy: 0.2599 - val_loss: 1.6757 - val_accuracy: 0.2746\n",
      "Epoch 86/1000\n",
      "81/81 [==============================] - 16s 196ms/step - loss: 1.6976 - accuracy: 0.2570 - val_loss: 1.6778 - val_accuracy: 0.2520\n",
      "Epoch 87/1000\n",
      "81/81 [==============================] - 15s 191ms/step - loss: 1.7063 - accuracy: 0.2592 - val_loss: 1.7448 - val_accuracy: 0.2476\n",
      "Epoch 88/1000\n",
      "81/81 [==============================] - 15s 186ms/step - loss: 1.7242 - accuracy: 0.2384 - val_loss: 1.6873 - val_accuracy: 0.2473\n",
      "Epoch 89/1000\n",
      "81/81 [==============================] - 15s 191ms/step - loss: 1.7058 - accuracy: 0.2462 - val_loss: 1.6810 - val_accuracy: 0.2605\n",
      "Epoch 90/1000\n",
      "81/81 [==============================] - 15s 191ms/step - loss: 1.6994 - accuracy: 0.2413 - val_loss: 1.6749 - val_accuracy: 0.2660\n",
      "Epoch 91/1000\n",
      "81/81 [==============================] - 15s 188ms/step - loss: 1.6900 - accuracy: 0.2628 - val_loss: 1.6747 - val_accuracy: 0.2628\n",
      "Epoch 92/1000\n",
      "81/81 [==============================] - 16s 195ms/step - loss: 1.6946 - accuracy: 0.2626 - val_loss: 1.6662 - val_accuracy: 0.2692\n",
      "Epoch 93/1000\n",
      "81/81 [==============================] - 16s 194ms/step - loss: 1.6955 - accuracy: 0.2517 - val_loss: 1.6839 - val_accuracy: 0.2570\n",
      "Epoch 94/1000\n",
      "81/81 [==============================] - 16s 195ms/step - loss: 1.6786 - accuracy: 0.2643 - val_loss: 1.5994 - val_accuracy: 0.2958\n",
      "Epoch 95/1000\n",
      "81/81 [==============================] - 15s 190ms/step - loss: 1.6905 - accuracy: 0.2812 - val_loss: 1.6934 - val_accuracy: 0.2412\n",
      "Epoch 96/1000\n",
      "81/81 [==============================] - 16s 196ms/step - loss: 1.6932 - accuracy: 0.2592 - val_loss: 1.6812 - val_accuracy: 0.2717\n",
      "Epoch 97/1000\n",
      "81/81 [==============================] - 16s 194ms/step - loss: 2.2696 - accuracy: 0.2128 - val_loss: 2.7469 - val_accuracy: 0.1231\n",
      "Epoch 98/1000\n",
      "81/81 [==============================] - 16s 192ms/step - loss: 2.3012 - accuracy: 0.1342 - val_loss: 2.2034 - val_accuracy: 0.1303\n",
      "Epoch 99/1000\n",
      "81/81 [==============================] - 15s 185ms/step - loss: 2.1892 - accuracy: 0.1395 - val_loss: 2.1708 - val_accuracy: 0.1543\n",
      "Epoch 100/1000\n",
      "81/81 [==============================] - 15s 185ms/step - loss: 2.1800 - accuracy: 0.1417 - val_loss: 2.1927 - val_accuracy: 0.1392\n",
      "Epoch 101/1000\n",
      "81/81 [==============================] - 15s 185ms/step - loss: 2.1809 - accuracy: 0.1467 - val_loss: 2.2124 - val_accuracy: 0.1254\n",
      "Epoch 102/1000\n",
      "81/81 [==============================] - 15s 185ms/step - loss: 2.1785 - accuracy: 0.1304 - val_loss: 2.1887 - val_accuracy: 0.1348\n",
      "Epoch 103/1000\n",
      "81/81 [==============================] - 15s 186ms/step - loss: 2.1704 - accuracy: 0.1449 - val_loss: 2.1535 - val_accuracy: 0.1387\n",
      "Epoch 104/1000\n",
      "81/81 [==============================] - 15s 184ms/step - loss: 2.1546 - accuracy: 0.1556 - val_loss: 2.1403 - val_accuracy: 0.1762\n",
      "Epoch 105/1000\n",
      "81/81 [==============================] - 15s 186ms/step - loss: 2.1373 - accuracy: 0.1635 - val_loss: 2.1278 - val_accuracy: 0.1548\n",
      "Epoch 106/1000\n",
      "81/81 [==============================] - 15s 184ms/step - loss: 2.1311 - accuracy: 0.1667 - val_loss: 2.1350 - val_accuracy: 0.1687\n",
      "Epoch 107/1000\n",
      "81/81 [==============================] - 15s 184ms/step - loss: 2.1348 - accuracy: 0.1749 - val_loss: 2.2231 - val_accuracy: 0.1503\n",
      "Epoch 108/1000\n",
      "81/81 [==============================] - 15s 186ms/step - loss: 2.1410 - accuracy: 0.1660 - val_loss: 2.1235 - val_accuracy: 0.1830\n",
      "Epoch 109/1000\n",
      "81/81 [==============================] - 15s 186ms/step - loss: 2.1203 - accuracy: 0.1804 - val_loss: 2.1131 - val_accuracy: 0.1852\n",
      "Epoch 110/1000\n",
      "81/81 [==============================] - 15s 185ms/step - loss: 2.1160 - accuracy: 0.1837 - val_loss: 2.1211 - val_accuracy: 0.1767\n",
      "Epoch 111/1000\n",
      "81/81 [==============================] - 15s 184ms/step - loss: 2.1183 - accuracy: 0.1752 - val_loss: 2.1216 - val_accuracy: 0.1880\n",
      "Epoch 112/1000\n",
      "81/81 [==============================] - 15s 186ms/step - loss: 2.1093 - accuracy: 0.1894 - val_loss: 2.1295 - val_accuracy: 0.1822\n",
      "Epoch 113/1000\n"
     ]
    },
    {
     "name": "stdout",
     "output_type": "stream",
     "text": [
      "81/81 [==============================] - 15s 185ms/step - loss: 2.1104 - accuracy: 0.1895 - val_loss: 2.1104 - val_accuracy: 0.1923\n",
      "Epoch 114/1000\n",
      "81/81 [==============================] - 15s 185ms/step - loss: 2.1107 - accuracy: 0.1834 - val_loss: 2.1084 - val_accuracy: 0.1877\n",
      "Epoch 115/1000\n",
      "81/81 [==============================] - 15s 188ms/step - loss: 2.1169 - accuracy: 0.1837 - val_loss: 2.1156 - val_accuracy: 0.1910\n",
      "Epoch 116/1000\n",
      "81/81 [==============================] - 15s 185ms/step - loss: 2.1051 - accuracy: 0.1902 - val_loss: 2.1071 - val_accuracy: 0.1890\n",
      "Epoch 117/1000\n",
      "81/81 [==============================] - 15s 185ms/step - loss: 2.0981 - accuracy: 0.1928 - val_loss: 2.0991 - val_accuracy: 0.1957\n",
      "Epoch 118/1000\n",
      "81/81 [==============================] - 15s 187ms/step - loss: 2.1231 - accuracy: 0.1723 - val_loss: 2.1408 - val_accuracy: 0.1541\n",
      "Epoch 119/1000\n",
      "81/81 [==============================] - 16s 194ms/step - loss: 2.1310 - accuracy: 0.1723 - val_loss: 2.1089 - val_accuracy: 0.1917\n",
      "Epoch 120/1000\n",
      "81/81 [==============================] - 16s 196ms/step - loss: 2.1040 - accuracy: 0.1944 - val_loss: 2.0979 - val_accuracy: 0.2215\n",
      "Epoch 121/1000\n",
      "81/81 [==============================] - 16s 196ms/step - loss: 2.0968 - accuracy: 0.1993 - val_loss: 2.0900 - val_accuracy: 0.2000\n",
      "Epoch 122/1000\n",
      "81/81 [==============================] - 16s 192ms/step - loss: 2.0976 - accuracy: 0.1935 - val_loss: 2.1023 - val_accuracy: 0.2026\n",
      "Epoch 123/1000\n",
      "81/81 [==============================] - 16s 195ms/step - loss: 2.1019 - accuracy: 0.1951 - val_loss: 2.1025 - val_accuracy: 0.1941\n",
      "Epoch 124/1000\n",
      "81/81 [==============================] - 16s 194ms/step - loss: 2.1088 - accuracy: 0.1820 - val_loss: 2.1421 - val_accuracy: 0.1711\n",
      "Epoch 125/1000\n",
      "81/81 [==============================] - 16s 193ms/step - loss: 2.0988 - accuracy: 0.1923 - val_loss: 2.0878 - val_accuracy: 0.1981\n",
      "Epoch 126/1000\n",
      "81/81 [==============================] - 16s 194ms/step - loss: 2.0894 - accuracy: 0.1999 - val_loss: 2.1091 - val_accuracy: 0.1984\n",
      "Epoch 127/1000\n",
      "81/81 [==============================] - 15s 190ms/step - loss: 2.0904 - accuracy: 0.1968 - val_loss: 2.0882 - val_accuracy: 0.1917\n",
      "Epoch 128/1000\n",
      "81/81 [==============================] - 15s 184ms/step - loss: 2.0860 - accuracy: 0.1979 - val_loss: 2.0765 - val_accuracy: 0.2027\n",
      "Epoch 129/1000\n",
      "81/81 [==============================] - 15s 190ms/step - loss: 2.0848 - accuracy: 0.1951 - val_loss: 2.0859 - val_accuracy: 0.2020\n",
      "Epoch 130/1000\n",
      "81/81 [==============================] - 16s 196ms/step - loss: 2.0846 - accuracy: 0.1947 - val_loss: 2.0701 - val_accuracy: 0.2011\n",
      "Epoch 131/1000\n",
      "81/81 [==============================] - 16s 196ms/step - loss: 2.0768 - accuracy: 0.1957 - val_loss: 2.0921 - val_accuracy: 0.1950\n",
      "Epoch 132/1000\n",
      "81/81 [==============================] - 16s 195ms/step - loss: 2.0802 - accuracy: 0.2005 - val_loss: 2.1003 - val_accuracy: 0.1871\n",
      "Epoch 133/1000\n",
      "81/81 [==============================] - 16s 196ms/step - loss: 2.0762 - accuracy: 0.1991 - val_loss: 2.0783 - val_accuracy: 0.2058\n",
      "Epoch 134/1000\n",
      "81/81 [==============================] - 16s 195ms/step - loss: 2.0766 - accuracy: 0.2009 - val_loss: 2.0705 - val_accuracy: 0.2083\n",
      "Epoch 135/1000\n",
      "81/81 [==============================] - 16s 197ms/step - loss: 2.0783 - accuracy: 0.1958 - val_loss: 2.0743 - val_accuracy: 0.1990\n",
      "Epoch 136/1000\n",
      "81/81 [==============================] - 16s 194ms/step - loss: 2.0748 - accuracy: 0.2032 - val_loss: 2.0874 - val_accuracy: 0.1987\n",
      "Epoch 137/1000\n",
      "81/81 [==============================] - 16s 196ms/step - loss: 2.0733 - accuracy: 0.2043 - val_loss: 2.0642 - val_accuracy: 0.2084\n",
      "Epoch 138/1000\n",
      "81/81 [==============================] - 16s 195ms/step - loss: 2.0718 - accuracy: 0.2017 - val_loss: 2.0725 - val_accuracy: 0.2085\n",
      "Epoch 139/1000\n",
      "81/81 [==============================] - 16s 196ms/step - loss: 2.0734 - accuracy: 0.2056 - val_loss: 2.0819 - val_accuracy: 0.1986\n",
      "Epoch 140/1000\n",
      "81/81 [==============================] - 16s 195ms/step - loss: 2.0701 - accuracy: 0.2042 - val_loss: 2.0732 - val_accuracy: 0.2007\n",
      "Epoch 141/1000\n",
      "81/81 [==============================] - 16s 197ms/step - loss: 2.0679 - accuracy: 0.2009 - val_loss: 2.0861 - val_accuracy: 0.1824\n",
      "Epoch 142/1000\n",
      "81/81 [==============================] - 16s 195ms/step - loss: 2.0681 - accuracy: 0.2023 - val_loss: 2.0851 - val_accuracy: 0.1935\n",
      "Epoch 143/1000\n",
      "81/81 [==============================] - 16s 194ms/step - loss: 2.0677 - accuracy: 0.2015 - val_loss: 2.0613 - val_accuracy: 0.2184\n",
      "Epoch 144/1000\n",
      "81/81 [==============================] - 16s 194ms/step - loss: 2.0658 - accuracy: 0.2046 - val_loss: 2.0933 - val_accuracy: 0.1911\n",
      "Epoch 145/1000\n",
      "81/81 [==============================] - 16s 195ms/step - loss: 2.0738 - accuracy: 0.2013 - val_loss: 2.0951 - val_accuracy: 0.1935\n"
     ]
    }
   ],
   "source": [
    "history = model_RNN.fit(x_train,y_train, epochs=1000, batch_size=16, validation_split=0.2,callbacks = [callbacks])"
   ]
  },
  {
   "cell_type": "code",
   "execution_count": 159,
   "metadata": {},
   "outputs": [],
   "source": [
    "# Model evaluation for 3d \n",
    "# predictions = model_LSTM_3d.predict(x_test)\n",
    "# preds = [[np.argmin(np.linalg.norm(target-j,axis =1)) for j in i] for i in predictions]\n",
    "# label_y_test = [[np.argmin(np.linalg.norm(target-j,axis =1)) for j in i] for i in y_test.numpy()]\n",
    "# correct = 0\n",
    "# for i,j in zip(preds,label_y_test):\n",
    "#     for k,l in zip(i,j):\n",
    "#         correct+=np.sum((k==l)*1)\n",
    "# print(\"Accuracy:\", correct/np.prod(np.shape(preds)) )"
   ]
  },
  {
   "cell_type": "code",
   "execution_count": 160,
   "metadata": {},
   "outputs": [],
   "source": [
    "# conf = []\n",
    "# for i in predictions:\n",
    "#     softmax = []\n",
    "#     for j in i:\n",
    "#         dist = np.linalg.norm(target-j,axis =1)\n",
    "#         softmax.append(np.exp(dist)/np.sum(np.exp(dist)))\n",
    "#     conf.append(softmax)"
   ]
  },
  {
   "cell_type": "code",
   "execution_count": 161,
   "metadata": {
    "executionInfo": {
     "elapsed": 3,
     "status": "ok",
     "timestamp": 1670470311929,
     "user": {
      "displayName": "Niegil Francis Muttath Joseph",
      "userId": "14540288352466598089"
     },
     "user_tz": 300
    },
    "id": "4kEwHgcTThyk"
   },
   "outputs": [],
   "source": [
    "# model_LSTM.save(\"/content/drive/MyDrive/Robot perception /Modeling/models/lstm_data_trim.h5\")\n",
    "# model_LSTM.save(\"/content/drive/MyDrive/Robot perception /Modeling/models/lstm.h5\")\n",
    "model_RNN_LSTM_3d.save(\"./models/sep_1/rnn.h5\")"
   ]
  },
  {
   "cell_type": "code",
   "execution_count": 50,
   "metadata": {
    "colab": {
     "base_uri": "https://localhost:8080/"
    },
    "executionInfo": {
     "elapsed": 1549,
     "status": "ok",
     "timestamp": 1670464132234,
     "user": {
      "displayName": "Niegil Francis Muttath Joseph",
      "userId": "14540288352466598089"
     },
     "user_tz": 300
    },
    "id": "_lI1n5rWk7DF",
    "outputId": "11fbc446-b78b-4739-c7b0-cdfd12b12134"
   },
   "outputs": [],
   "source": [
    "# Testing the saved model\n",
    "# classification models\n",
    "# model_load = load_model('/content/drive/MyDrive/Robot perception /Modeling/models/lstm_data_trim.h5')\n",
    "# model_load = load_model('/content/drive/MyDrive/Robot perception /Modeling/models/lstm.h5')\n",
    "# model_load = load_model('./models/lstm_rnn.h5')\n",
    "\n",
    "# Evaluating classification models\n",
    "# model_load.evaluate(x_test,y_test)\n",
    "\n",
    "# 3d models\n",
    "# model_load = load_model('./models/sep_1/lstm_3d.h5', compile=False)\n",
    "model_load = load_model('./models/sep_1/lstm_rnn_3d.h5', compile=False)\n",
    "\n"
   ]
  },
  {
   "cell_type": "code",
   "execution_count": 51,
   "metadata": {},
   "outputs": [
    {
     "name": "stderr",
     "output_type": "stream",
     "text": [
      "2022-12-11 18:28:11.923356: I tensorflow/compiler/xla/stream_executor/cuda/cuda_blas.cc:630] TensorFloat-32 will be used for the matrix multiplication. This will only be logged once.\n",
      "2022-12-11 18:28:18.451829: I tensorflow/compiler/xla/stream_executor/cuda/cuda_dnn.cc:428] Loaded cuDNN version 8101\n"
     ]
    },
    {
     "name": "stdout",
     "output_type": "stream",
     "text": [
      "Accuracy: 0.8233830845771144\n"
     ]
    }
   ],
   "source": [
    "# Model evaluation for 3d \n",
    "model_load.compile(loss='mse', metrics = ['mse'])\n",
    "predictions = model_load.predict(x_test)\n",
    "preds = [[np.argmin(np.linalg.norm(target-j,axis =1)) for j in i] for i in predictions]\n",
    "label_y_test = [[np.argmin(np.linalg.norm(target-j,axis =1)) for j in i] for i in y_test.numpy()]\n",
    "correct = 0\n",
    "for i,j in zip(preds,label_y_test):\n",
    "    for k,l in zip(i,j):\n",
    "        correct+=np.sum((k==l)*1)\n",
    "print(\"Accuracy:\", correct/np.prod(np.shape(preds)) )"
   ]
  },
  {
   "cell_type": "code",
   "execution_count": 52,
   "metadata": {},
   "outputs": [
    {
     "name": "stdout",
     "output_type": "stream",
     "text": [
      "Model: \"model\"\n",
      "_________________________________________________________________\n",
      "Layer (type)                 Output Shape              Param #   \n",
      "=================================================================\n",
      "input_layer (InputLayer)     [(None, 200, 3)]          0         \n",
      "_________________________________________________________________\n",
      "dense (Dense)                (None, 200, 15)           60        \n",
      "_________________________________________________________________\n",
      "simple_rnn (SimpleRNN)       (None, 200, 15)           465       \n",
      "_________________________________________________________________\n",
      "lstm (LSTM)                  (None, 200, 15)           1860      \n",
      "_________________________________________________________________\n",
      "dense_1 (Dense)              (None, 200, 3)            48        \n",
      "=================================================================\n",
      "Total params: 2,433\n",
      "Trainable params: 2,433\n",
      "Non-trainable params: 0\n",
      "_________________________________________________________________\n"
     ]
    }
   ],
   "source": [
    "model_load.summary()"
   ]
  },
  {
   "cell_type": "code",
   "execution_count": null,
   "metadata": {},
   "outputs": [],
   "source": []
  }
 ],
 "metadata": {
  "accelerator": "GPU",
  "colab": {
   "provenance": []
  },
  "gpuClass": "standard",
  "kernelspec": {
   "display_name": "Python 3 (ipykernel)",
   "language": "python",
   "name": "python3"
  },
  "language_info": {
   "codemirror_mode": {
    "name": "ipython",
    "version": 3
   },
   "file_extension": ".py",
   "mimetype": "text/x-python",
   "name": "python",
   "nbconvert_exporter": "python",
   "pygments_lexer": "ipython3",
   "version": "3.9.12"
  },
  "vscode": {
   "interpreter": {
    "hash": "26de051ba29f2982a8de78e945f0abaf191376122a1563185a90213a26c5da77"
   }
  }
 },
 "nbformat": 4,
 "nbformat_minor": 1
}
