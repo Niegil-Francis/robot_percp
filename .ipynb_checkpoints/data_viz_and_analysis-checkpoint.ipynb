{
 "cells": [
  {
   "cell_type": "code",
   "execution_count": 2,
   "id": "f8464161",
   "metadata": {},
   "outputs": [],
   "source": [
    "# Imports \n",
    "import pandas as pd\n",
    "import glob\n",
    "import numpy as np\n",
    "import matplotlib.pyplot as plt\n",
    "from mpl_toolkits.mplot3d import Axes3D"
   ]
  },
  {
   "cell_type": "markdown",
   "id": "5fa066ad",
   "metadata": {},
   "source": [
    "## Loading data"
   ]
  },
  {
   "cell_type": "code",
   "execution_count": 4,
   "id": "dc84f382",
   "metadata": {},
   "outputs": [],
   "source": [
    "# Getting the folder names \n",
    "folder_names = glob.glob(\"./temp_data/sep_1/data/*\")"
   ]
  },
  {
   "cell_type": "code",
   "execution_count": 5,
   "id": "aa40a14b",
   "metadata": {},
   "outputs": [],
   "source": [
    "# Getting the data names\n",
    "data_names = []\n",
    "for i in folder_names:\n",
    "    data_names.append(glob.glob(i+\"/*.csv\"))"
   ]
  },
  {
   "cell_type": "markdown",
   "id": "4d72baff",
   "metadata": {},
   "source": [
    "## Data Cleaning"
   ]
  },
  {
   "cell_type": "code",
   "execution_count": 6,
   "id": "07446897",
   "metadata": {},
   "outputs": [],
   "source": [
    "# Datasets to skip \n",
    "skip = []\n",
    "\n",
    "# Labels of the datasets\n",
    "labels = []\n",
    "\n",
    "# Data list \n",
    "data = []\n",
    "\n",
    "\n",
    "# Getting the labels and data for each dataset\n",
    "for i in range(len(data_names)):\n",
    "    if i in skip:\n",
    "        continue\n",
    "    \n",
    "    for j in range(len(data_names[i])):\n",
    "        labels.append([data_names[i][j][data_names[i][j].find(\".csv\")-1]])\n",
    "        \n",
    "        # Cleaning data\n",
    "        df = pd.read_csv(data_names[i][j],skiprows = 1)\n",
    "        df.drop(columns=df.columns[-1], axis=1,  inplace=True)\n",
    "        \n",
    "        data.append(df)"
   ]
  },
  {
   "cell_type": "code",
   "execution_count": 7,
   "id": "956c4a91",
   "metadata": {},
   "outputs": [],
   "source": [
    "labels = [int(i)-1 for i in np.reshape(labels,(-1,))]"
   ]
  },
  {
   "cell_type": "code",
   "execution_count": null,
   "id": "fdc4814d",
   "metadata": {},
   "outputs": [],
   "source": []
  },
  {
   "cell_type": "code",
   "execution_count": null,
   "id": "d0f56978",
   "metadata": {},
   "outputs": [],
   "source": [
    "\n",
    "    \n",
    "## Trajectory Plotting\n",
    "# x,y,z of target\n",
    "target_points = np.array([[-0.314,1.661,0.45],[0,1.661,0.45],[0.314,1.661,0.45],[-0.314,1.347,0.45],[0,1.347,0.45],[0.314,1.347,0.45],[-0.314,1.033,0.45],[0,1.033,0.45],[0.314,1.033,0.45]])\n",
    "fig = plt.figure(figsize = (10,10))\n",
    "ax = fig.gca(projection='3d')\n",
    "\n",
    "# Choosing a trajectory\n",
    "idx = np.random.randint(len(data))\n",
    "   \n",
    "# Grouped columns\n",
    "grouped_columns_x = data[idx].columns[::3] \n",
    "grouped_columns_y = data[idx].columns[1::3]\n",
    "grouped_columns_z = data[idx].columns[2::3]\n",
    "\n",
    "# Getting the centroid of the finger points\n",
    "cent_x = np.mean(data[idx][grouped_columns_x],axis = 1)\n",
    "cent_y = np.mean(data[idx][grouped_columns_y],axis = 1)\n",
    "cent_z = np.mean(data[idx][grouped_columns_z],axis = 1)\n",
    "\n",
    "ax.plot(cent_x, cent_y, cent_z, marker = \"o\", markersize = 3,color = 'g', label = \"trajectory\")\n",
    "ax.scatter(target_points[:,0], target_points[:,1], target_points[:,2], marker = \"o\",s = 5, color = \"b\", label = \"all targets\")\n",
    "ax.scatter(target_points[labels[idx]][0], target_points[labels[idx]][1], target_points[labels[idx]][2], marker = \"x\",s=40,color = \"r\", label = \"target cube\")\n",
    "\n",
    "ax.set_xlabel(\"x\")\n",
    "ax.set_ylabel(\"y\")\n",
    "ax.set_zlabel(\"z\")\n",
    "    \n",
    "ax.set_title(\"Trajectory plot of the finger tips of the hand\")\n",
    "ax.legend();\n",
    "## Data Analysis\n",
    "# Getting an estimate of the lengths of the sequences\n",
    "lengths = [len(data[idx]) for idx in range(len(data))]\n",
    "plt.hist(lengths)\n",
    "plt.title(\"Histogram of the lengths of trajectories\");"
   ]
  }
 ],
 "metadata": {
  "kernelspec": {
   "display_name": "Python 3 (ipykernel)",
   "language": "python",
   "name": "python3"
  },
  "language_info": {
   "codemirror_mode": {
    "name": "ipython",
    "version": 3
   },
   "file_extension": ".py",
   "mimetype": "text/x-python",
   "name": "python",
   "nbconvert_exporter": "python",
   "pygments_lexer": "ipython3",
   "version": "3.9.15"
  }
 },
 "nbformat": 4,
 "nbformat_minor": 5
}
