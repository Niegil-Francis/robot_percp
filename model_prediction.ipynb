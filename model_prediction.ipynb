{
 "cells": [
  {
   "cell_type": "code",
   "execution_count": 1,
   "metadata": {
    "executionInfo": {
     "elapsed": 785,
     "status": "ok",
     "timestamp": 1670472818051,
     "user": {
      "displayName": "Niegil Francis Muttath Joseph",
      "userId": "14540288352466598089"
     },
     "user_tz": 300
    },
    "id": "yu0OV4sf1nk8"
   },
   "outputs": [],
   "source": [
    "import pandas as pd\n",
    "import glob\n",
    "import numpy as np\n",
    "import matplotlib.pyplot as plt\n",
    "from mpl_toolkits.mplot3d import Axes3D"
   ]
  },
  {
   "cell_type": "code",
   "execution_count": 2,
   "metadata": {
    "executionInfo": {
     "elapsed": 4,
     "status": "ok",
     "timestamp": 1670472819084,
     "user": {
      "displayName": "Niegil Francis Muttath Joseph",
      "userId": "14540288352466598089"
     },
     "user_tz": 300
    },
    "id": "svhuDSYP1nk-"
   },
   "outputs": [],
   "source": [
    "import requests\n",
    "import re\n",
    "import os\n",
    "import zipfile\n",
    "import collections\n",
    "import urllib.request\n",
    "from collections import defaultdict\n",
    "%matplotlib inline\n",
    "from IPython.core.display import HTML\n",
    "from collections import defaultdict\n",
    "import time\n",
    "import random\n",
    "\n",
    "import tensorflow as tf\n",
    "from tensorflow import keras\n",
    "from tensorflow.python.keras import backend as K\n",
    "from tensorflow.keras.models import Model\n",
    "from tensorflow.keras.models import load_model\n",
    "\n",
    "from sklearn.model_selection import train_test_split\n",
    "from sklearn.preprocessing import OneHotEncoder\n",
    "\n",
    "import sys    \n",
    "sys.path.insert(1, './imports')\n",
    "import UdpComms as U\n",
    "import time\n",
    "\n",
    "import threading\n",
    "import time\n",
    "import signal"
   ]
  },
  {
   "cell_type": "code",
   "execution_count": 3,
   "metadata": {
    "colab": {
     "base_uri": "https://localhost:8080/"
    },
    "executionInfo": {
     "elapsed": 9,
     "status": "ok",
     "timestamp": 1670472822205,
     "user": {
      "displayName": "Niegil Francis Muttath Joseph",
      "userId": "14540288352466598089"
     },
     "user_tz": 300
    },
    "id": "vGhXf6lC1nk_",
    "outputId": "478747bb-6f8c-481d-ebb4-82b506528c55"
   },
   "outputs": [
    {
     "name": "stdout",
     "output_type": "stream",
     "text": [
      "tensorflow version 2.10.0\n",
      "keras version 2.10.0\n",
      "Eager Execution Enabled: True\n",
      "WARNING:tensorflow:There are non-GPU devices in `tf.distribute.Strategy`, not using nccl allreduce.\n",
      "INFO:tensorflow:Using MirroredStrategy with devices ('/job:localhost/replica:0/task:0/device:CPU:0',)\n",
      "Number of replicas: 1\n",
      "Devices: [PhysicalDevice(name='/physical_device:CPU:0', device_type='CPU')]\n",
      "[]\n",
      "GPU Available:  []\n",
      "All Physical Devices [PhysicalDevice(name='/physical_device:CPU:0', device_type='CPU')]\n"
     ]
    }
   ],
   "source": [
    "# Enable/Disable Eager Execution\n",
    "# Reference: https://www.tensorflow.org/guide/eager\n",
    "# TensorFlow's eager execution is an imperative programming environment that evaluates operations immediately, \n",
    "# without building graphs\n",
    "\n",
    "#tf.compat.v1.disable_eager_execution()\n",
    "#tf.compat.v1.enable_eager_execution()\n",
    "\n",
    "print(\"tensorflow version\", tf.__version__)\n",
    "print(\"keras version\", tf.keras.__version__)\n",
    "print(\"Eager Execution Enabled:\", tf.executing_eagerly())\n",
    "\n",
    "# Get the number of replicas \n",
    "strategy = tf.distribute.MirroredStrategy()\n",
    "print(\"Number of replicas:\", strategy.num_replicas_in_sync)\n",
    "\n",
    "devices = tf.config.experimental.get_visible_devices()\n",
    "print(\"Devices:\", devices)\n",
    "print(tf.config.experimental.list_logical_devices('GPU'))\n",
    "\n",
    "print(\"GPU Available: \", tf.config.list_physical_devices('GPU'))\n",
    "print(\"All Physical Devices\", tf.config.list_physical_devices())\n",
    "\n",
    "# Better performance with the tf.data API\n",
    "# Reference: https://www.tensorflow.org/guide/data_performance\n",
    "AUTOTUNE = tf.data.experimental.AUTOTUNE"
   ]
  },
  {
   "cell_type": "markdown",
   "metadata": {
    "id": "EtMgghJO1nlA"
   },
   "source": [
    "## Reading the data"
   ]
  },
  {
   "cell_type": "code",
   "execution_count": 4,
   "metadata": {
    "executionInfo": {
     "elapsed": 7156,
     "status": "ok",
     "timestamp": 1670461970917,
     "user": {
      "displayName": "Niegil Francis Muttath Joseph",
      "userId": "14540288352466598089"
     },
     "user_tz": 300
    },
    "id": "eSg0NnAgXpRg"
   },
   "outputs": [],
   "source": [
    "%%capture\n",
    "# !unzip \"./all_data/sep_1/data.zip\" -d \"./temp_data/sep_1/\""
   ]
  },
  {
   "cell_type": "code",
   "execution_count": 5,
   "metadata": {
    "executionInfo": {
     "elapsed": 4,
     "status": "ok",
     "timestamp": 1670472827844,
     "user": {
      "displayName": "Niegil Francis Muttath Joseph",
      "userId": "14540288352466598089"
     },
     "user_tz": 300
    },
    "id": "tbOPJ2jS1nlB"
   },
   "outputs": [],
   "source": [
    "# Getting the folder names \n",
    "folder_names = glob.glob(\"./temp_data/sep_1/data/*\")"
   ]
  },
  {
   "cell_type": "code",
   "execution_count": 6,
   "metadata": {
    "executionInfo": {
     "elapsed": 3,
     "status": "ok",
     "timestamp": 1670472829094,
     "user": {
      "displayName": "Niegil Francis Muttath Joseph",
      "userId": "14540288352466598089"
     },
     "user_tz": 300
    },
    "id": "JkZ1ScX01nlB"
   },
   "outputs": [],
   "source": [
    "# Getting the data names\n",
    "data_names = []\n",
    "for i in folder_names:\n",
    "    data_names.append(glob.glob(i+\"/*.csv\"))"
   ]
  },
  {
   "cell_type": "markdown",
   "metadata": {
    "id": "ng5z05Q61nlC"
   },
   "source": [
    "## Data Loading"
   ]
  },
  {
   "cell_type": "code",
   "execution_count": 7,
   "metadata": {
    "executionInfo": {
     "elapsed": 14851,
     "status": "ok",
     "timestamp": 1670472843943,
     "user": {
      "displayName": "Niegil Francis Muttath Joseph",
      "userId": "14540288352466598089"
     },
     "user_tz": 300
    },
    "id": "06RUU7IU1nlD"
   },
   "outputs": [],
   "source": [
    "# Datasets to skip \n",
    "skip = []\n",
    "\n",
    "# Labels of the datasets\n",
    "labels = []\n",
    "\n",
    "# Data list \n",
    "data = []\n",
    "\n",
    "\n",
    "# Getting the labels and data for each dataset\n",
    "for i in range(len(data_names)):\n",
    "    if i in skip:\n",
    "        continue\n",
    "    \n",
    "    for j in range(len(data_names[i])):\n",
    "        labels.append([data_names[i][j][data_names[i][j].find(\".csv\")-1]])\n",
    "        \n",
    "        # Cleaning data\n",
    "        df = pd.read_csv(data_names[i][j],skiprows = 1)\n",
    "        df.drop(columns=df.columns[-1], axis=1,  inplace=True)\n",
    "        \n",
    "        data.append(df)"
   ]
  },
  {
   "cell_type": "code",
   "execution_count": 8,
   "metadata": {
    "executionInfo": {
     "elapsed": 4,
     "status": "ok",
     "timestamp": 1670472843943,
     "user": {
      "displayName": "Niegil Francis Muttath Joseph",
      "userId": "14540288352466598089"
     },
     "user_tz": 300
    },
    "id": "OhMZiWrx1nlD"
   },
   "outputs": [],
   "source": [
    "# Changing the labels from int to string\n",
    "labels = [int(i)-1 for i in np.reshape(labels,(-1,))]"
   ]
  },
  {
   "cell_type": "markdown",
   "metadata": {
    "id": "b3aWbcBR1nlD"
   },
   "source": [
    "## Adding Features"
   ]
  },
  {
   "cell_type": "code",
   "execution_count": 10,
   "metadata": {
    "executionInfo": {
     "elapsed": 57502,
     "status": "ok",
     "timestamp": 1670472901442,
     "user": {
      "displayName": "Niegil Francis Muttath Joseph",
      "userId": "14540288352466598089"
     },
     "user_tz": 300
    },
    "id": "6sJpWHrX1nlE"
   },
   "outputs": [],
   "source": [
    "# Adding the centroid of all the fingers to the data\n",
    "\n",
    "new_data = []\n",
    "\n",
    "for idx_1 in range(len(data)):\n",
    "\n",
    "    \n",
    "    # Grouped columns for centroid\n",
    "    grouped_columns_x = data[idx_1].columns[3::3] \n",
    "    grouped_columns_y = data[idx_1].columns[4::3]\n",
    "    grouped_columns_z = data[idx_1].columns[5::3]\n",
    "    \n",
    "    # Getting the centroid of the finger points\n",
    "    cent_x = np.mean(data[idx_1][grouped_columns_x],axis = 1)\n",
    "    cent_y = np.mean(data[idx_1][grouped_columns_y],axis = 1)\n",
    "    cent_z = np.mean(data[idx_1][grouped_columns_z],axis = 1)\n",
    "    \n",
    "    new_data.append(pd.concat([data[idx_1],cent_x,cent_y,cent_z],axis = 1))\n",
    "    "
   ]
  },
  {
   "cell_type": "markdown",
   "metadata": {
    "id": "zgaA_2SY0MDc"
   },
   "source": [
    "## Data Cleaning"
   ]
  },
  {
   "cell_type": "code",
   "execution_count": 11,
   "metadata": {
    "executionInfo": {
     "elapsed": 4,
     "status": "ok",
     "timestamp": 1670472901442,
     "user": {
      "displayName": "Niegil Francis Muttath Joseph",
      "userId": "14540288352466598089"
     },
     "user_tz": 300
    },
    "id": "MUjsQWtJsKIn"
   },
   "outputs": [],
   "source": [
    "# Pulling only the centroid data \n",
    "cent_data = [i.iloc[:,-3:] for i in new_data]"
   ]
  },
  {
   "cell_type": "code",
   "execution_count": 12,
   "metadata": {
    "colab": {
     "base_uri": "https://localhost:8080/",
     "height": 297
    },
    "executionInfo": {
     "elapsed": 1245,
     "status": "ok",
     "timestamp": 1670472902684,
     "user": {
      "displayName": "Niegil Francis Muttath Joseph",
      "userId": "14540288352466598089"
     },
     "user_tz": 300
    },
    "id": "cq550A880PAk",
    "outputId": "8c0ba4d0-9ee8-4885-fe2b-e9f624183928"
   },
   "outputs": [
    {
     "data": {
      "text/plain": [
       "Text(0, 0.5, 'Number of trajectories')"
      ]
     },
     "execution_count": 12,
     "metadata": {},
     "output_type": "execute_result"
    },
    {
     "data": {
      "image/png": "[encoded data removed]",
      "text/plain": [
       "<Figure size 640x480 with 1 Axes>"
      ]
     },
     "metadata": {},
     "output_type": "display_data"
    }
   ],
   "source": [
    "lengths = np.array([len(i) for i in cent_data])\n",
    "plt.hist(lengths)\n",
    "plt.xlabel(\"Trajectory length\")\n",
    "plt.ylabel(\"Number of trajectories\")"
   ]
  },
  {
   "cell_type": "code",
   "execution_count": 13,
   "metadata": {
    "executionInfo": {
     "elapsed": 10,
     "status": "ok",
     "timestamp": 1670472902685,
     "user": {
      "displayName": "Niegil Francis Muttath Joseph",
      "userId": "14540288352466598089"
     },
     "user_tz": 300
    },
    "id": "ymWVIli90Uu8"
   },
   "outputs": [],
   "source": [
    "# Removing trajectories with <=5 length\n",
    "idx = np.where(lengths <= 5.)[0]\n",
    "[labels.pop(j-i) for i,j in enumerate(idx)]\n",
    "[cent_data.pop(j-i) for i,j in enumerate(idx)];"
   ]
  },
  {
   "cell_type": "code",
   "execution_count": 14,
   "metadata": {
    "colab": {
     "base_uri": "https://localhost:8080/"
    },
    "executionInfo": {
     "elapsed": 10,
     "status": "ok",
     "timestamp": 1670472902685,
     "user": {
      "displayName": "Niegil Francis Muttath Joseph",
      "userId": "14540288352466598089"
     },
     "user_tz": 300
    },
    "id": "9X0N0OYxcyyJ",
    "outputId": "e7d207da-0b10-4219-ad7d-a7ab34848596"
   },
   "outputs": [
    {
     "data": {
      "text/plain": [
       "(array([], dtype=int64),)"
      ]
     },
     "execution_count": 14,
     "metadata": {},
     "output_type": "execute_result"
    }
   ],
   "source": [
    "# Checking to see if it worked \n",
    "lengths = np.array([len(i) for i in cent_data])\n",
    "np.where(lengths <= 5.)"
   ]
  },
  {
   "cell_type": "code",
   "execution_count": 31,
   "metadata": {
    "executionInfo": {
     "elapsed": 8,
     "status": "ok",
     "timestamp": 1670472902685,
     "user": {
      "displayName": "Niegil Francis Muttath Joseph",
      "userId": "14540288352466598089"
     },
     "user_tz": 300
    },
    "id": "hfPRW0S7UN4b"
   },
   "outputs": [],
   "source": [
    "# Train test split\n",
    "x_train, x_test, y_train, y_test = train_test_split(cent_data, labels, test_size=0.2)"
   ]
  },
  {
   "cell_type": "markdown",
   "metadata": {
    "id": "9_dZtq9NzYnZ"
   },
   "source": [
    "## Data Augmentation"
   ]
  },
  {
   "cell_type": "code",
   "execution_count": 18,
   "metadata": {
    "executionInfo": {
     "elapsed": 9,
     "status": "ok",
     "timestamp": 1670472902686,
     "user": {
      "displayName": "Niegil Francis Muttath Joseph",
      "userId": "14540288352466598089"
     },
     "user_tz": 300
    },
    "id": "LiOpfkOpaYuO"
   },
   "outputs": [],
   "source": [
    "x_train_aug = []\n",
    "for idx,i in enumerate(x_train):\n",
    "    ch = np.random.choice([0,1],p = [0.3,0.7])\n",
    "\n",
    "    flag = 0 \n",
    "\n",
    "    if ch == 0: # Perform data augmentation\n",
    "\n",
    "        trim = len(i)//2\n",
    "\n",
    "        if trim >= 5: # Trim if the lengths are greater than 5\n",
    "\n",
    "            aug = i.head(trim)\n",
    "\n",
    "        else: # If lengths are not greater than 1, don't trim\n",
    "\n",
    "            aug = i\n",
    "    else:\n",
    "        aug = i\n",
    "\n",
    "\n",
    "    x_train_aug.append(aug)\n"
   ]
  },
  {
   "cell_type": "code",
   "execution_count": 19,
   "metadata": {
    "colab": {
     "base_uri": "https://localhost:8080/"
    },
    "executionInfo": {
     "elapsed": 9,
     "status": "ok",
     "timestamp": 1670472902687,
     "user": {
      "displayName": "Niegil Francis Muttath Joseph",
      "userId": "14540288352466598089"
     },
     "user_tz": 300
    },
    "id": "4OWcaGqDBPvm",
    "outputId": "560f265e-c919-47cb-e3f7-41284420d962"
   },
   "outputs": [
    {
     "data": {
      "text/plain": [
       "(1605, 1605)"
      ]
     },
     "execution_count": 19,
     "metadata": {},
     "output_type": "execute_result"
    }
   ],
   "source": [
    "# Printing out the lengths after and before augmentation\n",
    "len(x_train_aug), len(x_train)"
   ]
  },
  {
   "cell_type": "markdown",
   "metadata": {},
   "source": [
    "## Data Formatting"
   ]
  },
  {
   "cell_type": "code",
   "execution_count": 32,
   "metadata": {
    "executionInfo": {
     "elapsed": 8,
     "status": "ok",
     "timestamp": 1670472902687,
     "user": {
      "displayName": "Niegil Francis Muttath Joseph",
      "userId": "14540288352466598089"
     },
     "user_tz": 300
    },
    "id": "kKLJbGtv1nlE"
   },
   "outputs": [],
   "source": [
    "# Getting the data in the required format for the model\n",
    "# Creating labels for RNN's output \n",
    "y_train = [[dt]*200 for idx,dt in enumerate(y_train)]\n",
    "y_test = [[dt]*200 for idx,dt in enumerate(y_test)]"
   ]
  },
  {
   "cell_type": "code",
   "execution_count": 33,
   "metadata": {
    "executionInfo": {
     "elapsed": 9,
     "status": "ok",
     "timestamp": 1670472902688,
     "user": {
      "displayName": "Niegil Francis Muttath Joseph",
      "userId": "14540288352466598089"
     },
     "user_tz": 300
    },
    "id": "evCXyI6-1nlE"
   },
   "outputs": [],
   "source": [
    "# Sequence length is based on data analysis\n",
    "x_train = tf.convert_to_tensor(tf.keras.preprocessing.sequence.pad_sequences(x_train, padding='post', dtype='float', maxlen=200))\n",
    "y_train = tf.convert_to_tensor(y_train)\n",
    "\n",
    "x_test = tf.convert_to_tensor(tf.keras.preprocessing.sequence.pad_sequences(x_test, padding='post', dtype='float', maxlen=200))\n",
    "y_test = tf.convert_to_tensor(y_test)"
   ]
  },
  {
   "cell_type": "code",
   "execution_count": 34,
   "metadata": {
    "executionInfo": {
     "elapsed": 9,
     "status": "ok",
     "timestamp": 1670472902688,
     "user": {
      "displayName": "Niegil Francis Muttath Joseph",
      "userId": "14540288352466598089"
     },
     "user_tz": 300
    },
    "id": "ryFy62Mk1nlF"
   },
   "outputs": [],
   "source": [
    "# One hot encoding the data for training\n",
    "y_train = tf.one_hot(y_train, 9, on_value = 1.0, off_value = 0.0)\n",
    "y_test = tf.one_hot(y_test, 9, on_value = 1.0, off_value = 0.0)"
   ]
  },
  {
   "cell_type": "markdown",
   "metadata": {},
   "source": [
    "## Model loading and testing"
   ]
  },
  {
   "cell_type": "code",
   "execution_count": 4,
   "metadata": {
    "colab": {
     "base_uri": "https://localhost:8080/"
    },
    "executionInfo": {
     "elapsed": 1549,
     "status": "ok",
     "timestamp": 1670464132234,
     "user": {
      "displayName": "Niegil Francis Muttath Joseph",
      "userId": "14540288352466598089"
     },
     "user_tz": 300
    },
    "id": "_lI1n5rWk7DF",
    "outputId": "11fbc446-b78b-4739-c7b0-cdfd12b12134"
   },
   "outputs": [],
   "source": [
    "# Testing the saved model\n",
    "# model_load = load_model('/content/drive/MyDrive/Robot perception /Modeling/models/lstm_data_trim.h5')\n",
    "model_load = load_model('./models/sep_1/lstm_rnn.h5')\n",
    "# model_load = load_model('./models/rnn.h5')\n",
    "# model_load.evaluate(x_test,y_test)"
   ]
  },
  {
   "cell_type": "code",
   "execution_count": 5,
   "metadata": {},
   "outputs": [
    {
     "name": "stdout",
     "output_type": "stream",
     "text": [
      "Model: \"model\"\n",
      "_________________________________________________________________\n",
      " Layer (type)                Output Shape              Param #   \n",
      "=================================================================\n",
      " input_layer (InputLayer)    [(None, 200, 3)]          0         \n",
      "                                                                 \n",
      " dense (Dense)               (None, 200, 15)           60        \n",
      "                                                                 \n",
      " simple_rnn (SimpleRNN)      (None, 200, 15)           465       \n",
      "                                                                 \n",
      " lstm (LSTM)                 (None, 200, 15)           1860      \n",
      "                                                                 \n",
      " dense_1 (Dense)             (None, 200, 9)            144       \n",
      "                                                                 \n",
      "=================================================================\n",
      "Total params: 2,529\n",
      "Trainable params: 2,529\n",
      "Non-trainable params: 0\n",
      "_________________________________________________________________\n"
     ]
    }
   ],
   "source": [
    "model_load.summary()"
   ]
  },
  {
   "attachments": {},
   "cell_type": "markdown",
   "metadata": {},
   "source": [
    "## Interfacing with unity"
   ]
  },
  {
   "cell_type": "code",
   "execution_count": 6,
   "metadata": {},
   "outputs": [
    {
     "data": {
      "text/plain": [
       "<function _signal.default_int_handler(signalnum, frame, /)>"
      ]
     },
     "execution_count": 6,
     "metadata": {},
     "output_type": "execute_result"
    }
   ],
   "source": [
    "# Creating a signal interrupt\n",
    "def signal_handler(signal, frame):\n",
    "    global interrupted\n",
    "    interrupted = True\n",
    "signal.signal(signal.SIGINT, signal_handler)"
   ]
  },
  {
   "cell_type": "code",
   "execution_count": 7,
   "metadata": {},
   "outputs": [],
   "source": [
    "data_ = []"
   ]
  },
  {
   "cell_type": "code",
   "execution_count": 8,
   "metadata": {},
   "outputs": [],
   "source": [
    "def thread_1():\n",
    "    old = [0.,0.,0.]\n",
    "    while True:\n",
    "        time.sleep(0.01)\n",
    "        if len(data_) > 1:\n",
    "            if old == data_[-1]:\n",
    "                continue\n",
    "            else:\n",
    "                old = data_[-1]\n",
    "                ip_data = tf.expand_dims(tf.transpose(tf.convert_to_tensor(tf.keras.preprocessing.sequence.pad_sequences(np.array(data_).T, padding='post', dtype='float', maxlen=200))),axis =0)\n",
    "                prediction = model_load.predict(ip_data,verbose = 0)\n",
    "                conf = prediction[0][len(data_)-1][np.argmax(prediction,axis=2)[0][-1]]\n",
    "                if conf >= 0.85:\n",
    "                    pred = np.argmax(prediction,axis=2)[0][-1]\n",
    "                    print(pred)\n",
    "                    sock.SendData('Predicted Class: ' + str(pred))\n",
    "                    reset = True\n",
    "\n",
    "        if interrupted:\n",
    "            break\n",
    "\n",
    "        \n"
   ]
  },
  {
   "cell_type": "code",
   "execution_count": 9,
   "metadata": {},
   "outputs": [],
   "source": [
    "def thread_2():\n",
    "\n",
    "    while True:\n",
    "\n",
    "        data = sock.ReadReceivedData() # read data\n",
    "\n",
    "        if data != None: # if NEW data has been received since last ReadReceivedData function call\n",
    "            data.split(\",\")\n",
    "            dt = [float(i) for i in data.split(\",\") if len(i)]\n",
    "            cent = [np.mean(dt[0::3]),np.mean(dt[1::3]),np.mean(dt[2::3])]\n",
    "            if len(data_) == 150:\n",
    "                data_.pop(0)\n",
    "            data_.append(cent)\n",
    "        if reset:\n",
    "            data_ = []\n",
    "            reset = False\n",
    "        if interrupted:\n",
    "            break\n",
    "        \n",
    "        time.sleep(0.01)\n"
   ]
  },
  {
   "cell_type": "code",
   "execution_count": 10,
   "metadata": {},
   "outputs": [
    {
     "name": "stdout",
     "output_type": "stream",
     "text": [
      "0.99979967\n",
      "4\n",
      "0.99886525\n",
      "4\n",
      "0.99933404\n",
      "4\n",
      "0.9989761\n",
      "4\n",
      "0.99862707\n",
      "4\n",
      "0.99794775\n",
      "4\n",
      "0.998137\n",
      "4\n",
      "0.99658173\n",
      "4\n",
      "0.92348826\n",
      "4\n",
      "0.71195185\n",
      "4\n",
      "0.34813434\n",
      "4\n",
      "0.5882653\n",
      "3\n",
      "0.69626147\n",
      "4\n",
      "0.66312474\n",
      "3\n",
      "0.6773307\n",
      "4\n",
      "0.52098095\n",
      "3\n",
      "0.813376\n",
      "4\n",
      "0.6415851\n",
      "4\n",
      "0.9667572\n",
      "4\n",
      "0.9638395\n",
      "4\n",
      "0.12320499\n",
      "4\n",
      "0.19949456\n",
      "4\n",
      "0.109665796\n",
      "4\n",
      "0.13932608\n",
      "4\n",
      "0.26177478\n",
      "4\n",
      "0.13015683\n",
      "4\n",
      "0.093424864\n",
      "4\n",
      "0.53976643\n",
      "7\n",
      "0.9069813\n",
      "7\n",
      "0.99395436\n",
      "7\n",
      "0.99163085\n",
      "7\n",
      "0.9861952\n",
      "7\n",
      "0.99945635\n",
      "7\n",
      "0.99894756\n",
      "7\n",
      "0.9848498\n",
      "7\n",
      "0.99176484\n",
      "7\n",
      "0.99855536\n",
      "7\n",
      "0.9968004\n",
      "7\n",
      "0.9338175\n",
      "7\n",
      "0.95601606\n",
      "7\n",
      "0.5503291\n",
      "7\n",
      "0.96518123\n",
      "7\n",
      "0.9458666\n",
      "7\n",
      "0.014608137\n",
      "7\n",
      "0.2273358\n",
      "4\n",
      "0.031257186\n",
      "7\n",
      "0.18342908\n",
      "4\n",
      "0.27842128\n",
      "7\n",
      "0.0475834\n",
      "7\n",
      "0.09745315\n",
      "5\n",
      "0.99407154\n",
      "8\n",
      "0.016512437\n",
      "7\n",
      "0.06400465\n",
      "5\n",
      "0.075011\n",
      "4\n",
      "0.50737095\n",
      "4\n",
      "0.3613936\n",
      "4\n",
      "0.13362387\n",
      "4\n",
      "0.95459735\n",
      "1\n",
      "0.9685796\n",
      "1\n",
      "0.970708\n",
      "1\n",
      "0.9704897\n",
      "1\n",
      "0.96993726\n",
      "1\n",
      "0.96923214\n",
      "1\n",
      "0.9679078\n",
      "1\n",
      "0.9696507\n",
      "1\n",
      "0.9703039\n",
      "1\n",
      "0.97152746\n",
      "1\n",
      "0.9723936\n",
      "1\n",
      "0.97323734\n",
      "1\n",
      "0.97362864\n",
      "1\n",
      "0.9730645\n",
      "1\n",
      "0.97148556\n",
      "1\n",
      "0.96240336\n",
      "1\n",
      "0.9039501\n",
      "1\n",
      "0.031660356\n",
      "4\n",
      "0.10668233\n",
      "4\n",
      "0.11423851\n",
      "4\n",
      "0.135442\n",
      "4\n",
      "0.114354454\n",
      "4\n",
      "0.12534918\n",
      "4\n",
      "0.18342406\n",
      "4\n",
      "0.17717604\n",
      "4\n",
      "0.2367544\n",
      "4\n",
      "0.44145346\n",
      "4\n",
      "0.34529132\n",
      "4\n",
      "0.03693706\n",
      "4\n",
      "0.8881471\n",
      "1\n",
      "0.94261265\n",
      "1\n",
      "0.9507405\n",
      "1\n",
      "0.95729667\n",
      "1\n",
      "0.96399295\n",
      "1\n",
      "0.97053707\n",
      "1\n",
      "0.97617155\n",
      "1\n",
      "0.97999865\n",
      "1\n",
      "0.9800378\n",
      "1\n",
      "0.9815341\n",
      "1\n",
      "0.981821\n",
      "1\n",
      "0.9808338\n",
      "1\n",
      "0.97679543\n",
      "1\n",
      "0.969119\n",
      "1\n",
      "0.94423634\n",
      "1\n",
      "0.6500916\n",
      "1\n",
      "0.02354057\n",
      "4\n",
      "0.061684333\n",
      "4\n",
      "0.10274587\n",
      "4\n",
      "0.11204507\n",
      "4\n",
      "0.15368736\n",
      "4\n",
      "0.2232916\n",
      "4\n",
      "0.24612282\n",
      "4\n",
      "0.36227477\n",
      "4\n",
      "0.16543083\n",
      "4\n",
      "0.34208947\n",
      "5\n",
      "0.035701502\n",
      "5\n",
      "0.009768416\n",
      "5\n",
      "0.008065877\n",
      "5\n",
      "0.9935256\n",
      "8\n",
      "0.99927956\n",
      "8\n",
      "0.99975926\n",
      "8\n",
      "0.9997365\n",
      "8\n",
      "0.9999397\n",
      "8\n",
      "0.9999424\n",
      "8\n",
      "0.9999424\n",
      "8\n",
      "0.99976605\n",
      "8\n",
      "0.99993575\n",
      "8\n",
      "0.99975246\n",
      "8\n",
      "0.99992335\n",
      "8\n",
      "0.9997441\n",
      "8\n",
      "0.9998796\n",
      "8\n",
      "0.99982494\n",
      "8\n",
      "0.99630797\n",
      "8\n",
      "0.9946002\n",
      "8\n",
      "0.98991334\n",
      "8\n",
      "0.98506653\n",
      "8\n",
      "0.9190103\n",
      "8\n",
      "0.6751784\n",
      "7\n",
      "0.055392355\n",
      "4\n",
      "0.79398096\n",
      "7\n",
      "0.83183545\n",
      "7\n",
      "0.78374475\n",
      "7\n",
      "0.67680115\n",
      "7\n",
      "0.07596854\n",
      "4\n",
      "0.19970468\n",
      "4\n",
      "0.18921655\n",
      "4\n",
      "0.116517484\n",
      "5\n",
      "0.81052357\n",
      "2\n",
      "0.9886918\n",
      "2\n",
      "0.995327\n",
      "2\n",
      "0.99723524\n",
      "2\n",
      "0.9976139\n",
      "2\n",
      "0.9977889\n",
      "2\n",
      "0.99780554\n",
      "2\n",
      "0.99764144\n",
      "2\n",
      "0.99749136\n",
      "2\n",
      "0.99760497\n",
      "2\n",
      "0.99750656\n",
      "2\n",
      "0.9974745\n",
      "2\n",
      "0.99756694\n",
      "2\n",
      "0.99746335\n",
      "2\n",
      "0.9966815\n",
      "2\n",
      "0.98847103\n",
      "2\n",
      "0.7047531\n",
      "2\n",
      "0.0002794875\n",
      "5\n",
      "0.026564123\n",
      "4\n",
      "0.03469038\n",
      "4\n",
      "0.043653842\n",
      "4\n",
      "0.07355549\n",
      "4\n",
      "0.13219926\n",
      "4\n",
      "0.14852709\n",
      "4\n",
      "0.122723535\n",
      "4\n",
      "0.35718456\n",
      "5\n",
      "0.8871639\n",
      "2\n",
      "0.9796761\n",
      "2\n",
      "0.99434185\n",
      "2\n",
      "0.9964947\n",
      "2\n",
      "0.99721485\n",
      "2\n",
      "0.9973814\n",
      "2\n",
      "0.9974293\n",
      "2\n",
      "0.9974196\n",
      "2\n",
      "0.997375\n",
      "2\n",
      "0.9973289\n",
      "2\n",
      "0.99726677\n",
      "2\n",
      "0.99719363\n",
      "2\n",
      "0.9971119\n",
      "2\n",
      "0.9969779\n",
      "2\n",
      "0.9967618\n",
      "2\n",
      "0.996366\n",
      "2\n",
      "0.99546033\n",
      "2\n",
      "0.9933622\n",
      "2\n",
      "0.98411524\n",
      "2\n",
      "0.88438797\n",
      "2\n",
      "0.061647948\n",
      "4\n",
      "0.089047834\n",
      "4\n",
      "0.124370426\n",
      "4\n",
      "0.1357687\n",
      "4\n",
      "0.14134309\n",
      "4\n",
      "0.13277541\n",
      "4\n",
      "0.112511024\n",
      "4\n",
      "0.09904364\n",
      "4\n",
      "0.10870447\n",
      "4\n",
      "0.1952267\n",
      "4\n",
      "0.070487894\n",
      "4\n",
      "0.14772293\n",
      "4\n",
      "0.300249\n",
      "4\n",
      "0.14815237\n",
      "4\n",
      "0.28043687\n",
      "4\n",
      "0.27495018\n",
      "4\n",
      "0.5607744\n",
      "4\n",
      "0.7683509\n",
      "4\n",
      "0.77017576\n",
      "4\n",
      "0.68238866\n",
      "4\n",
      "0.65082896\n",
      "4\n",
      "0.659851\n",
      "4\n",
      "0.67801535\n",
      "4\n",
      "0.69535726\n",
      "4\n",
      "0.702233\n",
      "4\n",
      "0.6749954\n",
      "4\n",
      "0.62015563\n",
      "4\n",
      "0.4918215\n",
      "4\n",
      "0.33242872\n",
      "4\n",
      "0.22147736\n",
      "4\n",
      "0.18670896\n",
      "4\n",
      "0.11821827\n",
      "4\n",
      "0.12690698\n",
      "4\n",
      "0.19168597\n",
      "4\n",
      "0.33345214\n",
      "4\n",
      "0.35353634\n",
      "4\n",
      "0.3319551\n",
      "4\n",
      "0.33406758\n",
      "4\n",
      "0.23794894\n",
      "4\n",
      "0.033157084\n",
      "4\n",
      "0.29669735\n",
      "5\n",
      "0.037527766\n",
      "5\n",
      "0.01447855\n",
      "5\n",
      "0.99096745\n",
      "8\n",
      "0.99972683\n",
      "8\n",
      "0.9998803\n",
      "8\n",
      "0.99963045\n",
      "8\n",
      "0.9999151\n",
      "8\n",
      "0.9999206\n",
      "8\n",
      "0.9997768\n",
      "8\n",
      "0.9999107\n",
      "8\n",
      "0.9995521\n",
      "8\n",
      "0.9998714\n",
      "8\n",
      "0.99982846\n",
      "8\n",
      "0.9994779\n",
      "8\n",
      "0.049236592\n",
      "5\n",
      "0.08267056\n",
      "5\n",
      "0.09833333\n",
      "5\n",
      "0.10155629\n",
      "5\n",
      "0.09672824\n",
      "5\n",
      "0.084984764\n",
      "5\n",
      "0.14709042\n",
      "5\n",
      "0.13286705\n",
      "4\n",
      "0.13347279\n",
      "4\n",
      "0.15810813\n",
      "4\n",
      "0.16929287\n",
      "4\n",
      "0.1830646\n",
      "4\n",
      "0.22285043\n",
      "4\n",
      "0.2710565\n",
      "4\n",
      "0.50100434\n",
      "4\n",
      "0.45666564\n",
      "4\n",
      "0.43742603\n",
      "4\n",
      "0.4675488\n",
      "4\n",
      "0.5843437\n",
      "4\n",
      "0.64832425\n",
      "4\n",
      "0.6214178\n",
      "4\n",
      "0.6268367\n",
      "4\n",
      "0.6314216\n",
      "4\n",
      "0.64258754\n",
      "4\n",
      "0.6418413\n",
      "4\n",
      "0.645721\n",
      "4\n",
      "0.6196556\n",
      "4\n",
      "0.55923766\n",
      "4\n",
      "0.3533025\n",
      "4\n",
      "0.24785334\n",
      "4\n",
      "0.18393037\n",
      "4\n",
      "0.1829413\n",
      "4\n",
      "0.17465349\n",
      "4\n",
      "0.18042545\n",
      "4\n",
      "0.19512376\n",
      "4\n",
      "0.15115948\n",
      "4\n",
      "0.15489455\n",
      "4\n",
      "0.09820313\n",
      "4\n",
      "0.081944\n",
      "4\n",
      "0.078759\n",
      "4\n",
      "0.07658196\n",
      "4\n",
      "0.13549854\n",
      "4\n",
      "0.19528973\n",
      "4\n",
      "0.30300626\n",
      "4\n",
      "0.4474019\n",
      "4\n",
      "0.5977813\n",
      "4\n",
      "0.31488293\n",
      "4\n",
      "0.21790637\n",
      "3\n",
      "0.9880386\n",
      "0\n",
      "0.9987073\n",
      "0\n",
      "0.9980263\n",
      "0\n",
      "0.98645985\n",
      "0\n",
      "0.96710634\n",
      "0\n",
      "0.9607999\n",
      "0\n",
      "0.9532479\n",
      "0\n",
      "0.9439204\n",
      "0\n",
      "0.9388143\n",
      "0\n",
      "0.9377787\n",
      "0\n",
      "0.93951184\n",
      "0\n",
      "0.9427486\n",
      "0\n",
      "0.94938797\n",
      "0\n",
      "0.95334125\n",
      "0\n",
      "0.95696133\n",
      "0\n",
      "0.9712288\n",
      "0\n",
      "0.91860527\n",
      "0\n",
      "0.93561304\n",
      "0\n",
      "0.81258655\n",
      "0\n",
      "0.5558298\n",
      "3\n",
      "0.61291325\n",
      "3\n",
      "0.39257446\n",
      "3\n",
      "0.35290703\n",
      "3\n",
      "0.3526326\n",
      "3\n",
      "0.34604445\n",
      "3\n",
      "0.35456267\n",
      "3\n",
      "0.07772183\n",
      "4\n",
      "0.10390384\n",
      "4\n",
      "0.15661274\n",
      "4\n",
      "0.8354947\n",
      "1\n",
      "0.92920995\n",
      "1\n",
      "0.96304065\n",
      "1\n",
      "0.9692537\n",
      "1\n",
      "0.97347516\n",
      "1\n",
      "0.9766332\n",
      "1\n",
      "0.97629684\n",
      "1\n",
      "0.97624105\n",
      "1\n",
      "0.9806656\n",
      "1\n",
      "0.9832228\n",
      "1\n",
      "0.98474556\n",
      "1\n",
      "0.98609924\n",
      "1\n",
      "0.98568845\n",
      "1\n",
      "0.9852143\n",
      "1\n",
      "0.9836008\n",
      "1\n",
      "0.96978474\n",
      "1\n",
      "0.7273812\n",
      "1\n",
      "0.063033596\n",
      "4\n",
      "0.09737832\n",
      "4\n",
      "0.098496296\n",
      "4\n",
      "0.108793445\n",
      "4\n",
      "0.19983569\n",
      "4\n",
      "0.1506817\n",
      "4\n",
      "0.14196715\n",
      "4\n",
      "0.70462936\n",
      "5\n",
      "0.81145513\n",
      "5\n",
      "0.9378951\n",
      "5\n",
      "0.97595084\n",
      "5\n",
      "0.9791252\n",
      "5\n",
      "0.97274494\n",
      "5\n",
      "0.96340275\n",
      "5\n",
      "0.9785902\n",
      "5\n",
      "0.965202\n",
      "5\n",
      "0.9638831\n",
      "5\n",
      "0.97035676\n",
      "5\n",
      "0.9705278\n",
      "5\n",
      "0.9691831\n",
      "5\n",
      "0.9670433\n",
      "5\n",
      "0.9281369\n",
      "5\n",
      "0.8196539\n",
      "5\n",
      "0.12263607\n",
      "5\n",
      "0.026214363\n",
      "5\n",
      "0.02222814\n",
      "5\n",
      "0.024449741\n",
      "5\n",
      "0.033764664\n",
      "5\n"
     ]
    }
   ],
   "source": [
    "interrupted = False\n",
    "reset = False\n",
    "sock = U.UdpComms(udpIP=\"127.0.0.1\", portTX=8000, portRX=8001, enableRX=True, suppressWarnings=True)\n",
    "x_1 = threading.Thread(target=thread_1, args=())\n",
    "x_2 = threading.Thread(target=thread_2, args=())\n",
    "x_1.start()\n",
    "x_2.start()\n",
    "\n",
    "x_1.join()\n",
    "x_2.join()"
   ]
  },
  {
   "cell_type": "code",
   "execution_count": null,
   "metadata": {},
   "outputs": [],
   "source": [
    "# !rm -rf ./temp_data/sep_1/data"
   ]
  },
  {
   "cell_type": "code",
   "execution_count": null,
   "metadata": {},
   "outputs": [],
   "source": [
    "\n",
    "# Create UDP socket to use for sending (and receiving)\n",
    "\n",
    "\n",
    "i = 0\n",
    "prevdata = 0\n",
    "while True:\n",
    "    #sock.SendData('Sent from Python: ' + str(i)) # Send this string to other application\n",
    "    i += 1\n",
    "\n",
    "    data = sock.ReadReceivedData() # read data\n",
    "\n",
    "    if data != None: # if NEW data has been received since last ReadReceivedData function call\n",
    "        print(data) # print new received data\n",
    "        # data1=int(data[186:])\n",
    "        # if((data1-prevdata)>1):\n",
    "        #     print(\"missed packet : \",data1)\n",
    "        # prevdata = data1\n",
    "    time.sleep(0.01)"
   ]
  }
 ],
 "metadata": {
  "accelerator": "GPU",
  "colab": {
   "provenance": []
  },
  "gpuClass": "standard",
  "kernelspec": {
   "display_name": "Python 3",
   "language": "python",
   "name": "python3"
  },
  "language_info": {
   "codemirror_mode": {
    "name": "ipython",
    "version": 3
   },
   "file_extension": ".py",
   "mimetype": "text/x-python",
   "name": "python",
   "nbconvert_exporter": "python",
   "pygments_lexer": "ipython3",
   "version": "3.10.8"
  },
  "vscode": {
   "interpreter": {
    "hash": "26de051ba29f2982a8de78e945f0abaf191376122a1563185a90213a26c5da77"
   }
  }
 },
 "nbformat": 4,
 "nbformat_minor": 1
}
